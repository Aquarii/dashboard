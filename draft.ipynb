{
 "cells": [
  {
   "attachments": {},
   "cell_type": "markdown",
   "metadata": {},
   "source": [
    "# Main.py"
   ]
  },
  {
   "cell_type": "code",
   "execution_count": 1,
   "metadata": {},
   "outputs": [
    {
     "data": {
      "text/plain": [
       "'2023-03-12 (Sunday)'"
      ]
     },
     "execution_count": 1,
     "metadata": {},
     "output_type": "execute_result"
    }
   ],
   "source": [
    "\n",
    "#import asyncio\n",
    "from datetime import datetime\n",
    "from tqdm import tqdm\n",
    "# # ---------- database ------------\n",
    "import pandas as pd\n",
    "#from sqlalchemy import create_engine, URL, text\n",
    "import psycopg2 as pg\n",
    "# # ---------- alpar libs ----------\n",
    "import config \n",
    "from data_ops import (\n",
    "    fetch, \n",
    "    latest_workday, \n",
    "    db_ops\n",
    ") \n",
    "\n",
    "# from pathlib import Path\n",
    "import requests \n",
    "import more_itertools as mit\n",
    "# import itertools as it\n",
    "import sqlite3 as db \n",
    "\n",
    "\n",
    "cfg = config.configs \n",
    "\n",
    "datetime.strptime(str(latest_workday), '%Y%m%d').strftime('%Y-%m-%d (%A)')"
   ]
  },
  {
   "cell_type": "code",
   "execution_count": 22,
   "metadata": {},
   "outputs": [],
   "source": [
    "pd.options.display.max_columns = 40\n",
    "pd.options.display.max_rows = 5"
   ]
  },
  {
   "cell_type": "code",
   "execution_count": 2,
   "metadata": {
    "tags": [
     "snippets"
    ]
   },
   "outputs": [],
   "source": [
    "# -------------extras: settings, sample df------------\n",
    "# ---------------------settings------------\n",
    "# \n",
    "# with pd.option_context('display.max_colwidth', None,\n",
    "#                        'display.max_columns', None,\n",
    "#                        'display.max_rows', None):\n",
    "#     display(types_df)\n",
    "#\n",
    "# -------------sample dummy dataframe-------------------\n",
    "# \n",
    "# prev = pd.DataFrame({\n",
    "#     'name':['first_name','first_name', 'first_name', 'first_name', 'first_name'],\n",
    "#     'fetch_date': ['20230122', '20230123', '20230122', '20230123', '20230123'],\n",
    "#     'id': [100,100,100,125,126]}, \n",
    "#     index=['917857106093847', '1050751214677134', '2589887561569709', '3542690854557886', '3772339654185462'])\n",
    "# update = pd.DataFrame({\n",
    "#     'name':['second_old_name', 'first_new_name', 'third_old_name_updated', 'second_new_name'],\n",
    "#     'fetch_date': ['20230123', '20230121', '20230122', '20230123'],\n",
    "#     'id': [200,200,130,130]}, \n",
    "#     index=['1050751214677134', '3542690854456286', '2589887561569709', '3772339112185462'])\n",
    "\n",
    "# headers = {\n",
    "#                     'User-Agent': 'Mozilla/5.0 (Windows NT 10.0; Win64; x64; rv:101.0) Gecko/20100101 Firefox/101.0',\n",
    "#                     'Accept': 'text/html,application/xhtml+xml,application/xml;q=0.9,image/avif,image/webp,*/*;q=0.8',\n",
    "#                     'Accept-Language': 'en-US,en;q=0.5',\n",
    "#                     # 'Accept-Encoding': 'gzip, deflate',\n",
    "#                     'Connection': 'keep-alive',\n",
    "#                     # 'Cookie': '_ga=GA1.2.1125034676.1645178849',\n",
    "#                     'Upgrade-Insecure-Requests': '1',\n",
    "#                     'Pragma': 'no-cache',\n",
    "#                     'Cache-Control': 'no-cache',\n",
    "#                 }\n",
    "\n",
    "# import numpy as np\n",
    "# dates = pd.date_range('2023-02-01', periods=8)\n",
    "# df = pd.DataFrame(np.random.randn(8,4), columns=['A','B','C','D'], index=dates)\n",
    "# df2 = pd.DataFrame(np.random.randn(8,4), columns=['A','B','C','D'], index=dates)"
   ]
  },
  {
   "cell_type": "code",
   "execution_count": 30,
   "metadata": {},
   "outputs": [],
   "source": [
    "conn = db.connect(cfg['PATH']['DB'])\n",
    "# region: sqlalchemy connection\n",
    "# db_url = URL.create(\n",
    "#     'postgresql+psycopg2',\n",
    "#     username = cfg['DB']['USERNAME'],\n",
    "#     password = cfg['DB']['PASSWORD'],\n",
    "#     host = cfg['DB']['HOST'],\n",
    "#     database = cfg['DB']['NAME']\n",
    "# )\n",
    "# engine = create_engine(db_url, echo=False)\n",
    "# conn = engine.connect()\n",
    "# endregion"
   ]
  },
  {
   "cell_type": "code",
   "execution_count": 32,
   "metadata": {},
   "outputs": [],
   "source": [
    "instruments = pd.read_sql(\n",
    "    f'''\n",
    "    SELECT id, tableu_code, mod_date \n",
    "    FROM instruments_all\n",
    "    WHERE mod_date > {str(cfg['LAST_UPDATE']['INSTRUMENTS'])}\n",
    "    ''', \n",
    "    con= conn, \n",
    "    index_col= 'id'\n",
    ")\n",
    "\n",
    "ids_to_get_attrs_for = instruments[instruments['tableu_code'] != '6'].index "
   ]
  },
  {
   "cell_type": "code",
   "execution_count": 35,
   "metadata": {},
   "outputs": [
    {
     "data": {
      "text/plain": [
       "Index(['3203898026678865', '10919655792568926', '14427168056799610',\n",
       "       '16330743198286823', '21727652065573865', '22260326095996531',\n",
       "       '36773155987365094', '37366608481858080', '40553302624764543',\n",
       "       '41302553376174581', '42538255636473499', '42892937789646488',\n",
       "       '47563321799863211', '49869693814643443', '50002340308486819',\n",
       "       '53686258677793038', '55109311702773448', '60095061789823130',\n",
       "       '61725225143026283', '62107151670661969', '67612261115225625'],\n",
       "      dtype='object', name='id')"
      ]
     },
     "execution_count": 35,
     "metadata": {},
     "output_type": "execute_result"
    }
   ],
   "source": [
    "ids_to_get_attrs_for"
   ]
  },
  {
   "cell_type": "code",
   "execution_count": 34,
   "metadata": {},
   "outputs": [
    {
     "name": "stdout",
     "output_type": "stream",
     "text": [
      "['3203898026678865', '10919655792568926', '14427168056799610', '16330743198286823', '21727652065573865', '22260326095996531', '36773155987365094', '37366608481858080', '40553302624764543', '41302553376174581', '42538255636473499', '42892937789646488', '47563321799863211', '49869693814643443', '50002340308486819', '53686258677793038', '55109311702773448', '60095061789823130', '61725225143026283', '62107151670661969', '67612261115225625']\n"
     ]
    }
   ],
   "source": [
    "for chunk in mit.ichunked(ids_to_get_attrs_for, 100):\n",
    "    print(list(chunk))"
   ]
  },
  {
   "cell_type": "code",
   "execution_count": null,
   "metadata": {},
   "outputs": [],
   "source": []
  },
  {
   "attachments": {},
   "cell_type": "markdown",
   "metadata": {},
   "source": [
    "## Valid/Invalid"
   ]
  },
  {
   "cell_type": "code",
   "execution_count": 19,
   "metadata": {},
   "outputs": [
    {
     "data": {
      "text/plain": [
       "20230301"
      ]
     },
     "execution_count": 19,
     "metadata": {},
     "output_type": "execute_result"
    }
   ],
   "source": [
    "latest_workday_parsed = datetime.strptime(str(latest_workday), '%Y%m%d')\n",
    "delta = (latest_workday_parsed.weekday() - 2) % 7\n",
    "last_wed_date = latest_workday - delta\n",
    "last_wed_date"
   ]
  },
  {
   "cell_type": "code",
   "execution_count": null,
   "metadata": {},
   "outputs": [],
   "source": [
    "def load_instruments(*types):\n",
    "    pass # default=valid, others=invalid, history, saham, preemptive rights, otc"
   ]
  },
  {
   "attachments": {},
   "cell_type": "markdown",
   "metadata": {},
   "source": [
    "### اینا رو نگه دارم برای بعد ببینم داستانشون چیه. "
   ]
  },
  {
   "cell_type": "code",
   "execution_count": 11,
   "metadata": {
    "tags": [
     "parameters"
    ]
   },
   "outputs": [],
   "source": [
    "insts_overall = fetch.instruments(0)\n",
    "# آخرین ماد هر نمادی رو ک از این تاریخ تا الان معامله شده باشه رو نشون میده\n",
    "# بیشتر از این یکی (با افزایش سرمایه) میاره تعداد نمادها رو\n",
    "fetch.instruments_and_share_increase()\n",
    "# فکت: ومهان و کیمیا رو ک امروز -یعنی آخرین روز هفته- بعد از بازار بسته شدن رو اصلا توی نمادها نیاورد\n",
    "# چرا؟ باید ببینم این دو تا چند روز دیگه ک باز شدن چ بلایی سرشون میاد؟ افزایش سرمایه میدن؟ یا چی؟ چون کیمیا ک افزایش سرمایه ثبت کرده. حالا باید ببینم چی میشه...\n",
    "valid_ziad = insts_overall[insts_overall['mod_date']> '20230301']"
   ]
  },
  {
   "cell_type": "code",
   "execution_count": 10,
   "metadata": {},
   "outputs": [],
   "source": [
    "insts, share = fetch.instruments_and_share_increase(0,0)\n",
    "valid_kam = insts[insts['mod_date']> '20230301']"
   ]
  },
  {
   "cell_type": "code",
   "execution_count": 12,
   "metadata": {},
   "outputs": [
    {
     "data": {
      "text/html": [
       "<div>\n",
       "<style scoped>\n",
       "    .dataframe tbody tr th:only-of-type {\n",
       "        vertical-align: middle;\n",
       "    }\n",
       "\n",
       "    .dataframe tbody tr th {\n",
       "        vertical-align: top;\n",
       "    }\n",
       "\n",
       "    .dataframe thead th {\n",
       "        text-align: right;\n",
       "    }\n",
       "</style>\n",
       "<table border=\"1\" class=\"dataframe\">\n",
       "  <thead>\n",
       "    <tr style=\"text-align: right;\">\n",
       "      <th></th>\n",
       "      <th>inst_code_12</th>\n",
       "      <th>inst_code_5</th>\n",
       "      <th>name_latin</th>\n",
       "      <th>company_code_4</th>\n",
       "      <th>ticker</th>\n",
       "      <th>name</th>\n",
       "      <th>isin</th>\n",
       "      <th>mod_date</th>\n",
       "      <th>market_code</th>\n",
       "      <th>company_name</th>\n",
       "      <th>status_code</th>\n",
       "      <th>group_code</th>\n",
       "      <th>market_type_code</th>\n",
       "      <th>tableu_code</th>\n",
       "      <th>industry_sector_code</th>\n",
       "      <th>industry_subsector_code</th>\n",
       "      <th>type_code</th>\n",
       "    </tr>\n",
       "    <tr>\n",
       "      <th>id</th>\n",
       "      <th></th>\n",
       "      <th></th>\n",
       "      <th></th>\n",
       "      <th></th>\n",
       "      <th></th>\n",
       "      <th></th>\n",
       "      <th></th>\n",
       "      <th></th>\n",
       "      <th></th>\n",
       "      <th></th>\n",
       "      <th></th>\n",
       "      <th></th>\n",
       "      <th></th>\n",
       "      <th></th>\n",
       "      <th></th>\n",
       "      <th></th>\n",
       "      <th></th>\n",
       "    </tr>\n",
       "  </thead>\n",
       "  <tbody>\n",
       "    <tr>\n",
       "      <th>27814844870305607</th>\n",
       "      <td>IRO3KZGZ0001</td>\n",
       "      <td>KZGZ1</td>\n",
       "      <td>Kimia Zanjan Co</td>\n",
       "      <td>KZGZ</td>\n",
       "      <td>کیمیا</td>\n",
       "      <td>معدنی کیمیای زنجان گستران</td>\n",
       "      <td>IRO3KZGZ0008</td>\n",
       "      <td>20230304</td>\n",
       "      <td>2</td>\n",
       "      <td>معدنی کیمیای زنجان گستران</td>\n",
       "      <td>A</td>\n",
       "      <td>Z1</td>\n",
       "      <td>NO</td>\n",
       "      <td>3</td>\n",
       "      <td>27</td>\n",
       "      <td>2720</td>\n",
       "      <td>303</td>\n",
       "    </tr>\n",
       "    <tr>\n",
       "      <th>58964593134314938</th>\n",
       "      <td>IRO3MEAZ0001</td>\n",
       "      <td>MEAZ1</td>\n",
       "      <td>Mehr Ayandegan</td>\n",
       "      <td>MEAZ</td>\n",
       "      <td>ومهان</td>\n",
       "      <td>گروه توسعه مالی مهر آیندگان</td>\n",
       "      <td>IRO3MEAZ0007</td>\n",
       "      <td>20230304</td>\n",
       "      <td>2</td>\n",
       "      <td>گروه توسعه مالی مهر آیندگان</td>\n",
       "      <td>A</td>\n",
       "      <td>Z1</td>\n",
       "      <td>NO</td>\n",
       "      <td>3</td>\n",
       "      <td>56</td>\n",
       "      <td>5699</td>\n",
       "      <td>303</td>\n",
       "    </tr>\n",
       "  </tbody>\n",
       "</table>\n",
       "</div>"
      ],
      "text/plain": [
       "                   inst_code_12 inst_code_5       name_latin company_code_4  \\\n",
       "id                                                                            \n",
       "27814844870305607  IRO3KZGZ0001       KZGZ1  Kimia Zanjan Co           KZGZ   \n",
       "58964593134314938  IRO3MEAZ0001       MEAZ1   Mehr Ayandegan           MEAZ   \n",
       "\n",
       "                  ticker                         name          isin  mod_date  \\\n",
       "id                                                                              \n",
       "27814844870305607  کیمیا    معدنی کیمیای زنجان گستران  IRO3KZGZ0008  20230304   \n",
       "58964593134314938  ومهان  گروه توسعه مالی مهر آیندگان  IRO3MEAZ0007  20230304   \n",
       "\n",
       "                  market_code                 company_name status_code  \\\n",
       "id                                                                       \n",
       "27814844870305607           2    معدنی کیمیای زنجان گستران           A   \n",
       "58964593134314938           2  گروه توسعه مالی مهر آیندگان           A   \n",
       "\n",
       "                  group_code market_type_code tableu_code  \\\n",
       "id                                                          \n",
       "27814844870305607         Z1               NO           3   \n",
       "58964593134314938         Z1               NO           3   \n",
       "\n",
       "                  industry_sector_code industry_subsector_code type_code  \n",
       "id                                                                        \n",
       "27814844870305607                  27                     2720       303  \n",
       "58964593134314938                  56                     5699       303  "
      ]
     },
     "execution_count": 12,
     "metadata": {},
     "output_type": "execute_result"
    }
   ],
   "source": [
    "valid_ziad[~valid_ziad.index.isin(valid_kam.index)]"
   ]
  },
  {
   "attachments": {},
   "cell_type": "markdown",
   "metadata": {},
   "source": [
    "### Categorization"
   ]
  },
  {
   "cell_type": "code",
   "execution_count": 51,
   "metadata": {},
   "outputs": [
    {
     "data": {
      "text/html": [
       "<div>\n",
       "<style scoped>\n",
       "    .dataframe tbody tr th:only-of-type {\n",
       "        vertical-align: middle;\n",
       "    }\n",
       "\n",
       "    .dataframe tbody tr th {\n",
       "        vertical-align: top;\n",
       "    }\n",
       "\n",
       "    .dataframe thead th {\n",
       "        text-align: right;\n",
       "    }\n",
       "</style>\n",
       "<table border=\"1\" class=\"dataframe\">\n",
       "  <thead>\n",
       "    <tr style=\"text-align: right;\">\n",
       "      <th></th>\n",
       "      <th>ticker</th>\n",
       "      <th>name</th>\n",
       "      <th>isin</th>\n",
       "      <th>mod_date</th>\n",
       "      <th>market_code</th>\n",
       "      <th>status_code</th>\n",
       "      <th>group_code</th>\n",
       "      <th>market_type_code</th>\n",
       "      <th>tableu_code</th>\n",
       "      <th>type_code</th>\n",
       "      <th>بازار</th>\n",
       "      <th>زیر گروه صنعت</th>\n",
       "      <th>کد زیر گروه صنعت</th>\n",
       "      <th>کد گروه صنعت</th>\n",
       "      <th>گروه صنعت</th>\n",
       "      <th>type</th>\n",
       "      <th>sub_type</th>\n",
       "      <th>last_fetch_daily_quotes</th>\n",
       "    </tr>\n",
       "    <tr>\n",
       "      <th>id</th>\n",
       "      <th></th>\n",
       "      <th></th>\n",
       "      <th></th>\n",
       "      <th></th>\n",
       "      <th></th>\n",
       "      <th></th>\n",
       "      <th></th>\n",
       "      <th></th>\n",
       "      <th></th>\n",
       "      <th></th>\n",
       "      <th></th>\n",
       "      <th></th>\n",
       "      <th></th>\n",
       "      <th></th>\n",
       "      <th></th>\n",
       "      <th></th>\n",
       "      <th></th>\n",
       "      <th></th>\n",
       "    </tr>\n",
       "  </thead>\n",
       "  <tbody>\n",
       "    <tr>\n",
       "      <th>22129017544200</th>\n",
       "      <td>خاذینح</td>\n",
       "      <td>ح . سایپاآذین</td>\n",
       "      <td>IRR1AZIN0106</td>\n",
       "      <td>20200516</td>\n",
       "      <td>1</td>\n",
       "      <td>A</td>\n",
       "      <td>N2</td>\n",
       "      <td>NO</td>\n",
       "      <td>5</td>\n",
       "      <td>400</td>\n",
       "      <td>بازار دوم بورس</td>\n",
       "      <td>سایر قطعات یدکی و وسایل نقلیه موتوری</td>\n",
       "      <td>3499</td>\n",
       "      <td>34</td>\n",
       "      <td>خودرو و ساخت قطعات</td>\n",
       "      <td>حق تقدم</td>\n",
       "      <td>حق تقدم سهم</td>\n",
       "      <td>20230301</td>\n",
       "    </tr>\n",
       "    <tr>\n",
       "      <th>94378630649293</th>\n",
       "      <td>اراد110</td>\n",
       "      <td>مرابحه عام دولت110-ش.خ040401</td>\n",
       "      <td>IRB4SO110443</td>\n",
       "      <td>20221212</td>\n",
       "      <td>2</td>\n",
       "      <td>A</td>\n",
       "      <td>17</td>\n",
       "      <td>NO</td>\n",
       "      <td>4</td>\n",
       "      <td>706</td>\n",
       "      <td>-</td>\n",
       "      <td>اوراق مرابحه دولتی با ضمانت دولت</td>\n",
       "      <td>6945</td>\n",
       "      <td>69</td>\n",
       "      <td>اوراق تامین مالی</td>\n",
       "      <td>اوراق مشارکت</td>\n",
       "      <td>صکوک اختصاصی</td>\n",
       "      <td>20230301</td>\n",
       "    </tr>\n",
       "    <tr>\n",
       "      <th>...</th>\n",
       "      <td>...</td>\n",
       "      <td>...</td>\n",
       "      <td>...</td>\n",
       "      <td>...</td>\n",
       "      <td>...</td>\n",
       "      <td>...</td>\n",
       "      <td>...</td>\n",
       "      <td>...</td>\n",
       "      <td>...</td>\n",
       "      <td>...</td>\n",
       "      <td>...</td>\n",
       "      <td>...</td>\n",
       "      <td>...</td>\n",
       "      <td>...</td>\n",
       "      <td>...</td>\n",
       "      <td>...</td>\n",
       "      <td>...</td>\n",
       "      <td>...</td>\n",
       "    </tr>\n",
       "    <tr>\n",
       "      <th>72002976013856737</th>\n",
       "      <td>57-بانکها6</td>\n",
       "      <td>57-بانکها</td>\n",
       "      <td>IRX6X57T0000</td>\n",
       "      <td>20171212</td>\n",
       "      <td>1</td>\n",
       "      <td>I</td>\n",
       "      <td>00</td>\n",
       "      <td>ID</td>\n",
       "      <td>6</td>\n",
       "      <td>68</td>\n",
       "      <td>None</td>\n",
       "      <td>None</td>\n",
       "      <td>None</td>\n",
       "      <td>None</td>\n",
       "      <td>None</td>\n",
       "      <td>شاخص</td>\n",
       "      <td>شاخص</td>\n",
       "      <td>20230301</td>\n",
       "    </tr>\n",
       "    <tr>\n",
       "      <th>72044846109864381</th>\n",
       "      <td>پارتا</td>\n",
       "      <td>مجتمع صنعتی آرتاویل تایر</td>\n",
       "      <td>IRO3ARTZ0005</td>\n",
       "      <td>20230304</td>\n",
       "      <td>2</td>\n",
       "      <td>A</td>\n",
       "      <td>Z1</td>\n",
       "      <td>NO</td>\n",
       "      <td>3</td>\n",
       "      <td>303</td>\n",
       "      <td>بازار دوم فرابورس</td>\n",
       "      <td>تولید تایر و بازسازی تایرهای لاستیکی</td>\n",
       "      <td>2511</td>\n",
       "      <td>25</td>\n",
       "      <td>لاستیک و پلاستیک</td>\n",
       "      <td>سهام عادی</td>\n",
       "      <td>اتیسی</td>\n",
       "      <td>20230301</td>\n",
       "    </tr>\n",
       "  </tbody>\n",
       "</table>\n",
       "<p>2201 rows × 18 columns</p>\n",
       "</div>"
      ],
      "text/plain": [
       "                       ticker                          name          isin  \\\n",
       "id                                                                          \n",
       "22129017544200         خاذینح                 ح . سایپاآذین  IRR1AZIN0106   \n",
       "94378630649293        اراد110  مرابحه عام دولت110-ش.خ040401  IRB4SO110443   \n",
       "...                       ...                           ...           ...   \n",
       "72002976013856737  57-بانکها6                     57-بانکها  IRX6X57T0000   \n",
       "72044846109864381       پارتا      مجتمع صنعتی آرتاویل تایر  IRO3ARTZ0005   \n",
       "\n",
       "                   mod_date market_code status_code group_code  \\\n",
       "id                                                               \n",
       "22129017544200     20200516           1           A         N2   \n",
       "94378630649293     20221212           2           A         17   \n",
       "...                     ...         ...         ...        ...   \n",
       "72002976013856737  20171212           1           I         00   \n",
       "72044846109864381  20230304           2           A         Z1   \n",
       "\n",
       "                  market_type_code tableu_code type_code              بازار  \\\n",
       "id                                                                            \n",
       "22129017544200                  NO           5       400     بازار دوم بورس   \n",
       "94378630649293                  NO           4       706                  -   \n",
       "...                            ...         ...       ...                ...   \n",
       "72002976013856737               ID           6        68               None   \n",
       "72044846109864381               NO           3       303  بازار دوم فرابورس   \n",
       "\n",
       "                                          زیر گروه صنعت کد زیر گروه صنعت  \\\n",
       "id                                                                         \n",
       "22129017544200     سایر قطعات یدکی و وسایل نقلیه موتوری             3499   \n",
       "94378630649293         اوراق مرابحه دولتی با ضمانت دولت             6945   \n",
       "...                                                 ...              ...   \n",
       "72002976013856737                                  None             None   \n",
       "72044846109864381  تولید تایر و بازسازی تایرهای لاستیکی             2511   \n",
       "\n",
       "                  کد گروه صنعت           گروه صنعت          type  \\\n",
       "id                                                                 \n",
       "22129017544200              34  خودرو و ساخت قطعات       حق تقدم   \n",
       "94378630649293              69    اوراق تامین مالی  اوراق مشارکت   \n",
       "...                        ...                 ...           ...   \n",
       "72002976013856737         None                None          شاخص   \n",
       "72044846109864381           25    لاستیک و پلاستیک     سهام عادی   \n",
       "\n",
       "                       sub_type last_fetch_daily_quotes  \n",
       "id                                                       \n",
       "22129017544200      حق تقدم سهم                20230301  \n",
       "94378630649293     صکوک اختصاصی                20230301  \n",
       "...                         ...                     ...  \n",
       "72002976013856737          شاخص                20230301  \n",
       "72044846109864381         اتیسی                20230301  \n",
       "\n",
       "[2201 rows x 18 columns]"
      ]
     },
     "execution_count": 51,
     "metadata": {},
     "output_type": "execute_result"
    }
   ],
   "source": [
    "insts = pd.read_sql('select * from instruments_aio', conn, index_col='id')\n",
    "drop_cols = ['inst_code_12','inst_code_5','name_latin','company_code_4',\n",
    "    'company_name','industry_sector_code','industry_subsector_code',\n",
    "    'نام شرکت','نام لاتین شرکت','نماد 30 رقمی فارسی','نماد فارسی','کد 12 رقمی شرکت',\n",
    "    'کد 12 رقمی نماد','کد 4 رقمی شرکت','کد 5 رقمی نماد','کد تابلو']\n",
    "insts.drop(drop_cols, axis=1, inplace=True)\n",
    "insts"
   ]
  },
  {
   "cell_type": "code",
   "execution_count": 61,
   "metadata": {},
   "outputs": [
    {
     "data": {
      "text/plain": [
       "array(['1', '2', '4', '7'], dtype=object)"
      ]
     },
     "execution_count": 61,
     "metadata": {},
     "output_type": "execute_result"
    }
   ],
   "source": [
    "insts['market_code'].unique()"
   ]
  },
  {
   "cell_type": "code",
   "execution_count": 138,
   "metadata": {},
   "outputs": [
    {
     "name": "stdout",
     "output_type": "stream",
     "text": [
      "Tableu <5>: ['بازار دوم بورس' 'بازار سوم فرابورس' '-']\n",
      "Tableu <4>: ['-' 'بازار ابزارهای نوین مالی فرابورس' 'بازار ابزارهای مشتقه فرابورس']\n",
      "Tableu <1>: ['بازار اول فرابورس' 'بازار اول (تابلوی اصلی) بورس' '-']\n",
      "Tableu <7>: ['بازار پایه زرد فرابورس' 'بازار پایه نارنجی فرابورس'\n",
      " 'بازار پایه قرمز فرابورس' '-']\n",
      "Tableu <3>: ['بازار دوم فرابورس' 'بازار اول (تابلوی فرعی) بورس' 'بازار دوم بورس' '-']\n",
      "Tableu <9>: ['شرکتهای کوچک و متوسط فرابورس']\n",
      "Tableu <6>: [None]\n"
     ]
    }
   ],
   "source": [
    "# List of Tableu Codes\n",
    "tableu = insts['tableu_code'].unique()\n",
    "# List of Market Codes\n",
    "market = insts['market_code'].unique()\n",
    "# List of Types\n",
    "types = insts['type_code'].unique()\n",
    "# Markets\n",
    "bazar = insts['بازار'].unique()\n",
    "\n",
    "for code in tableu:\n",
    "    print(f'Tableu <{code}>:', insts[insts['tableu_code'] == code]['بازار'].unique())"
   ]
  },
  {
   "attachments": {},
   "cell_type": "markdown",
   "metadata": {},
   "source": [
    "#### Filter By: Instrument Type (Saham)"
   ]
  },
  {
   "cell_type": "code",
   "execution_count": 173,
   "metadata": {},
   "outputs": [
    {
     "data": {
      "text/html": [
       "<div>\n",
       "<style scoped>\n",
       "    .dataframe tbody tr th:only-of-type {\n",
       "        vertical-align: middle;\n",
       "    }\n",
       "\n",
       "    .dataframe tbody tr th {\n",
       "        vertical-align: top;\n",
       "    }\n",
       "\n",
       "    .dataframe thead th {\n",
       "        text-align: right;\n",
       "    }\n",
       "</style>\n",
       "<table border=\"1\" class=\"dataframe\">\n",
       "  <thead>\n",
       "    <tr style=\"text-align: right;\">\n",
       "      <th></th>\n",
       "      <th>ticker</th>\n",
       "      <th>name</th>\n",
       "      <th>isin</th>\n",
       "      <th>mod_date</th>\n",
       "      <th>market_code</th>\n",
       "      <th>status_code</th>\n",
       "      <th>group_code</th>\n",
       "      <th>market_type_code</th>\n",
       "      <th>tableu_code</th>\n",
       "      <th>type_code</th>\n",
       "      <th>بازار</th>\n",
       "      <th>زیر گروه صنعت</th>\n",
       "      <th>کد زیر گروه صنعت</th>\n",
       "      <th>کد گروه صنعت</th>\n",
       "      <th>گروه صنعت</th>\n",
       "      <th>type</th>\n",
       "      <th>sub_type</th>\n",
       "      <th>last_fetch_daily_quotes</th>\n",
       "    </tr>\n",
       "    <tr>\n",
       "      <th>id</th>\n",
       "      <th></th>\n",
       "      <th></th>\n",
       "      <th></th>\n",
       "      <th></th>\n",
       "      <th></th>\n",
       "      <th></th>\n",
       "      <th></th>\n",
       "      <th></th>\n",
       "      <th></th>\n",
       "      <th></th>\n",
       "      <th></th>\n",
       "      <th></th>\n",
       "      <th></th>\n",
       "      <th></th>\n",
       "      <th></th>\n",
       "      <th></th>\n",
       "      <th></th>\n",
       "      <th></th>\n",
       "    </tr>\n",
       "  </thead>\n",
       "  <tbody>\n",
       "    <tr>\n",
       "      <th>114312662654155</th>\n",
       "      <td>وسپهر</td>\n",
       "      <td>سرمایه گذاری مالی سپهرصادرات</td>\n",
       "      <td>IRO3SAIZ0007</td>\n",
       "      <td>20230304</td>\n",
       "      <td>2</td>\n",
       "      <td>A</td>\n",
       "      <td>1Z</td>\n",
       "      <td>NO</td>\n",
       "      <td>1</td>\n",
       "      <td>303</td>\n",
       "      <td>بازار اول فرابورس</td>\n",
       "      <td>سایر واسطه های  مالی</td>\n",
       "      <td>5699</td>\n",
       "      <td>56</td>\n",
       "      <td>سرمایه گذاریها</td>\n",
       "      <td>سهام عادی</td>\n",
       "      <td>اتیسی</td>\n",
       "      <td>20230301</td>\n",
       "    </tr>\n",
       "    <tr>\n",
       "      <th>204092872752957</th>\n",
       "      <td>شصدف</td>\n",
       "      <td>صنعتی دوده فام</td>\n",
       "      <td>IRO3SDFZ0007</td>\n",
       "      <td>20230304</td>\n",
       "      <td>2</td>\n",
       "      <td>A</td>\n",
       "      <td>1Z</td>\n",
       "      <td>NO</td>\n",
       "      <td>1</td>\n",
       "      <td>303</td>\n",
       "      <td>بازار اول فرابورس</td>\n",
       "      <td>تولید سایر محصولات شیمیایی</td>\n",
       "      <td>4429</td>\n",
       "      <td>44</td>\n",
       "      <td>محصولات شیمیایی</td>\n",
       "      <td>سهام عادی</td>\n",
       "      <td>اتیسی</td>\n",
       "      <td>20230301</td>\n",
       "    </tr>\n",
       "    <tr>\n",
       "      <th>...</th>\n",
       "      <td>...</td>\n",
       "      <td>...</td>\n",
       "      <td>...</td>\n",
       "      <td>...</td>\n",
       "      <td>...</td>\n",
       "      <td>...</td>\n",
       "      <td>...</td>\n",
       "      <td>...</td>\n",
       "      <td>...</td>\n",
       "      <td>...</td>\n",
       "      <td>...</td>\n",
       "      <td>...</td>\n",
       "      <td>...</td>\n",
       "      <td>...</td>\n",
       "      <td>...</td>\n",
       "      <td>...</td>\n",
       "      <td>...</td>\n",
       "      <td>...</td>\n",
       "    </tr>\n",
       "    <tr>\n",
       "      <th>71856634742001725</th>\n",
       "      <td>سپ</td>\n",
       "      <td>پرداخت الکترونیک سامان کیش</td>\n",
       "      <td>IRO1SEPK0003</td>\n",
       "      <td>20230304</td>\n",
       "      <td>1</td>\n",
       "      <td>A</td>\n",
       "      <td>N2</td>\n",
       "      <td>NO</td>\n",
       "      <td>5</td>\n",
       "      <td>300</td>\n",
       "      <td>بازار دوم بورس</td>\n",
       "      <td>مشاوره و تهیه نرم افزار</td>\n",
       "      <td>7220</td>\n",
       "      <td>72</td>\n",
       "      <td>رایانه و فعالیت های وابسته به آن</td>\n",
       "      <td>سهام عادی</td>\n",
       "      <td>سهام</td>\n",
       "      <td>20230301</td>\n",
       "    </tr>\n",
       "    <tr>\n",
       "      <th>72044846109864381</th>\n",
       "      <td>پارتا</td>\n",
       "      <td>مجتمع صنعتی آرتاویل تایر</td>\n",
       "      <td>IRO3ARTZ0005</td>\n",
       "      <td>20230304</td>\n",
       "      <td>2</td>\n",
       "      <td>A</td>\n",
       "      <td>Z1</td>\n",
       "      <td>NO</td>\n",
       "      <td>3</td>\n",
       "      <td>303</td>\n",
       "      <td>بازار دوم فرابورس</td>\n",
       "      <td>تولید تایر و بازسازی تایرهای لاستیکی</td>\n",
       "      <td>2511</td>\n",
       "      <td>25</td>\n",
       "      <td>لاستیک و پلاستیک</td>\n",
       "      <td>سهام عادی</td>\n",
       "      <td>اتیسی</td>\n",
       "      <td>20230301</td>\n",
       "    </tr>\n",
       "  </tbody>\n",
       "</table>\n",
       "<p>683 rows × 18 columns</p>\n",
       "</div>"
      ],
      "text/plain": [
       "                  ticker                          name          isin  \\\n",
       "id                                                                     \n",
       "114312662654155    وسپهر  سرمایه گذاری مالی سپهرصادرات  IRO3SAIZ0007   \n",
       "204092872752957     شصدف                صنعتی دوده فام  IRO3SDFZ0007   \n",
       "...                  ...                           ...           ...   \n",
       "71856634742001725     سپ    پرداخت الکترونیک سامان کیش  IRO1SEPK0003   \n",
       "72044846109864381  پارتا      مجتمع صنعتی آرتاویل تایر  IRO3ARTZ0005   \n",
       "\n",
       "                   mod_date market_code status_code group_code  \\\n",
       "id                                                               \n",
       "114312662654155    20230304           2           A         1Z   \n",
       "204092872752957    20230304           2           A         1Z   \n",
       "...                     ...         ...         ...        ...   \n",
       "71856634742001725  20230304           1           A         N2   \n",
       "72044846109864381  20230304           2           A         Z1   \n",
       "\n",
       "                  market_type_code tableu_code type_code              بازار  \\\n",
       "id                                                                            \n",
       "114312662654155                 NO           1       303  بازار اول فرابورس   \n",
       "204092872752957                 NO           1       303  بازار اول فرابورس   \n",
       "...                            ...         ...       ...                ...   \n",
       "71856634742001725               NO           5       300     بازار دوم بورس   \n",
       "72044846109864381               NO           3       303  بازار دوم فرابورس   \n",
       "\n",
       "                                          زیر گروه صنعت کد زیر گروه صنعت  \\\n",
       "id                                                                         \n",
       "114312662654155                    سایر واسطه های  مالی             5699   \n",
       "204092872752957              تولید سایر محصولات شیمیایی             4429   \n",
       "...                                                 ...              ...   \n",
       "71856634742001725               مشاوره و تهیه نرم افزار             7220   \n",
       "72044846109864381  تولید تایر و بازسازی تایرهای لاستیکی             2511   \n",
       "\n",
       "                  کد گروه صنعت                         گروه صنعت       type  \\\n",
       "id                                                                            \n",
       "114312662654155             56                    سرمایه گذاریها  سهام عادی   \n",
       "204092872752957             44                   محصولات شیمیایی  سهام عادی   \n",
       "...                        ...                               ...        ...   \n",
       "71856634742001725           72  رایانه و فعالیت های وابسته به آن  سهام عادی   \n",
       "72044846109864381           25                  لاستیک و پلاستیک  سهام عادی   \n",
       "\n",
       "                  sub_type last_fetch_daily_quotes  \n",
       "id                                                  \n",
       "114312662654155      اتیسی                20230301  \n",
       "204092872752957      اتیسی                20230301  \n",
       "...                    ...                     ...  \n",
       "71856634742001725     سهام                20230301  \n",
       "72044846109864381    اتیسی                20230301  \n",
       "\n",
       "[683 rows x 18 columns]"
      ]
     },
     "execution_count": 173,
     "metadata": {},
     "output_type": "execute_result"
    }
   ],
   "source": [
    "# 'حق تقدم'\n",
    "# بجز بازار پایه و شرکتهای کوچک و متوسط فرابورس\n",
    "insts[(insts['type'] == 'حق تقدم') & (insts['tableu_code'] != '9') & (insts['tableu_code'] != '7')]['بازار'].unique()\n",
    "\n",
    "# سهام عادی\n",
    "# بجز بازار پایه و شرکتهای کوچک و متوسط فرابورس\n",
    "saham = insts[\n",
    "    (insts['type'] == 'سهام عادی') & \n",
    "    (insts['tableu_code'] != '9') & \n",
    "    (insts['tableu_code'] != '8') & \n",
    "    (insts['tableu_code'] != '7') & \n",
    "    (insts['tableu_code'] != '4') &\n",
    "    (insts['بازار'] != '-') \n",
    "]\n",
    "saham"
   ]
  },
  {
   "cell_type": "code",
   "execution_count": 179,
   "metadata": {},
   "outputs": [
    {
     "data": {
      "text/html": [
       "<div>\n",
       "<style scoped>\n",
       "    .dataframe tbody tr th:only-of-type {\n",
       "        vertical-align: middle;\n",
       "    }\n",
       "\n",
       "    .dataframe tbody tr th {\n",
       "        vertical-align: top;\n",
       "    }\n",
       "\n",
       "    .dataframe thead th {\n",
       "        text-align: right;\n",
       "    }\n",
       "</style>\n",
       "<table border=\"1\" class=\"dataframe\">\n",
       "  <thead>\n",
       "    <tr style=\"text-align: right;\">\n",
       "      <th></th>\n",
       "      <th>ticker</th>\n",
       "      <th>name</th>\n",
       "      <th>mod_date</th>\n",
       "    </tr>\n",
       "    <tr>\n",
       "      <th>id</th>\n",
       "      <th></th>\n",
       "      <th></th>\n",
       "      <th></th>\n",
       "    </tr>\n",
       "  </thead>\n",
       "  <tbody>\n",
       "    <tr>\n",
       "      <th>495499165983171</th>\n",
       "      <td>صنعت ساختمان</td>\n",
       "      <td>گسترش فن آوری های صنعت ساختمان</td>\n",
       "      <td>20180721</td>\n",
       "    </tr>\n",
       "    <tr>\n",
       "      <th>651564801186566</th>\n",
       "      <td>پیمانکاری نوین</td>\n",
       "      <td>پیمانکاری انرژی نوین</td>\n",
       "      <td>20180721</td>\n",
       "    </tr>\n",
       "    <tr>\n",
       "      <th>8187498148443422</th>\n",
       "      <td>شماره گذاری کالا</td>\n",
       "      <td>شماره گذاری کالا و خدمات</td>\n",
       "      <td>20180721</td>\n",
       "    </tr>\n",
       "    <tr>\n",
       "      <th>9609565131304189</th>\n",
       "      <td>ایران زمین</td>\n",
       "      <td>پذیره بانک ایران زمین</td>\n",
       "      <td>20180721</td>\n",
       "    </tr>\n",
       "    <tr>\n",
       "      <th>11006334882585136</th>\n",
       "      <td>نیروگاه عباسپور</td>\n",
       "      <td>بهره برداری نیروگاه عباسپور</td>\n",
       "      <td>20180721</td>\n",
       "    </tr>\n",
       "    <tr>\n",
       "      <th>11452654295102268</th>\n",
       "      <td>مقره سازی</td>\n",
       "      <td>مقره سازی ایران</td>\n",
       "      <td>20180721</td>\n",
       "    </tr>\n",
       "    <tr>\n",
       "      <th>16600572108732428</th>\n",
       "      <td>پخش اول</td>\n",
       "      <td>گلپخش اول</td>\n",
       "      <td>20230304</td>\n",
       "    </tr>\n",
       "    <tr>\n",
       "      <th>17605403389426895</th>\n",
       "      <td>نیشکر هفت تپه</td>\n",
       "      <td>کشت و صنعت نیشکر هفت تپه</td>\n",
       "      <td>20220108</td>\n",
       "    </tr>\n",
       "    <tr>\n",
       "      <th>17617474823279712</th>\n",
       "      <td>آ س پ</td>\n",
       "      <td>آ.س.پ</td>\n",
       "      <td>20230304</td>\n",
       "    </tr>\n",
       "    <tr>\n",
       "      <th>17645323253056599</th>\n",
       "      <td>توربین جنوب</td>\n",
       "      <td>تجهیزات صنعتی توربین جنوب</td>\n",
       "      <td>20180721</td>\n",
       "    </tr>\n",
       "    <tr>\n",
       "      <th>17833511227457172</th>\n",
       "      <td>پتروشیمی دماوند</td>\n",
       "      <td>پتروشیمی دماوند</td>\n",
       "      <td>20180721</td>\n",
       "    </tr>\n",
       "    <tr>\n",
       "      <th>25410055451145088</th>\n",
       "      <td>نساجی قائمشهر</td>\n",
       "      <td>نساجی قائمشهر</td>\n",
       "      <td>20180721</td>\n",
       "    </tr>\n",
       "    <tr>\n",
       "      <th>26316376625263940</th>\n",
       "      <td>پی پاد</td>\n",
       "      <td>پرداخت الکترونیک پاسارگاد</td>\n",
       "      <td>20230304</td>\n",
       "    </tr>\n",
       "    <tr>\n",
       "      <th>27096851668435724</th>\n",
       "      <td>جم پیلن</td>\n",
       "      <td>پلی پروپیلن جم - جم پیلن</td>\n",
       "      <td>20230304</td>\n",
       "    </tr>\n",
       "    <tr>\n",
       "      <th>28096527110269576</th>\n",
       "      <td>مسکن ایران</td>\n",
       "      <td>عمران و مسکن سازان ایران-یکجا</td>\n",
       "      <td>20180721</td>\n",
       "    </tr>\n",
       "    <tr>\n",
       "      <th>31940133965609434</th>\n",
       "      <td>ریل پرداز</td>\n",
       "      <td>ریل پرداز نوآفرین</td>\n",
       "      <td>20220108</td>\n",
       "    </tr>\n",
       "    <tr>\n",
       "      <th>33220705750260507</th>\n",
       "      <td>عمران شرق</td>\n",
       "      <td>عمران و مسکن سازان منطقه شرق</td>\n",
       "      <td>20180721</td>\n",
       "    </tr>\n",
       "    <tr>\n",
       "      <th>33509150675201804</th>\n",
       "      <td>پتروشیمی همدان</td>\n",
       "      <td>پتروشیمی ابن سینا همدان</td>\n",
       "      <td>20220108</td>\n",
       "    </tr>\n",
       "    <tr>\n",
       "      <th>34186024944625724</th>\n",
       "      <td>حذف -آرین</td>\n",
       "      <td>بانک الکترونیکی آرین</td>\n",
       "      <td>20230304</td>\n",
       "    </tr>\n",
       "    <tr>\n",
       "      <th>37115219225815800</th>\n",
       "      <td>آرد تجارت</td>\n",
       "      <td>آرد تجارت</td>\n",
       "      <td>20180721</td>\n",
       "    </tr>\n",
       "    <tr>\n",
       "      <th>39299665139769418</th>\n",
       "      <td>صنایع شیر</td>\n",
       "      <td>صنایع شیر سرو بی خزان</td>\n",
       "      <td>20210919</td>\n",
       "    </tr>\n",
       "    <tr>\n",
       "      <th>41867071915439180</th>\n",
       "      <td>آلومینیوم جنوب</td>\n",
       "      <td>مجتمع آلومینیوم جنوب</td>\n",
       "      <td>20180721</td>\n",
       "    </tr>\n",
       "    <tr>\n",
       "      <th>42252159652497300</th>\n",
       "      <td>مشاور نیرو</td>\n",
       "      <td>مهندسین مشاور نیرو</td>\n",
       "      <td>20180721</td>\n",
       "    </tr>\n",
       "    <tr>\n",
       "      <th>43362635835198978</th>\n",
       "      <td>های وب</td>\n",
       "      <td>داده گسترعصرنوین-های وب</td>\n",
       "      <td>20230304</td>\n",
       "    </tr>\n",
       "    <tr>\n",
       "      <th>45446499784751546</th>\n",
       "      <td>ریخته گری تبریز</td>\n",
       "      <td>ریخته گری ماشین سازی تبریز</td>\n",
       "      <td>20180721</td>\n",
       "    </tr>\n",
       "    <tr>\n",
       "      <th>51694805797314643</th>\n",
       "      <td>صنایع بلوچ</td>\n",
       "      <td>گسترش صنایع بلوچ</td>\n",
       "      <td>20180721</td>\n",
       "    </tr>\n",
       "    <tr>\n",
       "      <th>52888670015136433</th>\n",
       "      <td>کرمان خودرو</td>\n",
       "      <td>گروه اقتصادی کرمان خودرو-پذیره</td>\n",
       "      <td>20180721</td>\n",
       "    </tr>\n",
       "    <tr>\n",
       "      <th>52927543777190153</th>\n",
       "      <td>تهران بتون</td>\n",
       "      <td>تهران بتون</td>\n",
       "      <td>20180721</td>\n",
       "    </tr>\n",
       "    <tr>\n",
       "      <th>53986010692093246</th>\n",
       "      <td>پترو دهدشت</td>\n",
       "      <td>پتروشیمی دهدشت-پذیره</td>\n",
       "      <td>20180721</td>\n",
       "    </tr>\n",
       "    <tr>\n",
       "      <th>54027919601285197</th>\n",
       "      <td>قند یاسوج</td>\n",
       "      <td>فرآورده های غذایی قندی یاسوج</td>\n",
       "      <td>20220108</td>\n",
       "    </tr>\n",
       "    <tr>\n",
       "      <th>56881008607657214</th>\n",
       "      <td>توکا بتن</td>\n",
       "      <td>توکا بتن</td>\n",
       "      <td>20180721</td>\n",
       "    </tr>\n",
       "    <tr>\n",
       "      <th>62977319271289925</th>\n",
       "      <td>کی بی سی</td>\n",
       "      <td>شرکت کی بی سی</td>\n",
       "      <td>20230304</td>\n",
       "    </tr>\n",
       "    <tr>\n",
       "      <th>63563137542184264</th>\n",
       "      <td>موج تامین</td>\n",
       "      <td>موج تامین ارتباطات پارس</td>\n",
       "      <td>20220108</td>\n",
       "    </tr>\n",
       "    <tr>\n",
       "      <th>66668962036864944</th>\n",
       "      <td>توسعه نیشکر</td>\n",
       "      <td>توسعه نیشکر و صنایع جانبی</td>\n",
       "      <td>20220108</td>\n",
       "    </tr>\n",
       "    <tr>\n",
       "      <th>67526366820181168</th>\n",
       "      <td>بازرگانی معادن</td>\n",
       "      <td>بازرگانی معادن ایران</td>\n",
       "      <td>20180721</td>\n",
       "    </tr>\n",
       "    <tr>\n",
       "      <th>67535111875054076</th>\n",
       "      <td>پارس متال</td>\n",
       "      <td>پارس متال</td>\n",
       "      <td>20180721</td>\n",
       "    </tr>\n",
       "    <tr>\n",
       "      <th>68923188291458394</th>\n",
       "      <td>توسعه فارس</td>\n",
       "      <td>توسعه صادرات فارس</td>\n",
       "      <td>20180721</td>\n",
       "    </tr>\n",
       "    <tr>\n",
       "      <th>68980134713666314</th>\n",
       "      <td>سپرده گذاری</td>\n",
       "      <td>سپرده گذاری مرکزی اوراق بهادار</td>\n",
       "      <td>20180721</td>\n",
       "    </tr>\n",
       "    <tr>\n",
       "      <th>69171897374421261</th>\n",
       "      <td>فن افزار</td>\n",
       "      <td>توسعه فن افزار توسن</td>\n",
       "      <td>20230304</td>\n",
       "    </tr>\n",
       "  </tbody>\n",
       "</table>\n",
       "</div>"
      ],
      "text/plain": [
       "                             ticker                            name  mod_date\n",
       "id                                                                           \n",
       "495499165983171        صنعت ساختمان  گسترش فن آوری های صنعت ساختمان  20180721\n",
       "651564801186566      پیمانکاری نوین            پیمانکاری انرژی نوین  20180721\n",
       "8187498148443422   شماره گذاری کالا        شماره گذاری کالا و خدمات  20180721\n",
       "9609565131304189         ایران زمین           پذیره بانک ایران زمین  20180721\n",
       "11006334882585136   نیروگاه عباسپور     بهره برداری نیروگاه عباسپور  20180721\n",
       "11452654295102268         مقره سازی                 مقره سازی ایران  20180721\n",
       "16600572108732428           پخش اول                       گلپخش اول  20230304\n",
       "17605403389426895     نیشکر هفت تپه        کشت و صنعت نیشکر هفت تپه  20220108\n",
       "17617474823279712             آ س پ                           آ.س.پ  20230304\n",
       "17645323253056599       توربین جنوب       تجهیزات صنعتی توربین جنوب  20180721\n",
       "17833511227457172   پتروشیمی دماوند                 پتروشیمی دماوند  20180721\n",
       "25410055451145088     نساجی قائمشهر                   نساجی قائمشهر  20180721\n",
       "26316376625263940            پی پاد       پرداخت الکترونیک پاسارگاد  20230304\n",
       "27096851668435724           جم پیلن        پلی پروپیلن جم - جم پیلن  20230304\n",
       "28096527110269576        مسکن ایران   عمران و مسکن سازان ایران-یکجا  20180721\n",
       "31940133965609434         ریل پرداز               ریل پرداز نوآفرین  20220108\n",
       "33220705750260507         عمران شرق    عمران و مسکن سازان منطقه شرق  20180721\n",
       "33509150675201804    پتروشیمی همدان         پتروشیمی ابن سینا همدان  20220108\n",
       "34186024944625724         حذف -آرین            بانک الکترونیکی آرین  20230304\n",
       "37115219225815800         آرد تجارت                       آرد تجارت  20180721\n",
       "39299665139769418         صنایع شیر           صنایع شیر سرو بی خزان  20210919\n",
       "41867071915439180    آلومینیوم جنوب            مجتمع آلومینیوم جنوب  20180721\n",
       "42252159652497300        مشاور نیرو              مهندسین مشاور نیرو  20180721\n",
       "43362635835198978            های وب         داده گسترعصرنوین-های وب  20230304\n",
       "45446499784751546   ریخته گری تبریز      ریخته گری ماشین سازی تبریز  20180721\n",
       "51694805797314643        صنایع بلوچ                گسترش صنایع بلوچ  20180721\n",
       "52888670015136433       کرمان خودرو  گروه اقتصادی کرمان خودرو-پذیره  20180721\n",
       "52927543777190153        تهران بتون                      تهران بتون  20180721\n",
       "53986010692093246        پترو دهدشت            پتروشیمی دهدشت-پذیره  20180721\n",
       "54027919601285197         قند یاسوج    فرآورده های غذایی قندی یاسوج  20220108\n",
       "56881008607657214          توکا بتن                        توکا بتن  20180721\n",
       "62977319271289925          کی بی سی                   شرکت کی بی سی  20230304\n",
       "63563137542184264         موج تامین         موج تامین ارتباطات پارس  20220108\n",
       "66668962036864944       توسعه نیشکر       توسعه نیشکر و صنایع جانبی  20220108\n",
       "67526366820181168    بازرگانی معادن            بازرگانی معادن ایران  20180721\n",
       "67535111875054076         پارس متال                       پارس متال  20180721\n",
       "68923188291458394        توسعه فارس               توسعه صادرات فارس  20180721\n",
       "68980134713666314       سپرده گذاری  سپرده گذاری مرکزی اوراق بهادار  20180721\n",
       "69171897374421261          فن افزار             توسعه فن افزار توسن  20230304"
      ]
     },
     "execution_count": 179,
     "metadata": {},
     "output_type": "execute_result"
    }
   ],
   "source": [
    "saham[saham['ticker'].str.contains(' ')][['ticker','name','mod_date']]\n",
    "# 17617474823279712\tآ س پ\tآ.س.پ\n",
    "# 27096851668435724\tجم پیلن\tپلی پروپیلن جم - جم پیلن\n",
    "# 43362635835198978\tهای وب\tداده گسترعصرنوین-های وب\n",
    "# 62977319271289925\tکی بی سی\tشرکت کی بی سی\n"
   ]
  },
  {
   "cell_type": "code",
   "execution_count": 169,
   "metadata": {},
   "outputs": [
    {
     "data": {
      "text/plain": [
       "277"
      ]
     },
     "execution_count": 169,
     "metadata": {},
     "output_type": "execute_result"
    }
   ],
   "source": [
    "insts[\n",
    "    (insts['sub_type'] == 'اتیسی') & \n",
    "    (insts['tableu_code'] != '9') & \n",
    "    (insts['tableu_code'] != '8') & \n",
    "    (insts['tableu_code'] != '7') & \n",
    "    (insts['tableu_code'] != '4') & \n",
    "    (insts['بازار'] != '-') \n",
    "]['ticker'].nunique()\n",
    "\n",
    "# عمده - انرژی۲ - پذیره - حذف - انرژی۱ - اونایی ک فاصله دارن(۲ کلمه اند) - بازار=خط تیره منفی\n",
    "# market 2 & tableu 5 = فرابورس بازار سوم\n",
    "# "
   ]
  },
  {
   "cell_type": "code",
   "execution_count": null,
   "metadata": {},
   "outputs": [
    {
     "data": {
      "text/html": [
       "<div>\n",
       "<style scoped>\n",
       "    .dataframe tbody tr th:only-of-type {\n",
       "        vertical-align: middle;\n",
       "    }\n",
       "\n",
       "    .dataframe tbody tr th {\n",
       "        vertical-align: top;\n",
       "    }\n",
       "\n",
       "    .dataframe thead th {\n",
       "        text-align: right;\n",
       "    }\n",
       "</style>\n",
       "<table border=\"1\" class=\"dataframe\">\n",
       "  <thead>\n",
       "    <tr style=\"text-align: right;\">\n",
       "      <th></th>\n",
       "      <th>ticker</th>\n",
       "      <th>name</th>\n",
       "      <th>isin</th>\n",
       "      <th>mod_date</th>\n",
       "      <th>market_code</th>\n",
       "      <th>status_code</th>\n",
       "      <th>group_code</th>\n",
       "      <th>market_type_code</th>\n",
       "      <th>tableu_code</th>\n",
       "      <th>type_code</th>\n",
       "      <th>بازار</th>\n",
       "      <th>زیر گروه صنعت</th>\n",
       "      <th>کد زیر گروه صنعت</th>\n",
       "      <th>کد گروه صنعت</th>\n",
       "      <th>گروه صنعت</th>\n",
       "      <th>type</th>\n",
       "      <th>sub_type</th>\n",
       "      <th>last_fetch_daily_quotes</th>\n",
       "    </tr>\n",
       "    <tr>\n",
       "      <th>id</th>\n",
       "      <th></th>\n",
       "      <th></th>\n",
       "      <th></th>\n",
       "      <th></th>\n",
       "      <th></th>\n",
       "      <th></th>\n",
       "      <th></th>\n",
       "      <th></th>\n",
       "      <th></th>\n",
       "      <th></th>\n",
       "      <th></th>\n",
       "      <th></th>\n",
       "      <th></th>\n",
       "      <th></th>\n",
       "      <th></th>\n",
       "      <th></th>\n",
       "      <th></th>\n",
       "      <th></th>\n",
       "    </tr>\n",
       "  </thead>\n",
       "  <tbody>\n",
       "    <tr>\n",
       "      <th>2432718060936300</th>\n",
       "      <td>وساخت عمده2</td>\n",
       "      <td>س. ساختمان ایران عمده2</td>\n",
       "      <td>IRO1SAKH0205</td>\n",
       "      <td>20230304</td>\n",
       "      <td>1</td>\n",
       "      <td>A</td>\n",
       "      <td>91</td>\n",
       "      <td>NO</td>\n",
       "      <td>1</td>\n",
       "      <td>300</td>\n",
       "      <td>-</td>\n",
       "      <td>سایر فعالیت های املاک و مستغلات</td>\n",
       "      <td>7099</td>\n",
       "      <td>70</td>\n",
       "      <td>انبوه سازی، املاک و مستغلات</td>\n",
       "      <td>سهام عادی</td>\n",
       "      <td>سهام</td>\n",
       "      <td>20230301</td>\n",
       "    </tr>\n",
       "    <tr>\n",
       "      <th>13666774088286918</th>\n",
       "      <td>بتهران-پذیره</td>\n",
       "      <td>بیمه اتکایی تهران رواک50%تا-پذ</td>\n",
       "      <td>IRO3Z0790007</td>\n",
       "      <td>20230115</td>\n",
       "      <td>2</td>\n",
       "      <td>A</td>\n",
       "      <td>Z1</td>\n",
       "      <td>NO</td>\n",
       "      <td>5</td>\n",
       "      <td>303</td>\n",
       "      <td>بازار سوم فرابورس</td>\n",
       "      <td>بیمه غیرزندگی</td>\n",
       "      <td>6603</td>\n",
       "      <td>66</td>\n",
       "      <td>بیمه وصندوق بازنشستگی به جزتامین اجتماعی</td>\n",
       "      <td>سهام عادی</td>\n",
       "      <td>اتیسی</td>\n",
       "      <td>20230301</td>\n",
       "    </tr>\n",
       "    <tr>\n",
       "      <th>...</th>\n",
       "      <td>...</td>\n",
       "      <td>...</td>\n",
       "      <td>...</td>\n",
       "      <td>...</td>\n",
       "      <td>...</td>\n",
       "      <td>...</td>\n",
       "      <td>...</td>\n",
       "      <td>...</td>\n",
       "      <td>...</td>\n",
       "      <td>...</td>\n",
       "      <td>...</td>\n",
       "      <td>...</td>\n",
       "      <td>...</td>\n",
       "      <td>...</td>\n",
       "      <td>...</td>\n",
       "      <td>...</td>\n",
       "      <td>...</td>\n",
       "      <td>...</td>\n",
       "    </tr>\n",
       "    <tr>\n",
       "      <th>55626190083788703</th>\n",
       "      <td>وساخت عمده1</td>\n",
       "      <td>س. ساختمان ایران عمده1</td>\n",
       "      <td>IRO1SAKH0106</td>\n",
       "      <td>20230304</td>\n",
       "      <td>1</td>\n",
       "      <td>A</td>\n",
       "      <td>91</td>\n",
       "      <td>NO</td>\n",
       "      <td>1</td>\n",
       "      <td>300</td>\n",
       "      <td>-</td>\n",
       "      <td>سایر فعالیت های املاک و مستغلات</td>\n",
       "      <td>7099</td>\n",
       "      <td>70</td>\n",
       "      <td>انبوه سازی، املاک و مستغلات</td>\n",
       "      <td>سهام عادی</td>\n",
       "      <td>سهام</td>\n",
       "      <td>20230301</td>\n",
       "    </tr>\n",
       "    <tr>\n",
       "      <th>55906836177528951</th>\n",
       "      <td>تعاون-پذیره</td>\n",
       "      <td>بیمه تعاون-پذیره</td>\n",
       "      <td>IRO3ZF480008</td>\n",
       "      <td>20220103</td>\n",
       "      <td>2</td>\n",
       "      <td>A</td>\n",
       "      <td>Z1</td>\n",
       "      <td>NO</td>\n",
       "      <td>5</td>\n",
       "      <td>303</td>\n",
       "      <td>بازار سوم فرابورس</td>\n",
       "      <td>فعالیتهای مالی و اجرائی</td>\n",
       "      <td>6611</td>\n",
       "      <td>66</td>\n",
       "      <td>بیمه وصندوق بازنشستگی به جزتامین اجتماعی</td>\n",
       "      <td>سهام عادی</td>\n",
       "      <td>اتیسی</td>\n",
       "      <td>20230301</td>\n",
       "    </tr>\n",
       "  </tbody>\n",
       "</table>\n",
       "<p>13 rows × 18 columns</p>\n",
       "</div>"
      ],
      "text/plain": [
       "                         ticker                            name          isin  \\\n",
       "id                                                                              \n",
       "2432718060936300    وساخت عمده2          س. ساختمان ایران عمده2  IRO1SAKH0205   \n",
       "13666774088286918  بتهران-پذیره  بیمه اتکایی تهران رواک50%تا-پذ  IRO3Z0790007   \n",
       "...                         ...                             ...           ...   \n",
       "55626190083788703   وساخت عمده1          س. ساختمان ایران عمده1  IRO1SAKH0106   \n",
       "55906836177528951   تعاون-پذیره                بیمه تعاون-پذیره  IRO3ZF480008   \n",
       "\n",
       "                   mod_date market_code status_code group_code  \\\n",
       "id                                                               \n",
       "2432718060936300   20230304           1           A         91   \n",
       "13666774088286918  20230115           2           A         Z1   \n",
       "...                     ...         ...         ...        ...   \n",
       "55626190083788703  20230304           1           A         91   \n",
       "55906836177528951  20220103           2           A         Z1   \n",
       "\n",
       "                  market_type_code tableu_code type_code              بازار  \\\n",
       "id                                                                            \n",
       "2432718060936300                NO           1       300                  -   \n",
       "13666774088286918               NO           5       303  بازار سوم فرابورس   \n",
       "...                            ...         ...       ...                ...   \n",
       "55626190083788703               NO           1       300                  -   \n",
       "55906836177528951               NO           5       303  بازار سوم فرابورس   \n",
       "\n",
       "                                     زیر گروه صنعت کد زیر گروه صنعت  \\\n",
       "id                                                                    \n",
       "2432718060936300   سایر فعالیت های املاک و مستغلات             7099   \n",
       "13666774088286918                    بیمه غیرزندگی             6603   \n",
       "...                                            ...              ...   \n",
       "55626190083788703  سایر فعالیت های املاک و مستغلات             7099   \n",
       "55906836177528951          فعالیتهای مالی و اجرائی             6611   \n",
       "\n",
       "                  کد گروه صنعت                                 گروه صنعت  \\\n",
       "id                                                                         \n",
       "2432718060936300            70               انبوه سازی، املاک و مستغلات   \n",
       "13666774088286918           66  بیمه وصندوق بازنشستگی به جزتامین اجتماعی   \n",
       "...                        ...                                       ...   \n",
       "55626190083788703           70               انبوه سازی، املاک و مستغلات   \n",
       "55906836177528951           66  بیمه وصندوق بازنشستگی به جزتامین اجتماعی   \n",
       "\n",
       "                        type sub_type last_fetch_daily_quotes  \n",
       "id                                                             \n",
       "2432718060936300   سهام عادی     سهام                20230301  \n",
       "13666774088286918  سهام عادی    اتیسی                20230301  \n",
       "...                      ...      ...                     ...  \n",
       "55626190083788703  سهام عادی     سهام                20230301  \n",
       "55906836177528951  سهام عادی    اتیسی                20230301  \n",
       "\n",
       "[13 rows x 18 columns]"
      ]
     },
     "metadata": {},
     "output_type": "display_data"
    }
   ],
   "source": [
    "insts[\n",
    "    (insts['ticker'].str.contains('حذف')) |\n",
    "    (insts['ticker'].str.contains('عمده')) |\n",
    "    (insts['ticker'].str.contains('پذیره')) \n",
    "    \n",
    "]"
   ]
  },
  {
   "cell_type": "code",
   "execution_count": 136,
   "metadata": {},
   "outputs": [],
   "source": [
    "otc = insts[insts['sub_type'] == 'اتیسی']"
   ]
  },
  {
   "cell_type": "code",
   "execution_count": null,
   "metadata": {},
   "outputs": [
    {
     "data": {
      "text/html": [
       "<div>\n",
       "<style scoped>\n",
       "    .dataframe tbody tr th:only-of-type {\n",
       "        vertical-align: middle;\n",
       "    }\n",
       "\n",
       "    .dataframe tbody tr th {\n",
       "        vertical-align: top;\n",
       "    }\n",
       "\n",
       "    .dataframe thead th {\n",
       "        text-align: right;\n",
       "    }\n",
       "</style>\n",
       "<table border=\"1\" class=\"dataframe\">\n",
       "  <thead>\n",
       "    <tr style=\"text-align: right;\">\n",
       "      <th></th>\n",
       "      <th>ticker</th>\n",
       "      <th>tableu_code</th>\n",
       "      <th>market</th>\n",
       "    </tr>\n",
       "    <tr>\n",
       "      <th>id</th>\n",
       "      <th></th>\n",
       "      <th></th>\n",
       "      <th></th>\n",
       "    </tr>\n",
       "  </thead>\n",
       "  <tbody>\n",
       "    <tr>\n",
       "      <th>4054414296721</th>\n",
       "      <td>ضلبخند202</td>\n",
       "      <td>8</td>\n",
       "      <td>-</td>\n",
       "    </tr>\n",
       "    <tr>\n",
       "      <th>133407505805365</th>\n",
       "      <td>طبدر2033</td>\n",
       "      <td>8</td>\n",
       "      <td>-</td>\n",
       "    </tr>\n",
       "    <tr>\n",
       "      <th>183419485240889</th>\n",
       "      <td>ضفگستر1008</td>\n",
       "      <td>8</td>\n",
       "      <td>-</td>\n",
       "    </tr>\n",
       "    <tr>\n",
       "      <th>1629946718091595</th>\n",
       "      <td>طسلا7005</td>\n",
       "      <td>8</td>\n",
       "      <td>-</td>\n",
       "    </tr>\n",
       "    <tr>\n",
       "      <th>1665565213994526</th>\n",
       "      <td>ضفگستر1010</td>\n",
       "      <td>8</td>\n",
       "      <td>-</td>\n",
       "    </tr>\n",
       "    <tr>\n",
       "      <th>...</th>\n",
       "      <td>...</td>\n",
       "      <td>...</td>\n",
       "      <td>...</td>\n",
       "    </tr>\n",
       "    <tr>\n",
       "      <th>69843691250564003</th>\n",
       "      <td>ضلبخند508</td>\n",
       "      <td>8</td>\n",
       "      <td>-</td>\n",
       "    </tr>\n",
       "    <tr>\n",
       "      <th>70304393734444484</th>\n",
       "      <td>طسلا7001</td>\n",
       "      <td>8</td>\n",
       "      <td>-</td>\n",
       "    </tr>\n",
       "    <tr>\n",
       "      <th>70950258269733388</th>\n",
       "      <td>طخود0107</td>\n",
       "      <td>8</td>\n",
       "      <td>-</td>\n",
       "    </tr>\n",
       "    <tr>\n",
       "      <th>71122180436937241</th>\n",
       "      <td>ضکارا102</td>\n",
       "      <td>8</td>\n",
       "      <td>-</td>\n",
       "    </tr>\n",
       "    <tr>\n",
       "      <th>71969988541460879</th>\n",
       "      <td>طملت1151</td>\n",
       "      <td>8</td>\n",
       "      <td>-</td>\n",
       "    </tr>\n",
       "  </tbody>\n",
       "</table>\n",
       "<p>138 rows × 3 columns</p>\n",
       "</div>"
      ],
      "text/plain": [
       "                       ticker tableu_code market\n",
       "id                                              \n",
       "4054414296721       ضلبخند202           8      -\n",
       "133407505805365      طبدر2033           8      -\n",
       "183419485240889    ضفگستر1008           8      -\n",
       "1629946718091595     طسلا7005           8      -\n",
       "1665565213994526   ضفگستر1010           8      -\n",
       "...                       ...         ...    ...\n",
       "69843691250564003   ضلبخند508           8      -\n",
       "70304393734444484    طسلا7001           8      -\n",
       "70950258269733388    طخود0107           8      -\n",
       "71122180436937241    ضکارا102           8      -\n",
       "71969988541460879    طملت1151           8      -\n",
       "\n",
       "[138 rows x 3 columns]"
      ]
     },
     "metadata": {},
     "output_type": "display_data"
    }
   ],
   "source": [
    "insts[insts['tableu_code'] == '8']"
   ]
  },
  {
   "cell_type": "code",
   "execution_count": null,
   "metadata": {},
   "outputs": [],
   "source": []
  },
  {
   "cell_type": "code",
   "execution_count": null,
   "metadata": {},
   "outputs": [],
   "source": []
  },
  {
   "attachments": {},
   "cell_type": "markdown",
   "metadata": {},
   "source": [
    "### Get Trade History (Ticks/Trade Details)"
   ]
  },
  {
   "cell_type": "code",
   "execution_count": 3,
   "metadata": {},
   "outputs": [
    {
     "data": {
      "text/html": [
       "<div>\n",
       "<style scoped>\n",
       "    .dataframe tbody tr th:only-of-type {\n",
       "        vertical-align: middle;\n",
       "    }\n",
       "\n",
       "    .dataframe tbody tr th {\n",
       "        vertical-align: top;\n",
       "    }\n",
       "\n",
       "    .dataframe thead th {\n",
       "        text-align: right;\n",
       "    }\n",
       "</style>\n",
       "<table border=\"1\" class=\"dataframe\">\n",
       "  <thead>\n",
       "    <tr style=\"text-align: right;\">\n",
       "      <th></th>\n",
       "      <th>insCode</th>\n",
       "      <th>dEven</th>\n",
       "      <th>hEven</th>\n",
       "      <th>qTitTran</th>\n",
       "      <th>pTran</th>\n",
       "      <th>qTitNgJ</th>\n",
       "      <th>iSensVarP</th>\n",
       "      <th>pPhSeaCotJ</th>\n",
       "      <th>pPbSeaCotJ</th>\n",
       "      <th>iAnuTran</th>\n",
       "      <th>xqVarPJDrPRf</th>\n",
       "      <th>canceled</th>\n",
       "    </tr>\n",
       "    <tr>\n",
       "      <th>nTran</th>\n",
       "      <th></th>\n",
       "      <th></th>\n",
       "      <th></th>\n",
       "      <th></th>\n",
       "      <th></th>\n",
       "      <th></th>\n",
       "      <th></th>\n",
       "      <th></th>\n",
       "      <th></th>\n",
       "      <th></th>\n",
       "      <th></th>\n",
       "      <th></th>\n",
       "    </tr>\n",
       "  </thead>\n",
       "  <tbody>\n",
       "    <tr>\n",
       "      <th>1</th>\n",
       "      <td>None</td>\n",
       "      <td>0</td>\n",
       "      <td>90037</td>\n",
       "      <td>300000</td>\n",
       "      <td>2941.0</td>\n",
       "      <td>0</td>\n",
       "      <td>\u0000</td>\n",
       "      <td>0.0</td>\n",
       "      <td>0.0</td>\n",
       "      <td>0</td>\n",
       "      <td>0.0</td>\n",
       "      <td>0</td>\n",
       "    </tr>\n",
       "    <tr>\n",
       "      <th>2</th>\n",
       "      <td>None</td>\n",
       "      <td>0</td>\n",
       "      <td>90037</td>\n",
       "      <td>100000</td>\n",
       "      <td>2941.0</td>\n",
       "      <td>0</td>\n",
       "      <td>\u0000</td>\n",
       "      <td>0.0</td>\n",
       "      <td>0.0</td>\n",
       "      <td>0</td>\n",
       "      <td>0.0</td>\n",
       "      <td>0</td>\n",
       "    </tr>\n",
       "    <tr>\n",
       "      <th>3</th>\n",
       "      <td>None</td>\n",
       "      <td>0</td>\n",
       "      <td>90037</td>\n",
       "      <td>43368</td>\n",
       "      <td>2941.0</td>\n",
       "      <td>0</td>\n",
       "      <td>\u0000</td>\n",
       "      <td>0.0</td>\n",
       "      <td>0.0</td>\n",
       "      <td>0</td>\n",
       "      <td>0.0</td>\n",
       "      <td>0</td>\n",
       "    </tr>\n",
       "    <tr>\n",
       "      <th>4</th>\n",
       "      <td>None</td>\n",
       "      <td>0</td>\n",
       "      <td>90037</td>\n",
       "      <td>11960</td>\n",
       "      <td>2941.0</td>\n",
       "      <td>0</td>\n",
       "      <td>\u0000</td>\n",
       "      <td>0.0</td>\n",
       "      <td>0.0</td>\n",
       "      <td>0</td>\n",
       "      <td>0.0</td>\n",
       "      <td>0</td>\n",
       "    </tr>\n",
       "    <tr>\n",
       "      <th>5</th>\n",
       "      <td>None</td>\n",
       "      <td>0</td>\n",
       "      <td>90037</td>\n",
       "      <td>10218</td>\n",
       "      <td>2941.0</td>\n",
       "      <td>0</td>\n",
       "      <td>\u0000</td>\n",
       "      <td>0.0</td>\n",
       "      <td>0.0</td>\n",
       "      <td>0</td>\n",
       "      <td>0.0</td>\n",
       "      <td>0</td>\n",
       "    </tr>\n",
       "    <tr>\n",
       "      <th>...</th>\n",
       "      <td>...</td>\n",
       "      <td>...</td>\n",
       "      <td>...</td>\n",
       "      <td>...</td>\n",
       "      <td>...</td>\n",
       "      <td>...</td>\n",
       "      <td>...</td>\n",
       "      <td>...</td>\n",
       "      <td>...</td>\n",
       "      <td>...</td>\n",
       "      <td>...</td>\n",
       "      <td>...</td>\n",
       "    </tr>\n",
       "    <tr>\n",
       "      <th>6711</th>\n",
       "      <td>None</td>\n",
       "      <td>0</td>\n",
       "      <td>122958</td>\n",
       "      <td>20000</td>\n",
       "      <td>3067.0</td>\n",
       "      <td>0</td>\n",
       "      <td>\u0000</td>\n",
       "      <td>0.0</td>\n",
       "      <td>0.0</td>\n",
       "      <td>0</td>\n",
       "      <td>0.0</td>\n",
       "      <td>0</td>\n",
       "    </tr>\n",
       "    <tr>\n",
       "      <th>6712</th>\n",
       "      <td>None</td>\n",
       "      <td>0</td>\n",
       "      <td>122959</td>\n",
       "      <td>20000</td>\n",
       "      <td>3067.0</td>\n",
       "      <td>0</td>\n",
       "      <td>\u0000</td>\n",
       "      <td>0.0</td>\n",
       "      <td>0.0</td>\n",
       "      <td>0</td>\n",
       "      <td>0.0</td>\n",
       "      <td>0</td>\n",
       "    </tr>\n",
       "    <tr>\n",
       "      <th>6713</th>\n",
       "      <td>None</td>\n",
       "      <td>0</td>\n",
       "      <td>122959</td>\n",
       "      <td>14250</td>\n",
       "      <td>3067.0</td>\n",
       "      <td>0</td>\n",
       "      <td>\u0000</td>\n",
       "      <td>0.0</td>\n",
       "      <td>0.0</td>\n",
       "      <td>0</td>\n",
       "      <td>0.0</td>\n",
       "      <td>0</td>\n",
       "    </tr>\n",
       "    <tr>\n",
       "      <th>6714</th>\n",
       "      <td>None</td>\n",
       "      <td>0</td>\n",
       "      <td>122959</td>\n",
       "      <td>20000</td>\n",
       "      <td>3067.0</td>\n",
       "      <td>0</td>\n",
       "      <td>\u0000</td>\n",
       "      <td>0.0</td>\n",
       "      <td>0.0</td>\n",
       "      <td>0</td>\n",
       "      <td>0.0</td>\n",
       "      <td>0</td>\n",
       "    </tr>\n",
       "    <tr>\n",
       "      <th>6715</th>\n",
       "      <td>None</td>\n",
       "      <td>0</td>\n",
       "      <td>122959</td>\n",
       "      <td>20000</td>\n",
       "      <td>3067.0</td>\n",
       "      <td>0</td>\n",
       "      <td>\u0000</td>\n",
       "      <td>0.0</td>\n",
       "      <td>0.0</td>\n",
       "      <td>0</td>\n",
       "      <td>0.0</td>\n",
       "      <td>0</td>\n",
       "    </tr>\n",
       "  </tbody>\n",
       "</table>\n",
       "<p>7121 rows × 12 columns</p>\n",
       "</div>"
      ],
      "text/plain": [
       "      insCode  dEven   hEven  qTitTran   pTran  qTitNgJ iSensVarP  pPhSeaCotJ  \\\n",
       "nTran                                                                           \n",
       "1        None      0   90037    300000  2941.0        0         \u0000         0.0   \n",
       "2        None      0   90037    100000  2941.0        0         \u0000         0.0   \n",
       "3        None      0   90037     43368  2941.0        0         \u0000         0.0   \n",
       "4        None      0   90037     11960  2941.0        0         \u0000         0.0   \n",
       "5        None      0   90037     10218  2941.0        0         \u0000         0.0   \n",
       "...       ...    ...     ...       ...     ...      ...       ...         ...   \n",
       "6711     None      0  122958     20000  3067.0        0         \u0000         0.0   \n",
       "6712     None      0  122959     20000  3067.0        0         \u0000         0.0   \n",
       "6713     None      0  122959     14250  3067.0        0         \u0000         0.0   \n",
       "6714     None      0  122959     20000  3067.0        0         \u0000         0.0   \n",
       "6715     None      0  122959     20000  3067.0        0         \u0000         0.0   \n",
       "\n",
       "       pPbSeaCotJ  iAnuTran  xqVarPJDrPRf  canceled  \n",
       "nTran                                                \n",
       "1             0.0         0           0.0         0  \n",
       "2             0.0         0           0.0         0  \n",
       "3             0.0         0           0.0         0  \n",
       "4             0.0         0           0.0         0  \n",
       "5             0.0         0           0.0         0  \n",
       "...           ...       ...           ...       ...  \n",
       "6711          0.0         0           0.0         0  \n",
       "6712          0.0         0           0.0         0  \n",
       "6713          0.0         0           0.0         0  \n",
       "6714          0.0         0           0.0         0  \n",
       "6715          0.0         0           0.0         0  \n",
       "\n",
       "[7121 rows x 12 columns]"
      ]
     },
     "execution_count": 3,
     "metadata": {},
     "output_type": "execute_result"
    }
   ],
   "source": [
    "response = req.get(\n",
    "    f'http://cdn.tsetmc.com/api/Trade/GetTradeHistory/{inst_id}/{desired_date}/false', verify=False, headers=headers)\n",
    "json_data = json.loads(response.text)\n",
    "ticks = pd.DataFrame(json_data['tradeHistory']).set_index('nTran').sort_index()\n",
    "ticks"
   ]
  },
  {
   "cell_type": "code",
   "execution_count": 5,
   "metadata": {},
   "outputs": [],
   "source": [
    "ticks['insCode'] = inst_id\n",
    "ticks['dEven'] = pd.to_datetime(desired_date,format='%Y%m%d')\n",
    "#ticks['ts'] = pd.to_datetime(ticks['hEven'], format='%H%M%S')\n",
    "ticks['timestamp']= ticks['dEven'].astype(str) + pd.to_datetime(ticks['hEven'], format='%H%M%S').astype(str)"
   ]
  },
  {
   "cell_type": "code",
   "execution_count": 6,
   "metadata": {},
   "outputs": [
    {
     "data": {
      "text/html": [
       "<div>\n",
       "<style scoped>\n",
       "    .dataframe tbody tr th:only-of-type {\n",
       "        vertical-align: middle;\n",
       "    }\n",
       "\n",
       "    .dataframe tbody tr th {\n",
       "        vertical-align: top;\n",
       "    }\n",
       "\n",
       "    .dataframe thead th {\n",
       "        text-align: right;\n",
       "    }\n",
       "</style>\n",
       "<table border=\"1\" class=\"dataframe\">\n",
       "  <thead>\n",
       "    <tr style=\"text-align: right;\">\n",
       "      <th></th>\n",
       "      <th>insCode</th>\n",
       "      <th>dEven</th>\n",
       "      <th>hEven</th>\n",
       "      <th>qTitTran</th>\n",
       "      <th>pTran</th>\n",
       "      <th>qTitNgJ</th>\n",
       "      <th>iSensVarP</th>\n",
       "      <th>pPhSeaCotJ</th>\n",
       "      <th>pPbSeaCotJ</th>\n",
       "      <th>iAnuTran</th>\n",
       "      <th>xqVarPJDrPRf</th>\n",
       "      <th>canceled</th>\n",
       "      <th>timestamp</th>\n",
       "    </tr>\n",
       "    <tr>\n",
       "      <th>nTran</th>\n",
       "      <th></th>\n",
       "      <th></th>\n",
       "      <th></th>\n",
       "      <th></th>\n",
       "      <th></th>\n",
       "      <th></th>\n",
       "      <th></th>\n",
       "      <th></th>\n",
       "      <th></th>\n",
       "      <th></th>\n",
       "      <th></th>\n",
       "      <th></th>\n",
       "      <th></th>\n",
       "    </tr>\n",
       "  </thead>\n",
       "  <tbody>\n",
       "    <tr>\n",
       "      <th>1</th>\n",
       "      <td>43362635835198978</td>\n",
       "      <td>2022-08-21</td>\n",
       "      <td>90037</td>\n",
       "      <td>300000</td>\n",
       "      <td>2941.0</td>\n",
       "      <td>0</td>\n",
       "      <td>\u0000</td>\n",
       "      <td>0.0</td>\n",
       "      <td>0.0</td>\n",
       "      <td>0</td>\n",
       "      <td>0.0</td>\n",
       "      <td>0</td>\n",
       "      <td>2022-08-211900-01-01 09:00:37</td>\n",
       "    </tr>\n",
       "    <tr>\n",
       "      <th>2</th>\n",
       "      <td>43362635835198978</td>\n",
       "      <td>2022-08-21</td>\n",
       "      <td>90037</td>\n",
       "      <td>100000</td>\n",
       "      <td>2941.0</td>\n",
       "      <td>0</td>\n",
       "      <td>\u0000</td>\n",
       "      <td>0.0</td>\n",
       "      <td>0.0</td>\n",
       "      <td>0</td>\n",
       "      <td>0.0</td>\n",
       "      <td>0</td>\n",
       "      <td>2022-08-211900-01-01 09:00:37</td>\n",
       "    </tr>\n",
       "    <tr>\n",
       "      <th>3</th>\n",
       "      <td>43362635835198978</td>\n",
       "      <td>2022-08-21</td>\n",
       "      <td>90037</td>\n",
       "      <td>43368</td>\n",
       "      <td>2941.0</td>\n",
       "      <td>0</td>\n",
       "      <td>\u0000</td>\n",
       "      <td>0.0</td>\n",
       "      <td>0.0</td>\n",
       "      <td>0</td>\n",
       "      <td>0.0</td>\n",
       "      <td>0</td>\n",
       "      <td>2022-08-211900-01-01 09:00:37</td>\n",
       "    </tr>\n",
       "    <tr>\n",
       "      <th>4</th>\n",
       "      <td>43362635835198978</td>\n",
       "      <td>2022-08-21</td>\n",
       "      <td>90037</td>\n",
       "      <td>11960</td>\n",
       "      <td>2941.0</td>\n",
       "      <td>0</td>\n",
       "      <td>\u0000</td>\n",
       "      <td>0.0</td>\n",
       "      <td>0.0</td>\n",
       "      <td>0</td>\n",
       "      <td>0.0</td>\n",
       "      <td>0</td>\n",
       "      <td>2022-08-211900-01-01 09:00:37</td>\n",
       "    </tr>\n",
       "    <tr>\n",
       "      <th>5</th>\n",
       "      <td>43362635835198978</td>\n",
       "      <td>2022-08-21</td>\n",
       "      <td>90037</td>\n",
       "      <td>10218</td>\n",
       "      <td>2941.0</td>\n",
       "      <td>0</td>\n",
       "      <td>\u0000</td>\n",
       "      <td>0.0</td>\n",
       "      <td>0.0</td>\n",
       "      <td>0</td>\n",
       "      <td>0.0</td>\n",
       "      <td>0</td>\n",
       "      <td>2022-08-211900-01-01 09:00:37</td>\n",
       "    </tr>\n",
       "    <tr>\n",
       "      <th>...</th>\n",
       "      <td>...</td>\n",
       "      <td>...</td>\n",
       "      <td>...</td>\n",
       "      <td>...</td>\n",
       "      <td>...</td>\n",
       "      <td>...</td>\n",
       "      <td>...</td>\n",
       "      <td>...</td>\n",
       "      <td>...</td>\n",
       "      <td>...</td>\n",
       "      <td>...</td>\n",
       "      <td>...</td>\n",
       "      <td>...</td>\n",
       "    </tr>\n",
       "    <tr>\n",
       "      <th>6711</th>\n",
       "      <td>43362635835198978</td>\n",
       "      <td>2022-08-21</td>\n",
       "      <td>122958</td>\n",
       "      <td>20000</td>\n",
       "      <td>3067.0</td>\n",
       "      <td>0</td>\n",
       "      <td>\u0000</td>\n",
       "      <td>0.0</td>\n",
       "      <td>0.0</td>\n",
       "      <td>0</td>\n",
       "      <td>0.0</td>\n",
       "      <td>0</td>\n",
       "      <td>2022-08-211900-01-01 12:29:58</td>\n",
       "    </tr>\n",
       "    <tr>\n",
       "      <th>6712</th>\n",
       "      <td>43362635835198978</td>\n",
       "      <td>2022-08-21</td>\n",
       "      <td>122959</td>\n",
       "      <td>20000</td>\n",
       "      <td>3067.0</td>\n",
       "      <td>0</td>\n",
       "      <td>\u0000</td>\n",
       "      <td>0.0</td>\n",
       "      <td>0.0</td>\n",
       "      <td>0</td>\n",
       "      <td>0.0</td>\n",
       "      <td>0</td>\n",
       "      <td>2022-08-211900-01-01 12:29:59</td>\n",
       "    </tr>\n",
       "    <tr>\n",
       "      <th>6713</th>\n",
       "      <td>43362635835198978</td>\n",
       "      <td>2022-08-21</td>\n",
       "      <td>122959</td>\n",
       "      <td>14250</td>\n",
       "      <td>3067.0</td>\n",
       "      <td>0</td>\n",
       "      <td>\u0000</td>\n",
       "      <td>0.0</td>\n",
       "      <td>0.0</td>\n",
       "      <td>0</td>\n",
       "      <td>0.0</td>\n",
       "      <td>0</td>\n",
       "      <td>2022-08-211900-01-01 12:29:59</td>\n",
       "    </tr>\n",
       "    <tr>\n",
       "      <th>6714</th>\n",
       "      <td>43362635835198978</td>\n",
       "      <td>2022-08-21</td>\n",
       "      <td>122959</td>\n",
       "      <td>20000</td>\n",
       "      <td>3067.0</td>\n",
       "      <td>0</td>\n",
       "      <td>\u0000</td>\n",
       "      <td>0.0</td>\n",
       "      <td>0.0</td>\n",
       "      <td>0</td>\n",
       "      <td>0.0</td>\n",
       "      <td>0</td>\n",
       "      <td>2022-08-211900-01-01 12:29:59</td>\n",
       "    </tr>\n",
       "    <tr>\n",
       "      <th>6715</th>\n",
       "      <td>43362635835198978</td>\n",
       "      <td>2022-08-21</td>\n",
       "      <td>122959</td>\n",
       "      <td>20000</td>\n",
       "      <td>3067.0</td>\n",
       "      <td>0</td>\n",
       "      <td>\u0000</td>\n",
       "      <td>0.0</td>\n",
       "      <td>0.0</td>\n",
       "      <td>0</td>\n",
       "      <td>0.0</td>\n",
       "      <td>0</td>\n",
       "      <td>2022-08-211900-01-01 12:29:59</td>\n",
       "    </tr>\n",
       "  </tbody>\n",
       "</table>\n",
       "<p>7121 rows × 13 columns</p>\n",
       "</div>"
      ],
      "text/plain": [
       "                 insCode      dEven   hEven  qTitTran   pTran  qTitNgJ  \\\n",
       "nTran                                                                    \n",
       "1      43362635835198978 2022-08-21   90037    300000  2941.0        0   \n",
       "2      43362635835198978 2022-08-21   90037    100000  2941.0        0   \n",
       "3      43362635835198978 2022-08-21   90037     43368  2941.0        0   \n",
       "4      43362635835198978 2022-08-21   90037     11960  2941.0        0   \n",
       "5      43362635835198978 2022-08-21   90037     10218  2941.0        0   \n",
       "...                  ...        ...     ...       ...     ...      ...   \n",
       "6711   43362635835198978 2022-08-21  122958     20000  3067.0        0   \n",
       "6712   43362635835198978 2022-08-21  122959     20000  3067.0        0   \n",
       "6713   43362635835198978 2022-08-21  122959     14250  3067.0        0   \n",
       "6714   43362635835198978 2022-08-21  122959     20000  3067.0        0   \n",
       "6715   43362635835198978 2022-08-21  122959     20000  3067.0        0   \n",
       "\n",
       "      iSensVarP  pPhSeaCotJ  pPbSeaCotJ  iAnuTran  xqVarPJDrPRf  canceled  \\\n",
       "nTran                                                                       \n",
       "1             \u0000         0.0         0.0         0           0.0         0   \n",
       "2             \u0000         0.0         0.0         0           0.0         0   \n",
       "3             \u0000         0.0         0.0         0           0.0         0   \n",
       "4             \u0000         0.0         0.0         0           0.0         0   \n",
       "5             \u0000         0.0         0.0         0           0.0         0   \n",
       "...         ...         ...         ...       ...           ...       ...   \n",
       "6711          \u0000         0.0         0.0         0           0.0         0   \n",
       "6712          \u0000         0.0         0.0         0           0.0         0   \n",
       "6713          \u0000         0.0         0.0         0           0.0         0   \n",
       "6714          \u0000         0.0         0.0         0           0.0         0   \n",
       "6715          \u0000         0.0         0.0         0           0.0         0   \n",
       "\n",
       "                           timestamp  \n",
       "nTran                                 \n",
       "1      2022-08-211900-01-01 09:00:37  \n",
       "2      2022-08-211900-01-01 09:00:37  \n",
       "3      2022-08-211900-01-01 09:00:37  \n",
       "4      2022-08-211900-01-01 09:00:37  \n",
       "5      2022-08-211900-01-01 09:00:37  \n",
       "...                              ...  \n",
       "6711   2022-08-211900-01-01 12:29:58  \n",
       "6712   2022-08-211900-01-01 12:29:59  \n",
       "6713   2022-08-211900-01-01 12:29:59  \n",
       "6714   2022-08-211900-01-01 12:29:59  \n",
       "6715   2022-08-211900-01-01 12:29:59  \n",
       "\n",
       "[7121 rows x 13 columns]"
      ]
     },
     "execution_count": 6,
     "metadata": {},
     "output_type": "execute_result"
    }
   ],
   "source": [
    "ticks"
   ]
  },
  {
   "cell_type": "code",
   "execution_count": null,
   "metadata": {},
   "outputs": [],
   "source": [
    "ticks.resample()"
   ]
  },
  {
   "cell_type": "markdown",
   "metadata": {},
   "source": [
    "### Filtering & Ploting"
   ]
  },
  {
   "cell_type": "code",
   "execution_count": null,
   "metadata": {},
   "outputs": [],
   "source": [
    "import plotly.graph_objects as go\n",
    "import plotly.express as px\n",
    "import plotly.io as pio\n",
    "pio.templates.default = 'plotly_dark'\n"
   ]
  },
  {
   "cell_type": "code",
   "execution_count": 15,
   "metadata": {},
   "outputs": [],
   "source": [
    "# Today's MarketWatch! DataFrame\n",
    "traded_today_df = pd.DataFrame([data[instrument].iloc[-1] for instrument in instruments_traded_so_far if (data[instrument].index[-1] == last_workday)])\n"
   ]
  },
  {
   "cell_type": "code",
   "execution_count": 6,
   "metadata": {},
   "outputs": [
    {
     "data": {
      "text/html": [
       "<div>\n",
       "<style scoped>\n",
       "    .dataframe tbody tr th:only-of-type {\n",
       "        vertical-align: middle;\n",
       "    }\n",
       "\n",
       "    .dataframe tbody tr th {\n",
       "        vertical-align: top;\n",
       "    }\n",
       "\n",
       "    .dataframe thead th {\n",
       "        text-align: right;\n",
       "    }\n",
       "</style>\n",
       "<table border=\"1\" class=\"dataframe\">\n",
       "  <thead>\n",
       "    <tr style=\"text-align: right;\">\n",
       "      <th></th>\n",
       "      <th>ent code</th>\n",
       "      <th>name</th>\n",
       "      <th>namad</th>\n",
       "      <th>nam</th>\n",
       "      <th>j-date</th>\n",
       "      <th>open</th>\n",
       "      <th>high</th>\n",
       "      <th>low</th>\n",
       "      <th>last</th>\n",
       "      <th>close</th>\n",
       "      <th>...</th>\n",
       "      <th>volume MA 5</th>\n",
       "      <th>volume MA 9</th>\n",
       "      <th>volume MA 3</th>\n",
       "      <th>volume MA 26</th>\n",
       "      <th>volume MA 52</th>\n",
       "      <th>value MA 3</th>\n",
       "      <th>value MA 5</th>\n",
       "      <th>value MA 9</th>\n",
       "      <th>value MA 26</th>\n",
       "      <th>value MA 52</th>\n",
       "    </tr>\n",
       "  </thead>\n",
       "  <tbody>\n",
       "    <tr>\n",
       "      <th>2022-09-10</th>\n",
       "      <td>TB77</td>\n",
       "      <td>TreasuryBill230109-a</td>\n",
       "      <td>اخزا902</td>\n",
       "      <td>اسنادخزانه-م2بودجه99-011019-ت</td>\n",
       "      <td>14010619</td>\n",
       "      <td>937000.0</td>\n",
       "      <td>937000.0</td>\n",
       "      <td>935220.0</td>\n",
       "      <td>936500.0</td>\n",
       "      <td>936910.0</td>\n",
       "      <td>...</td>\n",
       "      <td>28700.0</td>\n",
       "      <td>2.518889e+04</td>\n",
       "      <td>4.353333e+04</td>\n",
       "      <td>2.692308e+04</td>\n",
       "      <td>4.750385e+04</td>\n",
       "      <td>4.077619e+10</td>\n",
       "      <td>2.687331e+10</td>\n",
       "      <td>2.352258e+10</td>\n",
       "      <td>2.494468e+10</td>\n",
       "      <td>4.336457e+10</td>\n",
       "    </tr>\n",
       "    <tr>\n",
       "      <th>2022-09-10</th>\n",
       "      <td>TB83</td>\n",
       "      <td>TreasuryBill230828-a</td>\n",
       "      <td>اخزا908</td>\n",
       "      <td>اسنادخزانه-م8بودجه99-020606-ت</td>\n",
       "      <td>14010619</td>\n",
       "      <td>828870.0</td>\n",
       "      <td>829430.0</td>\n",
       "      <td>828000.0</td>\n",
       "      <td>829430.0</td>\n",
       "      <td>829330.0</td>\n",
       "      <td>...</td>\n",
       "      <td>28160.0</td>\n",
       "      <td>2.363333e+04</td>\n",
       "      <td>3.763333e+04</td>\n",
       "      <td>1.716538e+04</td>\n",
       "      <td>4.509423e+04</td>\n",
       "      <td>3.120696e+10</td>\n",
       "      <td>2.332243e+10</td>\n",
       "      <td>1.953626e+10</td>\n",
       "      <td>1.408507e+10</td>\n",
       "      <td>3.614158e+10</td>\n",
       "    </tr>\n",
       "    <tr>\n",
       "      <th>2022-09-10</th>\n",
       "      <td>TB91</td>\n",
       "      <td>TreasuryBill230819-a</td>\n",
       "      <td>اخزا916</td>\n",
       "      <td>اسنادخزانه-م16بودجه99-020528-ت</td>\n",
       "      <td>14010619</td>\n",
       "      <td>842180.0</td>\n",
       "      <td>842180.0</td>\n",
       "      <td>842180.0</td>\n",
       "      <td>842180.0</td>\n",
       "      <td>842180.0</td>\n",
       "      <td>...</td>\n",
       "      <td>12409.8</td>\n",
       "      <td>9.119333e+03</td>\n",
       "      <td>1.833533e+04</td>\n",
       "      <td>6.203263e+03</td>\n",
       "      <td>6.203263e+03</td>\n",
       "      <td>1.541292e+10</td>\n",
       "      <td>1.035659e+10</td>\n",
       "      <td>7.508267e+09</td>\n",
       "      <td>4.911234e+09</td>\n",
       "      <td>4.911234e+09</td>\n",
       "    </tr>\n",
       "    <tr>\n",
       "      <th>2022-09-10</th>\n",
       "      <td>SALF</td>\n",
       "      <td>AminTadbirFardaETF-a</td>\n",
       "      <td>الماس</td>\n",
       "      <td>صندوق_س.امين_تدبيرگران_فردا-س-ت</td>\n",
       "      <td>14010619</td>\n",
       "      <td>111000.0</td>\n",
       "      <td>114000.0</td>\n",
       "      <td>111000.0</td>\n",
       "      <td>111000.0</td>\n",
       "      <td>112097.0</td>\n",
       "      <td>...</td>\n",
       "      <td>13507.4</td>\n",
       "      <td>1.236522e+04</td>\n",
       "      <td>2.065900e+04</td>\n",
       "      <td>1.207558e+04</td>\n",
       "      <td>1.582867e+04</td>\n",
       "      <td>2.315368e+09</td>\n",
       "      <td>1.513163e+09</td>\n",
       "      <td>1.393643e+09</td>\n",
       "      <td>1.330181e+09</td>\n",
       "      <td>1.777295e+09</td>\n",
       "    </tr>\n",
       "    <tr>\n",
       "      <th>2022-09-10</th>\n",
       "      <td>TOSZ</td>\n",
       "      <td>TOSAN-a</td>\n",
       "      <td>توسن</td>\n",
       "      <td>توسعه_سامانه_ي_نرم_افزاري_نگين-ت</td>\n",
       "      <td>14010619</td>\n",
       "      <td>14990.0</td>\n",
       "      <td>15520.0</td>\n",
       "      <td>14550.0</td>\n",
       "      <td>15520.0</td>\n",
       "      <td>15320.0</td>\n",
       "      <td>...</td>\n",
       "      <td>2606217.0</td>\n",
       "      <td>1.957540e+06</td>\n",
       "      <td>3.788956e+06</td>\n",
       "      <td>1.314413e+06</td>\n",
       "      <td>1.201066e+06</td>\n",
       "      <td>5.849467e+10</td>\n",
       "      <td>4.178938e+10</td>\n",
       "      <td>3.372620e+10</td>\n",
       "      <td>2.487222e+10</td>\n",
       "      <td>2.360080e+10</td>\n",
       "    </tr>\n",
       "    <tr>\n",
       "      <th>2022-09-10</th>\n",
       "      <td>KSHJ</td>\n",
       "      <td>S*IRI Marine Co.-a</td>\n",
       "      <td>حکشتی</td>\n",
       "      <td>كشتيراني_جمهوري_اسلامي_ايران-ت</td>\n",
       "      <td>14010619</td>\n",
       "      <td>23510.0</td>\n",
       "      <td>23510.0</td>\n",
       "      <td>22560.0</td>\n",
       "      <td>22570.0</td>\n",
       "      <td>22570.0</td>\n",
       "      <td>...</td>\n",
       "      <td>14556392.4</td>\n",
       "      <td>1.709113e+07</td>\n",
       "      <td>1.924198e+07</td>\n",
       "      <td>1.659934e+07</td>\n",
       "      <td>2.091673e+07</td>\n",
       "      <td>4.410619e+11</td>\n",
       "      <td>3.382885e+11</td>\n",
       "      <td>4.153053e+11</td>\n",
       "      <td>3.963030e+11</td>\n",
       "      <td>4.603504e+11</td>\n",
       "    </tr>\n",
       "    <tr>\n",
       "      <th>2022-09-10</th>\n",
       "      <td>KKHP</td>\n",
       "      <td>S*Kerman Khodro E.-a</td>\n",
       "      <td>خکرمان</td>\n",
       "      <td>گروه_اقتصادي_كرمان_خودرو-ت</td>\n",
       "      <td>14010619</td>\n",
       "      <td>3648.0</td>\n",
       "      <td>3648.0</td>\n",
       "      <td>3583.0</td>\n",
       "      <td>3648.0</td>\n",
       "      <td>3647.0</td>\n",
       "      <td>...</td>\n",
       "      <td>14766569.0</td>\n",
       "      <td>1.165854e+07</td>\n",
       "      <td>2.159768e+07</td>\n",
       "      <td>1.558829e+07</td>\n",
       "      <td>1.438011e+07</td>\n",
       "      <td>7.805133e+10</td>\n",
       "      <td>5.289414e+10</td>\n",
       "      <td>4.149542e+10</td>\n",
       "      <td>5.428829e+10</td>\n",
       "      <td>4.874815e+10</td>\n",
       "    </tr>\n",
       "    <tr>\n",
       "      <th>2022-09-10</th>\n",
       "      <td>INFO</td>\n",
       "      <td>Inf. Services-a</td>\n",
       "      <td>رانفور</td>\n",
       "      <td>خدمات‌انفورماتيك‌-ت</td>\n",
       "      <td>14010619</td>\n",
       "      <td>3930.0</td>\n",
       "      <td>4049.0</td>\n",
       "      <td>3840.0</td>\n",
       "      <td>4049.0</td>\n",
       "      <td>4023.0</td>\n",
       "      <td>...</td>\n",
       "      <td>2740031.4</td>\n",
       "      <td>2.704766e+06</td>\n",
       "      <td>3.020928e+06</td>\n",
       "      <td>3.143687e+06</td>\n",
       "      <td>3.256747e+06</td>\n",
       "      <td>1.205973e+10</td>\n",
       "      <td>1.096140e+10</td>\n",
       "      <td>1.088318e+10</td>\n",
       "      <td>1.251370e+10</td>\n",
       "      <td>1.277916e+10</td>\n",
       "    </tr>\n",
       "    <tr>\n",
       "      <th>2022-09-10</th>\n",
       "      <td>ZAKF</td>\n",
       "      <td>Zarin Korosh ETF-a</td>\n",
       "      <td>زرین</td>\n",
       "      <td>صندوق_س._سهام_زرين_كوروش-س-ت</td>\n",
       "      <td>14010619</td>\n",
       "      <td>12000.0</td>\n",
       "      <td>12288.0</td>\n",
       "      <td>11930.0</td>\n",
       "      <td>11950.0</td>\n",
       "      <td>12086.0</td>\n",
       "      <td>...</td>\n",
       "      <td>117864.0</td>\n",
       "      <td>9.022900e+04</td>\n",
       "      <td>1.429957e+05</td>\n",
       "      <td>1.223091e+05</td>\n",
       "      <td>1.599467e+05</td>\n",
       "      <td>1.728267e+09</td>\n",
       "      <td>1.429458e+09</td>\n",
       "      <td>1.098126e+09</td>\n",
       "      <td>1.509757e+09</td>\n",
       "      <td>2.021369e+09</td>\n",
       "    </tr>\n",
       "    <tr>\n",
       "      <th>2022-09-10</th>\n",
       "      <td>BTEJ</td>\n",
       "      <td>BTEJ-O-14010720-a</td>\n",
       "      <td>طجار7047</td>\n",
       "      <td>اختيارف_وتجارت-1700-1401/07/20-ت</td>\n",
       "      <td>14010619</td>\n",
       "      <td>200.0</td>\n",
       "      <td>200.0</td>\n",
       "      <td>150.0</td>\n",
       "      <td>175.0</td>\n",
       "      <td>159.0</td>\n",
       "      <td>...</td>\n",
       "      <td>245.0</td>\n",
       "      <td>2.534444e+02</td>\n",
       "      <td>3.613333e+02</td>\n",
       "      <td>2.326500e+02</td>\n",
       "      <td>2.326500e+02</td>\n",
       "      <td>5.696067e+07</td>\n",
       "      <td>3.640440e+07</td>\n",
       "      <td>2.872356e+07</td>\n",
       "      <td>2.106390e+07</td>\n",
       "      <td>2.106390e+07</td>\n",
       "    </tr>\n",
       "    <tr>\n",
       "      <th>2022-09-10</th>\n",
       "      <td>BTEJ</td>\n",
       "      <td>BTEJ-O-14010720-a</td>\n",
       "      <td>طجار7048</td>\n",
       "      <td>اختيارف_وتجارت-1800-1401/07/20-ت</td>\n",
       "      <td>14010619</td>\n",
       "      <td>250.0</td>\n",
       "      <td>250.0</td>\n",
       "      <td>250.0</td>\n",
       "      <td>250.0</td>\n",
       "      <td>250.0</td>\n",
       "      <td>...</td>\n",
       "      <td>95.0</td>\n",
       "      <td>1.094444e+02</td>\n",
       "      <td>4.500000e+01</td>\n",
       "      <td>1.094444e+02</td>\n",
       "      <td>1.094444e+02</td>\n",
       "      <td>1.005000e+07</td>\n",
       "      <td>1.217700e+07</td>\n",
       "      <td>1.131500e+07</td>\n",
       "      <td>1.131500e+07</td>\n",
       "      <td>1.131500e+07</td>\n",
       "    </tr>\n",
       "    <tr>\n",
       "      <th>2022-09-10</th>\n",
       "      <td>SEPA</td>\n",
       "      <td>Sepahan Group-a</td>\n",
       "      <td>فسپا</td>\n",
       "      <td>گروه‌صنعتي‌سپاهان‌-ت</td>\n",
       "      <td>14010619</td>\n",
       "      <td>12120.0</td>\n",
       "      <td>12780.0</td>\n",
       "      <td>12060.0</td>\n",
       "      <td>12740.0</td>\n",
       "      <td>12700.0</td>\n",
       "      <td>...</td>\n",
       "      <td>2043877.0</td>\n",
       "      <td>1.959336e+06</td>\n",
       "      <td>2.762092e+06</td>\n",
       "      <td>1.896542e+06</td>\n",
       "      <td>2.539176e+06</td>\n",
       "      <td>3.473359e+10</td>\n",
       "      <td>2.554138e+10</td>\n",
       "      <td>2.438707e+10</td>\n",
       "      <td>2.336534e+10</td>\n",
       "      <td>3.636972e+10</td>\n",
       "    </tr>\n",
       "    <tr>\n",
       "      <th>2022-09-10</th>\n",
       "      <td>ALMR</td>\n",
       "      <td>Alomrad-a</td>\n",
       "      <td>فمراد</td>\n",
       "      <td>آلومراد-ت</td>\n",
       "      <td>14010619</td>\n",
       "      <td>36490.0</td>\n",
       "      <td>36490.0</td>\n",
       "      <td>35100.0</td>\n",
       "      <td>36490.0</td>\n",
       "      <td>36380.0</td>\n",
       "      <td>...</td>\n",
       "      <td>3370295.6</td>\n",
       "      <td>4.324636e+06</td>\n",
       "      <td>4.610454e+06</td>\n",
       "      <td>4.522374e+06</td>\n",
       "      <td>4.691466e+06</td>\n",
       "      <td>1.645106e+11</td>\n",
       "      <td>1.174229e+11</td>\n",
       "      <td>1.386712e+11</td>\n",
       "      <td>1.277141e+11</td>\n",
       "      <td>1.423153e+11</td>\n",
       "    </tr>\n",
       "    <tr>\n",
       "      <th>2022-09-10</th>\n",
       "      <td>PYAP</td>\n",
       "      <td>Payam Ind.-a</td>\n",
       "      <td>لپیام</td>\n",
       "      <td>گسترش_صنايع_پيام-ت</td>\n",
       "      <td>14010619</td>\n",
       "      <td>20900.0</td>\n",
       "      <td>20900.0</td>\n",
       "      <td>19750.0</td>\n",
       "      <td>19900.0</td>\n",
       "      <td>20450.0</td>\n",
       "      <td>...</td>\n",
       "      <td>529650.6</td>\n",
       "      <td>4.918641e+05</td>\n",
       "      <td>6.775173e+05</td>\n",
       "      <td>7.064774e+05</td>\n",
       "      <td>6.051614e+05</td>\n",
       "      <td>1.384189e+10</td>\n",
       "      <td>1.073666e+10</td>\n",
       "      <td>9.702992e+09</td>\n",
       "      <td>1.341095e+10</td>\n",
       "      <td>1.191397e+10</td>\n",
       "    </tr>\n",
       "    <tr>\n",
       "      <th>2022-09-10</th>\n",
       "      <td>BVMA</td>\n",
       "      <td>Bime Ma Co.-a</td>\n",
       "      <td>ما</td>\n",
       "      <td>بيمه__ما-ت</td>\n",
       "      <td>14010619</td>\n",
       "      <td>4200.0</td>\n",
       "      <td>4200.0</td>\n",
       "      <td>3990.0</td>\n",
       "      <td>4027.0</td>\n",
       "      <td>4074.0</td>\n",
       "      <td>...</td>\n",
       "      <td>1084562.8</td>\n",
       "      <td>7.911029e+05</td>\n",
       "      <td>1.246797e+06</td>\n",
       "      <td>1.119822e+06</td>\n",
       "      <td>1.033075e+06</td>\n",
       "      <td>5.066715e+09</td>\n",
       "      <td>4.463704e+09</td>\n",
       "      <td>3.277638e+09</td>\n",
       "      <td>4.610356e+09</td>\n",
       "      <td>4.342648e+09</td>\n",
       "    </tr>\n",
       "    <tr>\n",
       "      <th>2022-09-10</th>\n",
       "      <td>NEHF</td>\n",
       "      <td>Neshan ETF-a</td>\n",
       "      <td>نشان</td>\n",
       "      <td>صندوق_س._نشان_هامرز-د-ت</td>\n",
       "      <td>14010619</td>\n",
       "      <td>10696.0</td>\n",
       "      <td>10696.0</td>\n",
       "      <td>10695.0</td>\n",
       "      <td>10695.0</td>\n",
       "      <td>10695.0</td>\n",
       "      <td>...</td>\n",
       "      <td>1744761.2</td>\n",
       "      <td>1.517598e+06</td>\n",
       "      <td>2.835160e+06</td>\n",
       "      <td>1.734342e+06</td>\n",
       "      <td>3.419311e+06</td>\n",
       "      <td>3.031991e+10</td>\n",
       "      <td>1.865754e+10</td>\n",
       "      <td>1.619120e+10</td>\n",
       "      <td>1.838127e+10</td>\n",
       "      <td>3.493847e+10</td>\n",
       "    </tr>\n",
       "    <tr>\n",
       "      <th>2022-09-10</th>\n",
       "      <td>ARSP</td>\n",
       "      <td>Aras Invest.-a</td>\n",
       "      <td>وارس</td>\n",
       "      <td>سرمايه_گذاري_ارس_صبا-ت</td>\n",
       "      <td>14010619</td>\n",
       "      <td>14570.0</td>\n",
       "      <td>14700.0</td>\n",
       "      <td>14300.0</td>\n",
       "      <td>14620.0</td>\n",
       "      <td>14680.0</td>\n",
       "      <td>...</td>\n",
       "      <td>1756500.6</td>\n",
       "      <td>1.555547e+06</td>\n",
       "      <td>1.885022e+06</td>\n",
       "      <td>1.644303e+06</td>\n",
       "      <td>1.476817e+06</td>\n",
       "      <td>2.738336e+10</td>\n",
       "      <td>2.477937e+10</td>\n",
       "      <td>2.135628e+10</td>\n",
       "      <td>2.186030e+10</td>\n",
       "      <td>1.995732e+10</td>\n",
       "    </tr>\n",
       "    <tr>\n",
       "      <th>2022-09-10</th>\n",
       "      <td>VIRP</td>\n",
       "      <td>Iran Inds. Co.-a</td>\n",
       "      <td>وایرا</td>\n",
       "      <td>سرمايه_گذاري_صنايع_ايران-ت</td>\n",
       "      <td>14010619</td>\n",
       "      <td>1774.0</td>\n",
       "      <td>1774.0</td>\n",
       "      <td>1765.0</td>\n",
       "      <td>1774.0</td>\n",
       "      <td>1774.0</td>\n",
       "      <td>...</td>\n",
       "      <td>2578863.6</td>\n",
       "      <td>1.973724e+06</td>\n",
       "      <td>3.177966e+06</td>\n",
       "      <td>1.335148e+06</td>\n",
       "      <td>1.506368e+06</td>\n",
       "      <td>5.627058e+09</td>\n",
       "      <td>4.540902e+09</td>\n",
       "      <td>3.433456e+09</td>\n",
       "      <td>2.263844e+09</td>\n",
       "      <td>2.554715e+09</td>\n",
       "    </tr>\n",
       "    <tr>\n",
       "      <th>2022-09-10</th>\n",
       "      <td>LKGH</td>\n",
       "      <td>Ghadir Kh. L.-a</td>\n",
       "      <td>ولغدر</td>\n",
       "      <td>ليزينگ‌خودروغدير-ت</td>\n",
       "      <td>14010619</td>\n",
       "      <td>3479.0</td>\n",
       "      <td>3479.0</td>\n",
       "      <td>3361.0</td>\n",
       "      <td>3479.0</td>\n",
       "      <td>3474.0</td>\n",
       "      <td>...</td>\n",
       "      <td>13377964.8</td>\n",
       "      <td>9.358284e+06</td>\n",
       "      <td>2.079674e+07</td>\n",
       "      <td>4.605702e+06</td>\n",
       "      <td>2.832321e+06</td>\n",
       "      <td>7.207660e+10</td>\n",
       "      <td>4.608398e+10</td>\n",
       "      <td>4.019925e+10</td>\n",
       "      <td>2.446085e+10</td>\n",
       "      <td>1.684617e+10</td>\n",
       "    </tr>\n",
       "  </tbody>\n",
       "</table>\n",
       "<p>19 rows × 25 columns</p>\n",
       "</div>"
      ],
      "text/plain": [
       "           ent code                  name     namad  \\\n",
       "2022-09-10     TB77  TreasuryBill230109-a   اخزا902   \n",
       "2022-09-10     TB83  TreasuryBill230828-a   اخزا908   \n",
       "2022-09-10     TB91  TreasuryBill230819-a   اخزا916   \n",
       "2022-09-10     SALF  AminTadbirFardaETF-a     الماس   \n",
       "2022-09-10     TOSZ               TOSAN-a      توسن   \n",
       "2022-09-10     KSHJ    S*IRI Marine Co.-a     حکشتی   \n",
       "2022-09-10     KKHP  S*Kerman Khodro E.-a    خکرمان   \n",
       "2022-09-10     INFO       Inf. Services-a    رانفور   \n",
       "2022-09-10     ZAKF    Zarin Korosh ETF-a      زرین   \n",
       "2022-09-10     BTEJ     BTEJ-O-14010720-a  طجار7047   \n",
       "2022-09-10     BTEJ     BTEJ-O-14010720-a  طجار7048   \n",
       "2022-09-10     SEPA       Sepahan Group-a      فسپا   \n",
       "2022-09-10     ALMR             Alomrad-a     فمراد   \n",
       "2022-09-10     PYAP          Payam Ind.-a     لپیام   \n",
       "2022-09-10     BVMA         Bime Ma Co.-a        ما   \n",
       "2022-09-10     NEHF          Neshan ETF-a      نشان   \n",
       "2022-09-10     ARSP        Aras Invest.-a      وارس   \n",
       "2022-09-10     VIRP      Iran Inds. Co.-a     وایرا   \n",
       "2022-09-10     LKGH       Ghadir Kh. L.-a     ولغدر   \n",
       "\n",
       "                                         nam    j-date      open      high  \\\n",
       "2022-09-10     اسنادخزانه-م2بودجه99-011019-ت  14010619  937000.0  937000.0   \n",
       "2022-09-10     اسنادخزانه-م8بودجه99-020606-ت  14010619  828870.0  829430.0   \n",
       "2022-09-10    اسنادخزانه-م16بودجه99-020528-ت  14010619  842180.0  842180.0   \n",
       "2022-09-10   صندوق_س.امين_تدبيرگران_فردا-س-ت  14010619  111000.0  114000.0   \n",
       "2022-09-10  توسعه_سامانه_ي_نرم_افزاري_نگين-ت  14010619   14990.0   15520.0   \n",
       "2022-09-10    كشتيراني_جمهوري_اسلامي_ايران-ت  14010619   23510.0   23510.0   \n",
       "2022-09-10        گروه_اقتصادي_كرمان_خودرو-ت  14010619    3648.0    3648.0   \n",
       "2022-09-10               خدمات‌انفورماتيك‌-ت  14010619    3930.0    4049.0   \n",
       "2022-09-10      صندوق_س._سهام_زرين_كوروش-س-ت  14010619   12000.0   12288.0   \n",
       "2022-09-10  اختيارف_وتجارت-1700-1401/07/20-ت  14010619     200.0     200.0   \n",
       "2022-09-10  اختيارف_وتجارت-1800-1401/07/20-ت  14010619     250.0     250.0   \n",
       "2022-09-10              گروه‌صنعتي‌سپاهان‌-ت  14010619   12120.0   12780.0   \n",
       "2022-09-10                         آلومراد-ت  14010619   36490.0   36490.0   \n",
       "2022-09-10                گسترش_صنايع_پيام-ت  14010619   20900.0   20900.0   \n",
       "2022-09-10                        بيمه__ما-ت  14010619    4200.0    4200.0   \n",
       "2022-09-10           صندوق_س._نشان_هامرز-د-ت  14010619   10696.0   10696.0   \n",
       "2022-09-10            سرمايه_گذاري_ارس_صبا-ت  14010619   14570.0   14700.0   \n",
       "2022-09-10        سرمايه_گذاري_صنايع_ايران-ت  14010619    1774.0    1774.0   \n",
       "2022-09-10                ليزينگ‌خودروغدير-ت  14010619    3479.0    3479.0   \n",
       "\n",
       "                 low      last     close  ...  volume MA 5   volume MA 9  \\\n",
       "2022-09-10  935220.0  936500.0  936910.0  ...      28700.0  2.518889e+04   \n",
       "2022-09-10  828000.0  829430.0  829330.0  ...      28160.0  2.363333e+04   \n",
       "2022-09-10  842180.0  842180.0  842180.0  ...      12409.8  9.119333e+03   \n",
       "2022-09-10  111000.0  111000.0  112097.0  ...      13507.4  1.236522e+04   \n",
       "2022-09-10   14550.0   15520.0   15320.0  ...    2606217.0  1.957540e+06   \n",
       "2022-09-10   22560.0   22570.0   22570.0  ...   14556392.4  1.709113e+07   \n",
       "2022-09-10    3583.0    3648.0    3647.0  ...   14766569.0  1.165854e+07   \n",
       "2022-09-10    3840.0    4049.0    4023.0  ...    2740031.4  2.704766e+06   \n",
       "2022-09-10   11930.0   11950.0   12086.0  ...     117864.0  9.022900e+04   \n",
       "2022-09-10     150.0     175.0     159.0  ...        245.0  2.534444e+02   \n",
       "2022-09-10     250.0     250.0     250.0  ...         95.0  1.094444e+02   \n",
       "2022-09-10   12060.0   12740.0   12700.0  ...    2043877.0  1.959336e+06   \n",
       "2022-09-10   35100.0   36490.0   36380.0  ...    3370295.6  4.324636e+06   \n",
       "2022-09-10   19750.0   19900.0   20450.0  ...     529650.6  4.918641e+05   \n",
       "2022-09-10    3990.0    4027.0    4074.0  ...    1084562.8  7.911029e+05   \n",
       "2022-09-10   10695.0   10695.0   10695.0  ...    1744761.2  1.517598e+06   \n",
       "2022-09-10   14300.0   14620.0   14680.0  ...    1756500.6  1.555547e+06   \n",
       "2022-09-10    1765.0    1774.0    1774.0  ...    2578863.6  1.973724e+06   \n",
       "2022-09-10    3361.0    3479.0    3474.0  ...   13377964.8  9.358284e+06   \n",
       "\n",
       "             volume MA 3  volume MA 26  volume MA 52    value MA 3  \\\n",
       "2022-09-10  4.353333e+04  2.692308e+04  4.750385e+04  4.077619e+10   \n",
       "2022-09-10  3.763333e+04  1.716538e+04  4.509423e+04  3.120696e+10   \n",
       "2022-09-10  1.833533e+04  6.203263e+03  6.203263e+03  1.541292e+10   \n",
       "2022-09-10  2.065900e+04  1.207558e+04  1.582867e+04  2.315368e+09   \n",
       "2022-09-10  3.788956e+06  1.314413e+06  1.201066e+06  5.849467e+10   \n",
       "2022-09-10  1.924198e+07  1.659934e+07  2.091673e+07  4.410619e+11   \n",
       "2022-09-10  2.159768e+07  1.558829e+07  1.438011e+07  7.805133e+10   \n",
       "2022-09-10  3.020928e+06  3.143687e+06  3.256747e+06  1.205973e+10   \n",
       "2022-09-10  1.429957e+05  1.223091e+05  1.599467e+05  1.728267e+09   \n",
       "2022-09-10  3.613333e+02  2.326500e+02  2.326500e+02  5.696067e+07   \n",
       "2022-09-10  4.500000e+01  1.094444e+02  1.094444e+02  1.005000e+07   \n",
       "2022-09-10  2.762092e+06  1.896542e+06  2.539176e+06  3.473359e+10   \n",
       "2022-09-10  4.610454e+06  4.522374e+06  4.691466e+06  1.645106e+11   \n",
       "2022-09-10  6.775173e+05  7.064774e+05  6.051614e+05  1.384189e+10   \n",
       "2022-09-10  1.246797e+06  1.119822e+06  1.033075e+06  5.066715e+09   \n",
       "2022-09-10  2.835160e+06  1.734342e+06  3.419311e+06  3.031991e+10   \n",
       "2022-09-10  1.885022e+06  1.644303e+06  1.476817e+06  2.738336e+10   \n",
       "2022-09-10  3.177966e+06  1.335148e+06  1.506368e+06  5.627058e+09   \n",
       "2022-09-10  2.079674e+07  4.605702e+06  2.832321e+06  7.207660e+10   \n",
       "\n",
       "              value MA 5    value MA 9   value MA 26   value MA 52  \n",
       "2022-09-10  2.687331e+10  2.352258e+10  2.494468e+10  4.336457e+10  \n",
       "2022-09-10  2.332243e+10  1.953626e+10  1.408507e+10  3.614158e+10  \n",
       "2022-09-10  1.035659e+10  7.508267e+09  4.911234e+09  4.911234e+09  \n",
       "2022-09-10  1.513163e+09  1.393643e+09  1.330181e+09  1.777295e+09  \n",
       "2022-09-10  4.178938e+10  3.372620e+10  2.487222e+10  2.360080e+10  \n",
       "2022-09-10  3.382885e+11  4.153053e+11  3.963030e+11  4.603504e+11  \n",
       "2022-09-10  5.289414e+10  4.149542e+10  5.428829e+10  4.874815e+10  \n",
       "2022-09-10  1.096140e+10  1.088318e+10  1.251370e+10  1.277916e+10  \n",
       "2022-09-10  1.429458e+09  1.098126e+09  1.509757e+09  2.021369e+09  \n",
       "2022-09-10  3.640440e+07  2.872356e+07  2.106390e+07  2.106390e+07  \n",
       "2022-09-10  1.217700e+07  1.131500e+07  1.131500e+07  1.131500e+07  \n",
       "2022-09-10  2.554138e+10  2.438707e+10  2.336534e+10  3.636972e+10  \n",
       "2022-09-10  1.174229e+11  1.386712e+11  1.277141e+11  1.423153e+11  \n",
       "2022-09-10  1.073666e+10  9.702992e+09  1.341095e+10  1.191397e+10  \n",
       "2022-09-10  4.463704e+09  3.277638e+09  4.610356e+09  4.342648e+09  \n",
       "2022-09-10  1.865754e+10  1.619120e+10  1.838127e+10  3.493847e+10  \n",
       "2022-09-10  2.477937e+10  2.135628e+10  2.186030e+10  1.995732e+10  \n",
       "2022-09-10  4.540902e+09  3.433456e+09  2.263844e+09  2.554715e+09  \n",
       "2022-09-10  4.608398e+10  4.019925e+10  2.446085e+10  1.684617e+10  \n",
       "\n",
       "[19 rows x 25 columns]"
      ]
     },
     "execution_count": 6,
     "metadata": {},
     "output_type": "execute_result"
    }
   ],
   "source": [
    "high_value = op.filter_by_value(instrument_tickers=instruments_traded_today, database=data, factor=2, make_df=True)\n",
    "high_value\n"
   ]
  },
  {
   "cell_type": "code",
   "execution_count": 13,
   "metadata": {},
   "outputs": [
    {
     "data": {
      "application/vnd.plotly.v1+json": {
       "config": {
        "displaylogo": false,
        "modeBarButtonsToAdd": [
         "drawline",
         "drawopenpath",
         "dreawclosedpath",
         "drawcircle",
         "drawrect",
         "eraseshape"
        ],
        "modeBarButtonsToRemove": [
         "zoomout",
         "zoomin"
        ],
        "plotlyServerURL": "https://plot.ly",
        "scrollZoom": true
       },
       "data": [
        {
         "alignmentgroup": "True",
         "hovertemplate": "variable=value traded<br>namad=%{x}<br>value=%{y}<extra></extra>",
         "legendgroup": "value traded",
         "marker": {
          "color": "#636efa",
          "pattern": {
           "shape": ""
          }
         },
         "name": "value traded",
         "offsetgroup": "value traded",
         "orientation": "v",
         "showlegend": true,
         "textposition": "auto",
         "type": "bar",
         "x": [
          "اخزا902",
          "اخزا908",
          "اخزا916",
          "الماس",
          "توسن",
          "حکشتی",
          "خکرمان",
          "رانفور",
          "زرین",
          "طجار7047",
          "طجار7048",
          "فسپا",
          "فمراد",
          "لپیام",
          "ما",
          "نشان",
          "وارس",
          "وایرا",
          "ولغدر"
         ],
         "xaxis": "x",
         "y": [
          104184295000,
          91143786000,
          42109000000,
          6591765720,
          119073080020,
          940889400850,
          177901546386,
          28134827067,
          4274229126,
          140542000,
          25000000,
          80830936760,
          345909932310,
          29912162400,
          10923101953,
          86841297675,
          60799673280,
          12944970498,
          202684293532
         ],
         "yaxis": "y"
        },
        {
         "alignmentgroup": "True",
         "hovertemplate": "variable=value MA 3<br>namad=%{x}<br>value=%{y}<extra></extra>",
         "legendgroup": "value MA 3",
         "marker": {
          "color": "#EF553B",
          "pattern": {
           "shape": ""
          }
         },
         "name": "value MA 3",
         "offsetgroup": "value MA 3",
         "orientation": "v",
         "showlegend": true,
         "textposition": "auto",
         "type": "bar",
         "x": [
          "اخزا902",
          "اخزا908",
          "اخزا916",
          "الماس",
          "توسن",
          "حکشتی",
          "خکرمان",
          "رانفور",
          "زرین",
          "طجار7047",
          "طجار7048",
          "فسپا",
          "فمراد",
          "لپیام",
          "ما",
          "نشان",
          "وارس",
          "وایرا",
          "ولغدر"
         ],
         "xaxis": "x",
         "y": [
          40776193666.666664,
          31206963333.333332,
          15412915983.333334,
          2315368235,
          58494666696.666664,
          441061863016.6667,
          78051329568.66667,
          12059726754.333334,
          1728267384.6666667,
          56960666.666666664,
          10050000,
          34733590353.333336,
          164510628183.33334,
          13841889506.666666,
          5066715479.666667,
          30319906596.333332,
          27383362133.333332,
          5627057662,
          72076602343
         ],
         "yaxis": "y"
        },
        {
         "alignmentgroup": "True",
         "hovertemplate": "variable=value MA 5<br>namad=%{x}<br>value=%{y}<extra></extra>",
         "legendgroup": "value MA 5",
         "marker": {
          "color": "#00cc96",
          "pattern": {
           "shape": ""
          }
         },
         "name": "value MA 5",
         "offsetgroup": "value MA 5",
         "orientation": "v",
         "showlegend": true,
         "textposition": "auto",
         "type": "bar",
         "x": [
          "اخزا902",
          "اخزا908",
          "اخزا916",
          "الماس",
          "توسن",
          "حکشتی",
          "خکرمان",
          "رانفور",
          "زرین",
          "طجار7047",
          "طجار7048",
          "فسپا",
          "فمراد",
          "لپیام",
          "ما",
          "نشان",
          "وارس",
          "وایرا",
          "ولغدر"
         ],
         "xaxis": "x",
         "y": [
          26873309200,
          23322430800,
          10356585424,
          1513162829.8,
          41789377968,
          338288475040,
          52894136242.8,
          10961396438,
          1429457955,
          36404400,
          12177000,
          25541375514,
          117422854016,
          10736655252,
          4463703848,
          18657536677.4,
          24779365184,
          4540901611.2,
          46083978274.2
         ],
         "yaxis": "y"
        },
        {
         "alignmentgroup": "True",
         "hovertemplate": "variable=value MA 9<br>namad=%{x}<br>value=%{y}<extra></extra>",
         "legendgroup": "value MA 9",
         "marker": {
          "color": "#ab63fa",
          "pattern": {
           "shape": ""
          }
         },
         "name": "value MA 9",
         "offsetgroup": "value MA 9",
         "orientation": "v",
         "showlegend": true,
         "textposition": "auto",
         "type": "bar",
         "x": [
          "اخزا902",
          "اخزا908",
          "اخزا916",
          "الماس",
          "توسن",
          "حکشتی",
          "خکرمان",
          "رانفور",
          "زرین",
          "طجار7047",
          "طجار7048",
          "فسپا",
          "فمراد",
          "لپیام",
          "ما",
          "نشان",
          "وارس",
          "وایرا",
          "ولغدر"
         ],
         "xaxis": "x",
         "y": [
          23522577555.555557,
          19536261777.77778,
          7508266980,
          1393643233,
          33726198404.444443,
          415305310827.7778,
          41495424307.333336,
          10883175646.222221,
          1098125781.5555556,
          28723555.555555556,
          11315000,
          24387074913.333332,
          138671207742.22223,
          9702992074.444445,
          3277638488.5555553,
          16191195119.11111,
          21356282922.22222,
          3433455798,
          40199246814.55556
         ],
         "yaxis": "y"
        },
        {
         "alignmentgroup": "True",
         "hovertemplate": "variable=value MA 26<br>namad=%{x}<br>value=%{y}<extra></extra>",
         "legendgroup": "value MA 26",
         "marker": {
          "color": "#FFA15A",
          "pattern": {
           "shape": ""
          }
         },
         "name": "value MA 26",
         "offsetgroup": "value MA 26",
         "orientation": "v",
         "showlegend": true,
         "textposition": "auto",
         "type": "bar",
         "x": [
          "اخزا902",
          "اخزا908",
          "اخزا916",
          "الماس",
          "توسن",
          "حکشتی",
          "خکرمان",
          "رانفور",
          "زرین",
          "طجار7047",
          "طجار7048",
          "فسپا",
          "فمراد",
          "لپیام",
          "ما",
          "نشان",
          "وارس",
          "وایرا",
          "ولغدر"
         ],
         "xaxis": "x",
         "y": [
          24944677269.23077,
          14085068653.846153,
          4911234200.105263,
          1330180864.7307692,
          24872222230.384617,
          396302961666.53845,
          54288290426.96154,
          12513695507.807692,
          1509757398.6153846,
          21063900,
          11315000,
          23365337310,
          127714078972.6923,
          13410952841.538462,
          4610355772.730769,
          18381269409.46154,
          21860297032.692307,
          2263843672.8076925,
          24460845545.423077
         ],
         "yaxis": "y"
        }
       ],
       "layout": {
        "barmode": "group",
        "legend": {
         "title": {
          "text": "variable"
         },
         "tracegroupgap": 0
        },
        "margin": {
         "t": 60
        },
        "template": {
         "data": {
          "bar": [
           {
            "error_x": {
             "color": "#f2f5fa"
            },
            "error_y": {
             "color": "#f2f5fa"
            },
            "marker": {
             "line": {
              "color": "rgb(17,17,17)",
              "width": 0.5
             },
             "pattern": {
              "fillmode": "overlay",
              "size": 10,
              "solidity": 0.2
             }
            },
            "type": "bar"
           }
          ],
          "barpolar": [
           {
            "marker": {
             "line": {
              "color": "rgb(17,17,17)",
              "width": 0.5
             },
             "pattern": {
              "fillmode": "overlay",
              "size": 10,
              "solidity": 0.2
             }
            },
            "type": "barpolar"
           }
          ],
          "carpet": [
           {
            "aaxis": {
             "endlinecolor": "#A2B1C6",
             "gridcolor": "#506784",
             "linecolor": "#506784",
             "minorgridcolor": "#506784",
             "startlinecolor": "#A2B1C6"
            },
            "baxis": {
             "endlinecolor": "#A2B1C6",
             "gridcolor": "#506784",
             "linecolor": "#506784",
             "minorgridcolor": "#506784",
             "startlinecolor": "#A2B1C6"
            },
            "type": "carpet"
           }
          ],
          "choropleth": [
           {
            "colorbar": {
             "outlinewidth": 0,
             "ticks": ""
            },
            "type": "choropleth"
           }
          ],
          "contour": [
           {
            "colorbar": {
             "outlinewidth": 0,
             "ticks": ""
            },
            "colorscale": [
             [
              0,
              "#0d0887"
             ],
             [
              0.1111111111111111,
              "#46039f"
             ],
             [
              0.2222222222222222,
              "#7201a8"
             ],
             [
              0.3333333333333333,
              "#9c179e"
             ],
             [
              0.4444444444444444,
              "#bd3786"
             ],
             [
              0.5555555555555556,
              "#d8576b"
             ],
             [
              0.6666666666666666,
              "#ed7953"
             ],
             [
              0.7777777777777778,
              "#fb9f3a"
             ],
             [
              0.8888888888888888,
              "#fdca26"
             ],
             [
              1,
              "#f0f921"
             ]
            ],
            "type": "contour"
           }
          ],
          "contourcarpet": [
           {
            "colorbar": {
             "outlinewidth": 0,
             "ticks": ""
            },
            "type": "contourcarpet"
           }
          ],
          "heatmap": [
           {
            "colorbar": {
             "outlinewidth": 0,
             "ticks": ""
            },
            "colorscale": [
             [
              0,
              "#0d0887"
             ],
             [
              0.1111111111111111,
              "#46039f"
             ],
             [
              0.2222222222222222,
              "#7201a8"
             ],
             [
              0.3333333333333333,
              "#9c179e"
             ],
             [
              0.4444444444444444,
              "#bd3786"
             ],
             [
              0.5555555555555556,
              "#d8576b"
             ],
             [
              0.6666666666666666,
              "#ed7953"
             ],
             [
              0.7777777777777778,
              "#fb9f3a"
             ],
             [
              0.8888888888888888,
              "#fdca26"
             ],
             [
              1,
              "#f0f921"
             ]
            ],
            "type": "heatmap"
           }
          ],
          "heatmapgl": [
           {
            "colorbar": {
             "outlinewidth": 0,
             "ticks": ""
            },
            "colorscale": [
             [
              0,
              "#0d0887"
             ],
             [
              0.1111111111111111,
              "#46039f"
             ],
             [
              0.2222222222222222,
              "#7201a8"
             ],
             [
              0.3333333333333333,
              "#9c179e"
             ],
             [
              0.4444444444444444,
              "#bd3786"
             ],
             [
              0.5555555555555556,
              "#d8576b"
             ],
             [
              0.6666666666666666,
              "#ed7953"
             ],
             [
              0.7777777777777778,
              "#fb9f3a"
             ],
             [
              0.8888888888888888,
              "#fdca26"
             ],
             [
              1,
              "#f0f921"
             ]
            ],
            "type": "heatmapgl"
           }
          ],
          "histogram": [
           {
            "marker": {
             "pattern": {
              "fillmode": "overlay",
              "size": 10,
              "solidity": 0.2
             }
            },
            "type": "histogram"
           }
          ],
          "histogram2d": [
           {
            "colorbar": {
             "outlinewidth": 0,
             "ticks": ""
            },
            "colorscale": [
             [
              0,
              "#0d0887"
             ],
             [
              0.1111111111111111,
              "#46039f"
             ],
             [
              0.2222222222222222,
              "#7201a8"
             ],
             [
              0.3333333333333333,
              "#9c179e"
             ],
             [
              0.4444444444444444,
              "#bd3786"
             ],
             [
              0.5555555555555556,
              "#d8576b"
             ],
             [
              0.6666666666666666,
              "#ed7953"
             ],
             [
              0.7777777777777778,
              "#fb9f3a"
             ],
             [
              0.8888888888888888,
              "#fdca26"
             ],
             [
              1,
              "#f0f921"
             ]
            ],
            "type": "histogram2d"
           }
          ],
          "histogram2dcontour": [
           {
            "colorbar": {
             "outlinewidth": 0,
             "ticks": ""
            },
            "colorscale": [
             [
              0,
              "#0d0887"
             ],
             [
              0.1111111111111111,
              "#46039f"
             ],
             [
              0.2222222222222222,
              "#7201a8"
             ],
             [
              0.3333333333333333,
              "#9c179e"
             ],
             [
              0.4444444444444444,
              "#bd3786"
             ],
             [
              0.5555555555555556,
              "#d8576b"
             ],
             [
              0.6666666666666666,
              "#ed7953"
             ],
             [
              0.7777777777777778,
              "#fb9f3a"
             ],
             [
              0.8888888888888888,
              "#fdca26"
             ],
             [
              1,
              "#f0f921"
             ]
            ],
            "type": "histogram2dcontour"
           }
          ],
          "mesh3d": [
           {
            "colorbar": {
             "outlinewidth": 0,
             "ticks": ""
            },
            "type": "mesh3d"
           }
          ],
          "parcoords": [
           {
            "line": {
             "colorbar": {
              "outlinewidth": 0,
              "ticks": ""
             }
            },
            "type": "parcoords"
           }
          ],
          "pie": [
           {
            "automargin": true,
            "type": "pie"
           }
          ],
          "scatter": [
           {
            "marker": {
             "line": {
              "color": "#283442"
             }
            },
            "type": "scatter"
           }
          ],
          "scatter3d": [
           {
            "line": {
             "colorbar": {
              "outlinewidth": 0,
              "ticks": ""
             }
            },
            "marker": {
             "colorbar": {
              "outlinewidth": 0,
              "ticks": ""
             }
            },
            "type": "scatter3d"
           }
          ],
          "scattercarpet": [
           {
            "marker": {
             "colorbar": {
              "outlinewidth": 0,
              "ticks": ""
             }
            },
            "type": "scattercarpet"
           }
          ],
          "scattergeo": [
           {
            "marker": {
             "colorbar": {
              "outlinewidth": 0,
              "ticks": ""
             }
            },
            "type": "scattergeo"
           }
          ],
          "scattergl": [
           {
            "marker": {
             "line": {
              "color": "#283442"
             }
            },
            "type": "scattergl"
           }
          ],
          "scattermapbox": [
           {
            "marker": {
             "colorbar": {
              "outlinewidth": 0,
              "ticks": ""
             }
            },
            "type": "scattermapbox"
           }
          ],
          "scatterpolar": [
           {
            "marker": {
             "colorbar": {
              "outlinewidth": 0,
              "ticks": ""
             }
            },
            "type": "scatterpolar"
           }
          ],
          "scatterpolargl": [
           {
            "marker": {
             "colorbar": {
              "outlinewidth": 0,
              "ticks": ""
             }
            },
            "type": "scatterpolargl"
           }
          ],
          "scatterternary": [
           {
            "marker": {
             "colorbar": {
              "outlinewidth": 0,
              "ticks": ""
             }
            },
            "type": "scatterternary"
           }
          ],
          "surface": [
           {
            "colorbar": {
             "outlinewidth": 0,
             "ticks": ""
            },
            "colorscale": [
             [
              0,
              "#0d0887"
             ],
             [
              0.1111111111111111,
              "#46039f"
             ],
             [
              0.2222222222222222,
              "#7201a8"
             ],
             [
              0.3333333333333333,
              "#9c179e"
             ],
             [
              0.4444444444444444,
              "#bd3786"
             ],
             [
              0.5555555555555556,
              "#d8576b"
             ],
             [
              0.6666666666666666,
              "#ed7953"
             ],
             [
              0.7777777777777778,
              "#fb9f3a"
             ],
             [
              0.8888888888888888,
              "#fdca26"
             ],
             [
              1,
              "#f0f921"
             ]
            ],
            "type": "surface"
           }
          ],
          "table": [
           {
            "cells": {
             "fill": {
              "color": "#506784"
             },
             "line": {
              "color": "rgb(17,17,17)"
             }
            },
            "header": {
             "fill": {
              "color": "#2a3f5f"
             },
             "line": {
              "color": "rgb(17,17,17)"
             }
            },
            "type": "table"
           }
          ]
         },
         "layout": {
          "annotationdefaults": {
           "arrowcolor": "#f2f5fa",
           "arrowhead": 0,
           "arrowwidth": 1
          },
          "autotypenumbers": "strict",
          "coloraxis": {
           "colorbar": {
            "outlinewidth": 0,
            "ticks": ""
           }
          },
          "colorscale": {
           "diverging": [
            [
             0,
             "#8e0152"
            ],
            [
             0.1,
             "#c51b7d"
            ],
            [
             0.2,
             "#de77ae"
            ],
            [
             0.3,
             "#f1b6da"
            ],
            [
             0.4,
             "#fde0ef"
            ],
            [
             0.5,
             "#f7f7f7"
            ],
            [
             0.6,
             "#e6f5d0"
            ],
            [
             0.7,
             "#b8e186"
            ],
            [
             0.8,
             "#7fbc41"
            ],
            [
             0.9,
             "#4d9221"
            ],
            [
             1,
             "#276419"
            ]
           ],
           "sequential": [
            [
             0,
             "#0d0887"
            ],
            [
             0.1111111111111111,
             "#46039f"
            ],
            [
             0.2222222222222222,
             "#7201a8"
            ],
            [
             0.3333333333333333,
             "#9c179e"
            ],
            [
             0.4444444444444444,
             "#bd3786"
            ],
            [
             0.5555555555555556,
             "#d8576b"
            ],
            [
             0.6666666666666666,
             "#ed7953"
            ],
            [
             0.7777777777777778,
             "#fb9f3a"
            ],
            [
             0.8888888888888888,
             "#fdca26"
            ],
            [
             1,
             "#f0f921"
            ]
           ],
           "sequentialminus": [
            [
             0,
             "#0d0887"
            ],
            [
             0.1111111111111111,
             "#46039f"
            ],
            [
             0.2222222222222222,
             "#7201a8"
            ],
            [
             0.3333333333333333,
             "#9c179e"
            ],
            [
             0.4444444444444444,
             "#bd3786"
            ],
            [
             0.5555555555555556,
             "#d8576b"
            ],
            [
             0.6666666666666666,
             "#ed7953"
            ],
            [
             0.7777777777777778,
             "#fb9f3a"
            ],
            [
             0.8888888888888888,
             "#fdca26"
            ],
            [
             1,
             "#f0f921"
            ]
           ]
          },
          "colorway": [
           "#636efa",
           "#EF553B",
           "#00cc96",
           "#ab63fa",
           "#FFA15A",
           "#19d3f3",
           "#FF6692",
           "#B6E880",
           "#FF97FF",
           "#FECB52"
          ],
          "font": {
           "color": "#f2f5fa"
          },
          "geo": {
           "bgcolor": "rgb(17,17,17)",
           "lakecolor": "rgb(17,17,17)",
           "landcolor": "rgb(17,17,17)",
           "showlakes": true,
           "showland": true,
           "subunitcolor": "#506784"
          },
          "hoverlabel": {
           "align": "left"
          },
          "hovermode": "closest",
          "mapbox": {
           "style": "dark"
          },
          "paper_bgcolor": "rgb(17,17,17)",
          "plot_bgcolor": "rgb(17,17,17)",
          "polar": {
           "angularaxis": {
            "gridcolor": "#506784",
            "linecolor": "#506784",
            "ticks": ""
           },
           "bgcolor": "rgb(17,17,17)",
           "radialaxis": {
            "gridcolor": "#506784",
            "linecolor": "#506784",
            "ticks": ""
           }
          },
          "scene": {
           "xaxis": {
            "backgroundcolor": "rgb(17,17,17)",
            "gridcolor": "#506784",
            "gridwidth": 2,
            "linecolor": "#506784",
            "showbackground": true,
            "ticks": "",
            "zerolinecolor": "#C8D4E3"
           },
           "yaxis": {
            "backgroundcolor": "rgb(17,17,17)",
            "gridcolor": "#506784",
            "gridwidth": 2,
            "linecolor": "#506784",
            "showbackground": true,
            "ticks": "",
            "zerolinecolor": "#C8D4E3"
           },
           "zaxis": {
            "backgroundcolor": "rgb(17,17,17)",
            "gridcolor": "#506784",
            "gridwidth": 2,
            "linecolor": "#506784",
            "showbackground": true,
            "ticks": "",
            "zerolinecolor": "#C8D4E3"
           }
          },
          "shapedefaults": {
           "line": {
            "color": "#f2f5fa"
           }
          },
          "sliderdefaults": {
           "bgcolor": "#C8D4E3",
           "bordercolor": "rgb(17,17,17)",
           "borderwidth": 1,
           "tickwidth": 0
          },
          "ternary": {
           "aaxis": {
            "gridcolor": "#506784",
            "linecolor": "#506784",
            "ticks": ""
           },
           "baxis": {
            "gridcolor": "#506784",
            "linecolor": "#506784",
            "ticks": ""
           },
           "bgcolor": "rgb(17,17,17)",
           "caxis": {
            "gridcolor": "#506784",
            "linecolor": "#506784",
            "ticks": ""
           }
          },
          "title": {
           "x": 0.05
          },
          "updatemenudefaults": {
           "bgcolor": "#506784",
           "borderwidth": 0
          },
          "xaxis": {
           "automargin": true,
           "gridcolor": "#283442",
           "linecolor": "#506784",
           "ticks": "",
           "title": {
            "standoff": 15
           },
           "zerolinecolor": "#283442",
           "zerolinewidth": 2
          },
          "yaxis": {
           "automargin": true,
           "gridcolor": "#283442",
           "linecolor": "#506784",
           "ticks": "",
           "title": {
            "standoff": 15
           },
           "zerolinecolor": "#283442",
           "zerolinewidth": 2
          }
         }
        },
        "xaxis": {
         "anchor": "y",
         "domain": [
          0,
          1
         ],
         "tickfont": {
          "family": "a iranian sans",
          "size": 12
         },
         "title": {
          "font": {
           "family": "a iranian sans",
           "size": 20
          },
          "text": "نماد"
         }
        },
        "yaxis": {
         "anchor": "x",
         "domain": [
          0,
          1
         ],
         "tickfont": {
          "family": "a iranian sans",
          "size": 12
         },
         "title": {
          "font": {
           "family": "a iranian sans",
           "size": 20
          },
          "text": "حجم"
         },
         "type": "linear"
        }
       }
      }
     },
     "metadata": {},
     "output_type": "display_data"
    }
   ],
   "source": [
    "high_value_plot = px.bar(high_value, 'namad', [\n",
    "    'value traded', 'value MA 3', 'value MA 5', 'value MA 9', 'value MA 26'], barmode='group')\n",
    "\n",
    "viz.beautify_chart(high_value_plot)\n",
    "high_value_plot.show(config=viz.config)\n"
   ]
  },
  {
   "attachments": {},
   "cell_type": "markdown",
   "metadata": {},
   "source": [
    "### Fundamentals (Amin)"
   ]
  },
  {
   "cell_type": "code",
   "execution_count": 2,
   "metadata": {},
   "outputs": [],
   "source": [
    "amin= pd.read_excel('D:/Alpar/assisstant/dash/inputs/amin.xlsx')\n",
    "amin.set_index('نماد',inplace=True)"
   ]
  },
  {
   "cell_type": "code",
   "execution_count": 3,
   "metadata": {},
   "outputs": [],
   "source": [
    "fund= pd.DataFrame()\n",
    "fund['eps ttm'] =amin['قیمت پایانی ریال'] / amin['P/E TTM']\n",
    "fund['eps f growth'] =amin['قیمت پایانی ریال'] / amin['P/E کارشناسی رشدی']\n",
    "fund['fiscal year ends on'] =amin['سال مالی منتهی به']\n",
    "fund['fiscal month'] = amin['آخرین ماه']\n",
    "fund['activity type'] = amin['نوع فعالیت']\n",
    "fund['firm'] = amin['شرکت']"
   ]
  },
  {
   "cell_type": "code",
   "execution_count": 4,
   "metadata": {},
   "outputs": [
    {
     "data": {
      "text/html": [
       "<div>\n",
       "<style scoped>\n",
       "    .dataframe tbody tr th:only-of-type {\n",
       "        vertical-align: middle;\n",
       "    }\n",
       "\n",
       "    .dataframe tbody tr th {\n",
       "        vertical-align: top;\n",
       "    }\n",
       "\n",
       "    .dataframe thead th {\n",
       "        text-align: right;\n",
       "    }\n",
       "</style>\n",
       "<table border=\"1\" class=\"dataframe\">\n",
       "  <thead>\n",
       "    <tr style=\"text-align: right;\">\n",
       "      <th></th>\n",
       "      <th>eps ttm</th>\n",
       "      <th>eps f growth</th>\n",
       "      <th>fiscal year ends on</th>\n",
       "      <th>fiscal month</th>\n",
       "      <th>activity type</th>\n",
       "      <th>firm</th>\n",
       "    </tr>\n",
       "    <tr>\n",
       "      <th>نماد</th>\n",
       "      <th></th>\n",
       "      <th></th>\n",
       "      <th></th>\n",
       "      <th></th>\n",
       "      <th></th>\n",
       "      <th></th>\n",
       "    </tr>\n",
       "  </thead>\n",
       "  <tbody>\n",
       "    <tr>\n",
       "      <th>فولاد</th>\n",
       "      <td>2411.474666</td>\n",
       "      <td>3779.639390</td>\n",
       "      <td>1401/12/29</td>\n",
       "      <td>M03</td>\n",
       "      <td>تولیدی</td>\n",
       "      <td>فولاد مبارکه اصفهان</td>\n",
       "    </tr>\n",
       "    <tr>\n",
       "      <th>فاسمین</th>\n",
       "      <td>3898.692333</td>\n",
       "      <td>8502.915714</td>\n",
       "      <td>1401/12/29</td>\n",
       "      <td>M03</td>\n",
       "      <td>تولیدی</td>\n",
       "      <td>کالسیمین</td>\n",
       "    </tr>\n",
       "    <tr>\n",
       "      <th>خراسان</th>\n",
       "      <td>18132.129959</td>\n",
       "      <td>42230.530878</td>\n",
       "      <td>1401/12/29</td>\n",
       "      <td>M03</td>\n",
       "      <td>تولیدی</td>\n",
       "      <td>پتروشیمی خراسان</td>\n",
       "    </tr>\n",
       "    <tr>\n",
       "      <th>شپدیس</th>\n",
       "      <td>28070.350333</td>\n",
       "      <td>43444.511091</td>\n",
       "      <td>1401/06/31</td>\n",
       "      <td>M09</td>\n",
       "      <td>تولیدی</td>\n",
       "      <td>پتروشیمی پردیس</td>\n",
       "    </tr>\n",
       "    <tr>\n",
       "      <th>شغدیر</th>\n",
       "      <td>15189.028462</td>\n",
       "      <td>22804.475874</td>\n",
       "      <td>1401/12/29</td>\n",
       "      <td>M03</td>\n",
       "      <td>تولیدی</td>\n",
       "      <td>پتروشیمی غدیر</td>\n",
       "    </tr>\n",
       "    <tr>\n",
       "      <th>...</th>\n",
       "      <td>...</td>\n",
       "      <td>...</td>\n",
       "      <td>...</td>\n",
       "      <td>...</td>\n",
       "      <td>...</td>\n",
       "      <td>...</td>\n",
       "    </tr>\n",
       "    <tr>\n",
       "      <th>مادیرا</th>\n",
       "      <td>138.786268</td>\n",
       "      <td>NaN</td>\n",
       "      <td>1401/12/29</td>\n",
       "      <td>M03</td>\n",
       "      <td>تولیدی</td>\n",
       "      <td>صنایع ماشین های اداری ایران</td>\n",
       "    </tr>\n",
       "    <tr>\n",
       "      <th>لپارس</th>\n",
       "      <td>1382.043333</td>\n",
       "      <td>NaN</td>\n",
       "      <td>1401/12/29</td>\n",
       "      <td>M03</td>\n",
       "      <td>تولیدی</td>\n",
       "      <td>کارخانجات پارس الکتریک</td>\n",
       "    </tr>\n",
       "    <tr>\n",
       "      <th>کبافق</th>\n",
       "      <td>1247.232099</td>\n",
       "      <td>NaN</td>\n",
       "      <td>1401/12/29</td>\n",
       "      <td>M03</td>\n",
       "      <td>تولیدی</td>\n",
       "      <td>معادن بافق</td>\n",
       "    </tr>\n",
       "    <tr>\n",
       "      <th>تکنو</th>\n",
       "      <td>NaN</td>\n",
       "      <td>NaN</td>\n",
       "      <td>1401/12/29</td>\n",
       "      <td>M03</td>\n",
       "      <td>تولیدی</td>\n",
       "      <td>مهندسی تکنوتار</td>\n",
       "    </tr>\n",
       "    <tr>\n",
       "      <th>غنوش</th>\n",
       "      <td>539.202000</td>\n",
       "      <td>NaN</td>\n",
       "      <td>1401/12/29</td>\n",
       "      <td>M03</td>\n",
       "      <td>تولیدی</td>\n",
       "      <td>نوش مازندران</td>\n",
       "    </tr>\n",
       "  </tbody>\n",
       "</table>\n",
       "<p>361 rows × 6 columns</p>\n",
       "</div>"
      ],
      "text/plain": [
       "             eps ttm  eps f growth fiscal year ends on fiscal month  \\\n",
       "نماد                                                                  \n",
       "فولاد    2411.474666   3779.639390          1401/12/29          M03   \n",
       "فاسمین   3898.692333   8502.915714          1401/12/29          M03   \n",
       "خراسان  18132.129959  42230.530878          1401/12/29          M03   \n",
       "شپدیس   28070.350333  43444.511091          1401/06/31          M09   \n",
       "شغدیر   15189.028462  22804.475874          1401/12/29          M03   \n",
       "...              ...           ...                 ...          ...   \n",
       "مادیرا    138.786268           NaN          1401/12/29          M03   \n",
       "لپارس    1382.043333           NaN          1401/12/29          M03   \n",
       "کبافق    1247.232099           NaN          1401/12/29          M03   \n",
       "تکنو             NaN           NaN          1401/12/29          M03   \n",
       "غنوش      539.202000           NaN          1401/12/29          M03   \n",
       "\n",
       "       activity type                         firm  \n",
       "نماد                                               \n",
       "فولاد         تولیدی          فولاد مبارکه اصفهان  \n",
       "فاسمین        تولیدی                     کالسیمین  \n",
       "خراسان        تولیدی              پتروشیمی خراسان  \n",
       "شپدیس         تولیدی               پتروشیمی پردیس  \n",
       "شغدیر         تولیدی                پتروشیمی غدیر  \n",
       "...              ...                          ...  \n",
       "مادیرا        تولیدی  صنایع ماشین های اداری ایران  \n",
       "لپارس         تولیدی       کارخانجات پارس الکتریک  \n",
       "کبافق         تولیدی                   معادن بافق  \n",
       "تکنو          تولیدی               مهندسی تکنوتار  \n",
       "غنوش          تولیدی                 نوش مازندران  \n",
       "\n",
       "[361 rows x 6 columns]"
      ]
     },
     "execution_count": 4,
     "metadata": {},
     "output_type": "execute_result"
    }
   ],
   "source": [
    "fund"
   ]
  }
 ],
 "metadata": {
  "kernelspec": {
   "display_name": "Python 3.10.4 ('Bot')",
   "language": "python",
   "name": "python3"
  },
  "language_info": {
   "codemirror_mode": {
    "name": "ipython",
    "version": 3
   },
   "file_extension": ".py",
   "mimetype": "text/x-python",
   "name": "python",
   "nbconvert_exporter": "python",
   "pygments_lexer": "ipython3",
   "version": "3.10.4"
  },
  "orig_nbformat": 4,
  "vscode": {
   "interpreter": {
    "hash": "e668f4931914199fcaa2d9a5beed8397bdb535c7bd7e50f05ace4b0f3d65ced3"
   }
  }
 },
 "nbformat": 4,
 "nbformat_minor": 2
}
