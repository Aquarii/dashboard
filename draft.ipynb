{
 "cells": [
  {
   "attachments": {},
   "cell_type": "markdown",
   "metadata": {},
   "source": [
    "# Main.py"
   ]
  },
  {
   "cell_type": "code",
   "execution_count": 2,
   "metadata": {},
   "outputs": [
    {
     "data": {
      "text/plain": [
       "20230219"
      ]
     },
     "execution_count": 2,
     "metadata": {},
     "output_type": "execute_result"
    }
   ],
   "source": [
    "#import asyncio\n",
    "# # ---------- database ------------\n",
    "import pandas as pd\n",
    "import sqlite3 as db\n",
    "# # ---------- alpar libs ----------\n",
    "import config \n",
    "from data_ops import fetch, latest_workday, scrape, utils, update_daily_quotes\n",
    "\n",
    "from pathlib import Path\n",
    "import requests \n",
    "import more_itertools as mit\n",
    "import itertools as it\n",
    "\n",
    "cfg = config.configs \n",
    "\n",
    "latest_workday"
   ]
  },
  {
   "cell_type": "code",
   "execution_count": 3,
   "metadata": {},
   "outputs": [],
   "source": [
    "conn = db.connect('./db/catalogue.db')"
   ]
  },
  {
   "cell_type": "code",
   "execution_count": 2,
   "metadata": {},
   "outputs": [],
   "source": [
    "# -------------extras: settings, sample df------------\n",
    "# ---------------------settings------------\n",
    "# \n",
    "# with pd.option_context('display.max_colwidth', None,\n",
    "#                        'display.max_columns', None,\n",
    "#                        'display.max_rows', None):\n",
    "#     display(types_df)\n",
    "#\n",
    "# -------------sample dummy dataframe-------------------\n",
    "# \n",
    "# prev = pd.DataFrame({\n",
    "#     'name':['first_name','first_name', 'first_name', 'first_name', 'first_name'],\n",
    "#     'fetch_date': ['20230122', '20230123', '20230122', '20230123', '20230123'],\n",
    "#     'id': [100,100,100,125,126]}, \n",
    "#     index=['917857106093847', '1050751214677134', '2589887561569709', '3542690854557886', '3772339654185462'])\n",
    "# update = pd.DataFrame({\n",
    "#     'name':['second_old_name', 'first_new_name', 'third_old_name_updated', 'second_new_name'],\n",
    "#     'fetch_date': ['20230123', '20230121', '20230122', '20230123'],\n",
    "#     'id': [200,200,130,130]}, \n",
    "#     index=['1050751214677134', '3542690854456286', '2589887561569709', '3772339112185462'])\n",
    "\n",
    "# headers = {\n",
    "#                     'User-Agent': 'Mozilla/5.0 (Windows NT 10.0; Win64; x64; rv:101.0) Gecko/20100101 Firefox/101.0',\n",
    "#                     'Accept': 'text/html,application/xhtml+xml,application/xml;q=0.9,image/avif,image/webp,*/*;q=0.8',\n",
    "#                     'Accept-Language': 'en-US,en;q=0.5',\n",
    "#                     # 'Accept-Encoding': 'gzip, deflate',\n",
    "#                     'Connection': 'keep-alive',\n",
    "#                     # 'Cookie': '_ga=GA1.2.1125034676.1645178849',\n",
    "#                     'Upgrade-Insecure-Requests': '1',\n",
    "#                     'Pragma': 'no-cache',\n",
    "#                     'Cache-Control': 'no-cache',\n",
    "#                 }\n",
    "\n",
    "# import numpy as np\n",
    "# dates = pd.date_range('2023-02-01', periods=8)\n",
    "# df = pd.DataFrame(np.random.randn(8,4), columns=['A','B','C','D'], index=dates)\n",
    "# df2 = pd.DataFrame(np.random.randn(8,4), columns=['A','B','C','D'], index=dates)"
   ]
  },
  {
   "cell_type": "code",
   "execution_count": 3,
   "metadata": {},
   "outputs": [],
   "source": [
    "all_insts = fetch.instruments(0)\n",
    "# احتمالا اونایی رو میده ک تا حالا معامله داشته باشن\n",
    "# اونایی ک تا این تاریخ معامله نداشته باشن برنمیگردونه"
   ]
  },
  {
   "cell_type": "code",
   "execution_count": 4,
   "metadata": {
    "tags": [
     "parameters"
    ]
   },
   "outputs": [],
   "source": [
    "query = 'select id from instrument where tableu_code != \"6\"'\n",
    "# query = 'select instrument.id, instrument.ticker, instrument.tableu_code, identity.market from instrument left join identity on instrument.isin = identity.isin'\n",
    "insts = pd.read_sql(query, con=conn, index_col='id')"
   ]
  },
  {
   "cell_type": "code",
   "execution_count": 7,
   "metadata": {},
   "outputs": [
    {
     "data": {
      "text/html": [
       "<div>\n",
       "<style scoped>\n",
       "    .dataframe tbody tr th:only-of-type {\n",
       "        vertical-align: middle;\n",
       "    }\n",
       "\n",
       "    .dataframe tbody tr th {\n",
       "        vertical-align: top;\n",
       "    }\n",
       "\n",
       "    .dataframe thead th {\n",
       "        text-align: right;\n",
       "    }\n",
       "</style>\n",
       "<table border=\"1\" class=\"dataframe\">\n",
       "  <thead>\n",
       "    <tr style=\"text-align: right;\">\n",
       "      <th></th>\n",
       "      <th>ticker</th>\n",
       "      <th>tableu_code</th>\n",
       "      <th>market</th>\n",
       "    </tr>\n",
       "    <tr>\n",
       "      <th>id</th>\n",
       "      <th></th>\n",
       "      <th></th>\n",
       "      <th></th>\n",
       "    </tr>\n",
       "  </thead>\n",
       "  <tbody>\n",
       "    <tr>\n",
       "      <th>41934470778361119</th>\n",
       "      <td>45-پیمانکاری6</td>\n",
       "      <td>6</td>\n",
       "      <td>None</td>\n",
       "    </tr>\n",
       "  </tbody>\n",
       "</table>\n",
       "</div>"
      ],
      "text/plain": [
       "                          ticker tableu_code market\n",
       "id                                                 \n",
       "41934470778361119  45-پیمانکاری6           6   None"
      ]
     },
     "execution_count": 7,
     "metadata": {},
     "output_type": "execute_result"
    }
   ],
   "source": [
    "insts[insts.index == '41934470778361119']"
   ]
  },
  {
   "cell_type": "code",
   "execution_count": null,
   "metadata": {},
   "outputs": [],
   "source": []
  },
  {
   "cell_type": "code",
   "execution_count": null,
   "metadata": {},
   "outputs": [],
   "source": []
  },
  {
   "cell_type": "code",
   "execution_count": 7,
   "metadata": {},
   "outputs": [
    {
     "name": "stderr",
     "output_type": "stream",
     "text": [
      "100%|██████████| 40/40 [00:00<00:00, 51.90it/s]\n"
     ]
    },
    {
     "data": {
      "text/html": [
       "<div>\n",
       "<style scoped>\n",
       "    .dataframe tbody tr th:only-of-type {\n",
       "        vertical-align: middle;\n",
       "    }\n",
       "\n",
       "    .dataframe tbody tr th {\n",
       "        vertical-align: top;\n",
       "    }\n",
       "\n",
       "    .dataframe thead th {\n",
       "        text-align: right;\n",
       "    }\n",
       "</style>\n",
       "<table border=\"1\" class=\"dataframe\">\n",
       "  <thead>\n",
       "    <tr style=\"text-align: right;\">\n",
       "      <th></th>\n",
       "      <th>instrument_id</th>\n",
       "      <th>date</th>\n",
       "      <th>close</th>\n",
       "      <th>last</th>\n",
       "      <th>transaction_count</th>\n",
       "      <th>volume</th>\n",
       "      <th>value_traded</th>\n",
       "      <th>low</th>\n",
       "      <th>high</th>\n",
       "      <th>dday</th>\n",
       "      <th>open</th>\n",
       "    </tr>\n",
       "  </thead>\n",
       "  <tbody>\n",
       "    <tr>\n",
       "      <th>0</th>\n",
       "      <td>1123534346391630</td>\n",
       "      <td>20081206</td>\n",
       "      <td>1244.20</td>\n",
       "      <td>1244.20</td>\n",
       "      <td>3</td>\n",
       "      <td>20020</td>\n",
       "      <td>20006740.00</td>\n",
       "      <td>1244.20</td>\n",
       "      <td>1244.20</td>\n",
       "      <td>0.00</td>\n",
       "      <td>1244.20</td>\n",
       "    </tr>\n",
       "    <tr>\n",
       "      <th>1</th>\n",
       "      <td>1123534346391630</td>\n",
       "      <td>20081207</td>\n",
       "      <td>1244.20</td>\n",
       "      <td>1244.20</td>\n",
       "      <td>0</td>\n",
       "      <td>0</td>\n",
       "      <td>0.00</td>\n",
       "      <td>1244.20</td>\n",
       "      <td>1244.20</td>\n",
       "      <td>1244.20</td>\n",
       "      <td>0.00</td>\n",
       "    </tr>\n",
       "    <tr>\n",
       "      <th>2</th>\n",
       "      <td>1123534346391630</td>\n",
       "      <td>20081208</td>\n",
       "      <td>1244.20</td>\n",
       "      <td>1244.20</td>\n",
       "      <td>1</td>\n",
       "      <td>10000</td>\n",
       "      <td>10000000.00</td>\n",
       "      <td>1244.20</td>\n",
       "      <td>1244.20</td>\n",
       "      <td>1244.20</td>\n",
       "      <td>1244.20</td>\n",
       "    </tr>\n",
       "    <tr>\n",
       "      <th>3</th>\n",
       "      <td>1123534346391630</td>\n",
       "      <td>20081210</td>\n",
       "      <td>1244.20</td>\n",
       "      <td>1244.20</td>\n",
       "      <td>0</td>\n",
       "      <td>0</td>\n",
       "      <td>0.00</td>\n",
       "      <td>1244.20</td>\n",
       "      <td>1244.20</td>\n",
       "      <td>1244.20</td>\n",
       "      <td>0.00</td>\n",
       "    </tr>\n",
       "    <tr>\n",
       "      <th>4</th>\n",
       "      <td>1123534346391630</td>\n",
       "      <td>20081213</td>\n",
       "      <td>1244.20</td>\n",
       "      <td>1244.20</td>\n",
       "      <td>11</td>\n",
       "      <td>93800</td>\n",
       "      <td>93800000.00</td>\n",
       "      <td>1244.20</td>\n",
       "      <td>1244.20</td>\n",
       "      <td>1244.20</td>\n",
       "      <td>1244.20</td>\n",
       "    </tr>\n",
       "    <tr>\n",
       "      <th>...</th>\n",
       "      <td>...</td>\n",
       "      <td>...</td>\n",
       "      <td>...</td>\n",
       "      <td>...</td>\n",
       "      <td>...</td>\n",
       "      <td>...</td>\n",
       "      <td>...</td>\n",
       "      <td>...</td>\n",
       "      <td>...</td>\n",
       "      <td>...</td>\n",
       "      <td>...</td>\n",
       "    </tr>\n",
       "    <tr>\n",
       "      <th>3416</th>\n",
       "      <td>1123534346391630</td>\n",
       "      <td>20230201</td>\n",
       "      <td>200547.00</td>\n",
       "      <td>200547.00</td>\n",
       "      <td>9233</td>\n",
       "      <td>351666791</td>\n",
       "      <td>623317249434.00</td>\n",
       "      <td>199564.00</td>\n",
       "      <td>201489.00</td>\n",
       "      <td>119851702.22</td>\n",
       "      <td>201489.00</td>\n",
       "    </tr>\n",
       "    <tr>\n",
       "      <th>3417</th>\n",
       "      <td>1123534346391630</td>\n",
       "      <td>20230205</td>\n",
       "      <td>194566.00</td>\n",
       "      <td>194566.00</td>\n",
       "      <td>4839</td>\n",
       "      <td>190078495</td>\n",
       "      <td>386070538839.00</td>\n",
       "      <td>194566.00</td>\n",
       "      <td>199455.00</td>\n",
       "      <td>116277595.90</td>\n",
       "      <td>199455.00</td>\n",
       "    </tr>\n",
       "    <tr>\n",
       "      <th>3418</th>\n",
       "      <td>1123534346391630</td>\n",
       "      <td>20230206</td>\n",
       "      <td>187650.00</td>\n",
       "      <td>187650.00</td>\n",
       "      <td>8142</td>\n",
       "      <td>483872070</td>\n",
       "      <td>752568189919.00</td>\n",
       "      <td>187650.00</td>\n",
       "      <td>192189.00</td>\n",
       "      <td>112144072.68</td>\n",
       "      <td>192189.00</td>\n",
       "    </tr>\n",
       "    <tr>\n",
       "      <th>3419</th>\n",
       "      <td>1123534346391630</td>\n",
       "      <td>20230207</td>\n",
       "      <td>191204.00</td>\n",
       "      <td>191204.00</td>\n",
       "      <td>3128</td>\n",
       "      <td>144316597</td>\n",
       "      <td>276612786872.00</td>\n",
       "      <td>189937.00</td>\n",
       "      <td>191399.00</td>\n",
       "      <td>114268148.98</td>\n",
       "      <td>189937.00</td>\n",
       "    </tr>\n",
       "    <tr>\n",
       "      <th>3420</th>\n",
       "      <td>1123534346391630</td>\n",
       "      <td>20230208</td>\n",
       "      <td>190237.00</td>\n",
       "      <td>190237.00</td>\n",
       "      <td>4969</td>\n",
       "      <td>166893221</td>\n",
       "      <td>313743776539.00</td>\n",
       "      <td>190237.00</td>\n",
       "      <td>191804.00</td>\n",
       "      <td>113690148.48</td>\n",
       "      <td>191804.00</td>\n",
       "    </tr>\n",
       "  </tbody>\n",
       "</table>\n",
       "<p>3421 rows × 11 columns</p>\n",
       "</div>"
      ],
      "text/plain": [
       "         instrument_id      date      close       last transaction_count  \\\n",
       "0     1123534346391630  20081206    1244.20    1244.20                 3   \n",
       "1     1123534346391630  20081207    1244.20    1244.20                 0   \n",
       "2     1123534346391630  20081208    1244.20    1244.20                 1   \n",
       "3     1123534346391630  20081210    1244.20    1244.20                 0   \n",
       "4     1123534346391630  20081213    1244.20    1244.20                11   \n",
       "...                ...       ...        ...        ...               ...   \n",
       "3416  1123534346391630  20230201  200547.00  200547.00              9233   \n",
       "3417  1123534346391630  20230205  194566.00  194566.00              4839   \n",
       "3418  1123534346391630  20230206  187650.00  187650.00              8142   \n",
       "3419  1123534346391630  20230207  191204.00  191204.00              3128   \n",
       "3420  1123534346391630  20230208  190237.00  190237.00              4969   \n",
       "\n",
       "         volume     value_traded        low       high          dday  \\\n",
       "0         20020      20006740.00    1244.20    1244.20          0.00   \n",
       "1             0             0.00    1244.20    1244.20       1244.20   \n",
       "2         10000      10000000.00    1244.20    1244.20       1244.20   \n",
       "3             0             0.00    1244.20    1244.20       1244.20   \n",
       "4         93800      93800000.00    1244.20    1244.20       1244.20   \n",
       "...         ...              ...        ...        ...           ...   \n",
       "3416  351666791  623317249434.00  199564.00  201489.00  119851702.22   \n",
       "3417  190078495  386070538839.00  194566.00  199455.00  116277595.90   \n",
       "3418  483872070  752568189919.00  187650.00  192189.00  112144072.68   \n",
       "3419  144316597  276612786872.00  189937.00  191399.00  114268148.98   \n",
       "3420  166893221  313743776539.00  190237.00  191804.00  113690148.48   \n",
       "\n",
       "           open  \n",
       "0       1244.20  \n",
       "1          0.00  \n",
       "2       1244.20  \n",
       "3          0.00  \n",
       "4       1244.20  \n",
       "...         ...  \n",
       "3416  201489.00  \n",
       "3417  199455.00  \n",
       "3418  192189.00  \n",
       "3419  189937.00  \n",
       "3420  191804.00  \n",
       "\n",
       "[3421 rows x 11 columns]"
      ]
     },
     "execution_count": 7,
     "metadata": {},
     "output_type": "execute_result"
    }
   ],
   "source": [
    "await scrape.loop_coroutines_daily_quotes(insts.index[0:40])"
   ]
  },
  {
   "cell_type": "markdown",
   "metadata": {},
   "source": [
    "### Scraping Trade History"
   ]
  },
  {
   "cell_type": "code",
   "execution_count": null,
   "metadata": {},
   "outputs": [],
   "source": []
  },
  {
   "cell_type": "code",
   "execution_count": null,
   "metadata": {},
   "outputs": [],
   "source": []
  },
  {
   "cell_type": "code",
   "execution_count": null,
   "metadata": {},
   "outputs": [],
   "source": []
  },
  {
   "attachments": {},
   "cell_type": "markdown",
   "metadata": {},
   "source": [
    "### Instrument Categorization"
   ]
  },
  {
   "cell_type": "code",
   "execution_count": 6,
   "metadata": {},
   "outputs": [],
   "source": [
    "# instrument.id, instrument.isin, instrument.ticker, instrument.description, instrument.market_code, instrument.industry_subsector_code, instrument_type.code, instrument_type.category, instrument_type.sub_category from instrument\n",
    "inst_type = pd.read_sql('select * from instrument join instrument_type join identity on instrument.type_code = instrument_type.code and instrument.isin = identity.isin', con=conn, index_col='id')\n",
    "# types = pd.read_sql('select * from instrument_type', con=conn)\n",
    "# instruments = pd.read_sql('select * from instrument', con=conn, index_col='id')\n",
    "\n",
    "inst_type.drop_duplicates('isin', inplace=True)\n",
    "\n",
    "with pd.option_context(\n",
    "    'display.max_colwidth', None,\n",
    "    'display.max_columns', 34,\n",
    "    'display.max_rows', 4):\n",
    "    display(inst_type)"
   ]
  },
  {
   "cell_type": "code",
   "execution_count": null,
   "metadata": {},
   "outputs": [
    {
     "data": {
      "text/plain": [
       "array(['بازار اول فرابورس', 'بازار اول (تابلوی اصلی) بورس', '-'],\n",
       "      dtype=object)"
      ]
     },
     "metadata": {},
     "output_type": "display_data"
    }
   ],
   "source": [
    "insts[insts['tableu_code'] == '1']['market'].unique()"
   ]
  },
  {
   "cell_type": "code",
   "execution_count": null,
   "metadata": {},
   "outputs": [
    {
     "data": {
      "text/plain": [
       "array(['8', '5', '4', '1', '7', '3', '9', '6'], dtype=object)"
      ]
     },
     "metadata": {},
     "output_type": "display_data"
    }
   ],
   "source": [
    "insts['tableu_code'].unique()"
   ]
  },
  {
   "cell_type": "code",
   "execution_count": null,
   "metadata": {},
   "outputs": [
    {
     "data": {
      "text/html": [
       "<div>\n",
       "<style scoped>\n",
       "    .dataframe tbody tr th:only-of-type {\n",
       "        vertical-align: middle;\n",
       "    }\n",
       "\n",
       "    .dataframe tbody tr th {\n",
       "        vertical-align: top;\n",
       "    }\n",
       "\n",
       "    .dataframe thead th {\n",
       "        text-align: right;\n",
       "    }\n",
       "</style>\n",
       "<table border=\"1\" class=\"dataframe\">\n",
       "  <thead>\n",
       "    <tr style=\"text-align: right;\">\n",
       "      <th></th>\n",
       "      <th>ticker</th>\n",
       "      <th>tableu_code</th>\n",
       "      <th>market</th>\n",
       "    </tr>\n",
       "    <tr>\n",
       "      <th>id</th>\n",
       "      <th></th>\n",
       "      <th></th>\n",
       "      <th></th>\n",
       "    </tr>\n",
       "  </thead>\n",
       "  <tbody>\n",
       "    <tr>\n",
       "      <th>4054414296721</th>\n",
       "      <td>ضلبخند202</td>\n",
       "      <td>8</td>\n",
       "      <td>-</td>\n",
       "    </tr>\n",
       "    <tr>\n",
       "      <th>133407505805365</th>\n",
       "      <td>طبدر2033</td>\n",
       "      <td>8</td>\n",
       "      <td>-</td>\n",
       "    </tr>\n",
       "    <tr>\n",
       "      <th>183419485240889</th>\n",
       "      <td>ضفگستر1008</td>\n",
       "      <td>8</td>\n",
       "      <td>-</td>\n",
       "    </tr>\n",
       "    <tr>\n",
       "      <th>1629946718091595</th>\n",
       "      <td>طسلا7005</td>\n",
       "      <td>8</td>\n",
       "      <td>-</td>\n",
       "    </tr>\n",
       "    <tr>\n",
       "      <th>1665565213994526</th>\n",
       "      <td>ضفگستر1010</td>\n",
       "      <td>8</td>\n",
       "      <td>-</td>\n",
       "    </tr>\n",
       "    <tr>\n",
       "      <th>...</th>\n",
       "      <td>...</td>\n",
       "      <td>...</td>\n",
       "      <td>...</td>\n",
       "    </tr>\n",
       "    <tr>\n",
       "      <th>69843691250564003</th>\n",
       "      <td>ضلبخند508</td>\n",
       "      <td>8</td>\n",
       "      <td>-</td>\n",
       "    </tr>\n",
       "    <tr>\n",
       "      <th>70304393734444484</th>\n",
       "      <td>طسلا7001</td>\n",
       "      <td>8</td>\n",
       "      <td>-</td>\n",
       "    </tr>\n",
       "    <tr>\n",
       "      <th>70950258269733388</th>\n",
       "      <td>طخود0107</td>\n",
       "      <td>8</td>\n",
       "      <td>-</td>\n",
       "    </tr>\n",
       "    <tr>\n",
       "      <th>71122180436937241</th>\n",
       "      <td>ضکارا102</td>\n",
       "      <td>8</td>\n",
       "      <td>-</td>\n",
       "    </tr>\n",
       "    <tr>\n",
       "      <th>71969988541460879</th>\n",
       "      <td>طملت1151</td>\n",
       "      <td>8</td>\n",
       "      <td>-</td>\n",
       "    </tr>\n",
       "  </tbody>\n",
       "</table>\n",
       "<p>138 rows × 3 columns</p>\n",
       "</div>"
      ],
      "text/plain": [
       "                       ticker tableu_code market\n",
       "id                                              \n",
       "4054414296721       ضلبخند202           8      -\n",
       "133407505805365      طبدر2033           8      -\n",
       "183419485240889    ضفگستر1008           8      -\n",
       "1629946718091595     طسلا7005           8      -\n",
       "1665565213994526   ضفگستر1010           8      -\n",
       "...                       ...         ...    ...\n",
       "69843691250564003   ضلبخند508           8      -\n",
       "70304393734444484    طسلا7001           8      -\n",
       "70950258269733388    طخود0107           8      -\n",
       "71122180436937241    ضکارا102           8      -\n",
       "71969988541460879    طملت1151           8      -\n",
       "\n",
       "[138 rows x 3 columns]"
      ]
     },
     "metadata": {},
     "output_type": "display_data"
    }
   ],
   "source": [
    "insts[insts['tableu_code'] == '8']"
   ]
  },
  {
   "cell_type": "code",
   "execution_count": null,
   "metadata": {},
   "outputs": [],
   "source": []
  },
  {
   "cell_type": "code",
   "execution_count": null,
   "metadata": {},
   "outputs": [],
   "source": []
  },
  {
   "attachments": {},
   "cell_type": "markdown",
   "metadata": {},
   "source": [
    "### Get Trade History (Ticks/Trade Details)"
   ]
  },
  {
   "cell_type": "code",
   "execution_count": 3,
   "metadata": {},
   "outputs": [
    {
     "data": {
      "text/html": [
       "<div>\n",
       "<style scoped>\n",
       "    .dataframe tbody tr th:only-of-type {\n",
       "        vertical-align: middle;\n",
       "    }\n",
       "\n",
       "    .dataframe tbody tr th {\n",
       "        vertical-align: top;\n",
       "    }\n",
       "\n",
       "    .dataframe thead th {\n",
       "        text-align: right;\n",
       "    }\n",
       "</style>\n",
       "<table border=\"1\" class=\"dataframe\">\n",
       "  <thead>\n",
       "    <tr style=\"text-align: right;\">\n",
       "      <th></th>\n",
       "      <th>insCode</th>\n",
       "      <th>dEven</th>\n",
       "      <th>hEven</th>\n",
       "      <th>qTitTran</th>\n",
       "      <th>pTran</th>\n",
       "      <th>qTitNgJ</th>\n",
       "      <th>iSensVarP</th>\n",
       "      <th>pPhSeaCotJ</th>\n",
       "      <th>pPbSeaCotJ</th>\n",
       "      <th>iAnuTran</th>\n",
       "      <th>xqVarPJDrPRf</th>\n",
       "      <th>canceled</th>\n",
       "    </tr>\n",
       "    <tr>\n",
       "      <th>nTran</th>\n",
       "      <th></th>\n",
       "      <th></th>\n",
       "      <th></th>\n",
       "      <th></th>\n",
       "      <th></th>\n",
       "      <th></th>\n",
       "      <th></th>\n",
       "      <th></th>\n",
       "      <th></th>\n",
       "      <th></th>\n",
       "      <th></th>\n",
       "      <th></th>\n",
       "    </tr>\n",
       "  </thead>\n",
       "  <tbody>\n",
       "    <tr>\n",
       "      <th>1</th>\n",
       "      <td>None</td>\n",
       "      <td>0</td>\n",
       "      <td>90037</td>\n",
       "      <td>300000</td>\n",
       "      <td>2941.0</td>\n",
       "      <td>0</td>\n",
       "      <td>\u0000</td>\n",
       "      <td>0.0</td>\n",
       "      <td>0.0</td>\n",
       "      <td>0</td>\n",
       "      <td>0.0</td>\n",
       "      <td>0</td>\n",
       "    </tr>\n",
       "    <tr>\n",
       "      <th>2</th>\n",
       "      <td>None</td>\n",
       "      <td>0</td>\n",
       "      <td>90037</td>\n",
       "      <td>100000</td>\n",
       "      <td>2941.0</td>\n",
       "      <td>0</td>\n",
       "      <td>\u0000</td>\n",
       "      <td>0.0</td>\n",
       "      <td>0.0</td>\n",
       "      <td>0</td>\n",
       "      <td>0.0</td>\n",
       "      <td>0</td>\n",
       "    </tr>\n",
       "    <tr>\n",
       "      <th>3</th>\n",
       "      <td>None</td>\n",
       "      <td>0</td>\n",
       "      <td>90037</td>\n",
       "      <td>43368</td>\n",
       "      <td>2941.0</td>\n",
       "      <td>0</td>\n",
       "      <td>\u0000</td>\n",
       "      <td>0.0</td>\n",
       "      <td>0.0</td>\n",
       "      <td>0</td>\n",
       "      <td>0.0</td>\n",
       "      <td>0</td>\n",
       "    </tr>\n",
       "    <tr>\n",
       "      <th>4</th>\n",
       "      <td>None</td>\n",
       "      <td>0</td>\n",
       "      <td>90037</td>\n",
       "      <td>11960</td>\n",
       "      <td>2941.0</td>\n",
       "      <td>0</td>\n",
       "      <td>\u0000</td>\n",
       "      <td>0.0</td>\n",
       "      <td>0.0</td>\n",
       "      <td>0</td>\n",
       "      <td>0.0</td>\n",
       "      <td>0</td>\n",
       "    </tr>\n",
       "    <tr>\n",
       "      <th>5</th>\n",
       "      <td>None</td>\n",
       "      <td>0</td>\n",
       "      <td>90037</td>\n",
       "      <td>10218</td>\n",
       "      <td>2941.0</td>\n",
       "      <td>0</td>\n",
       "      <td>\u0000</td>\n",
       "      <td>0.0</td>\n",
       "      <td>0.0</td>\n",
       "      <td>0</td>\n",
       "      <td>0.0</td>\n",
       "      <td>0</td>\n",
       "    </tr>\n",
       "    <tr>\n",
       "      <th>...</th>\n",
       "      <td>...</td>\n",
       "      <td>...</td>\n",
       "      <td>...</td>\n",
       "      <td>...</td>\n",
       "      <td>...</td>\n",
       "      <td>...</td>\n",
       "      <td>...</td>\n",
       "      <td>...</td>\n",
       "      <td>...</td>\n",
       "      <td>...</td>\n",
       "      <td>...</td>\n",
       "      <td>...</td>\n",
       "    </tr>\n",
       "    <tr>\n",
       "      <th>6711</th>\n",
       "      <td>None</td>\n",
       "      <td>0</td>\n",
       "      <td>122958</td>\n",
       "      <td>20000</td>\n",
       "      <td>3067.0</td>\n",
       "      <td>0</td>\n",
       "      <td>\u0000</td>\n",
       "      <td>0.0</td>\n",
       "      <td>0.0</td>\n",
       "      <td>0</td>\n",
       "      <td>0.0</td>\n",
       "      <td>0</td>\n",
       "    </tr>\n",
       "    <tr>\n",
       "      <th>6712</th>\n",
       "      <td>None</td>\n",
       "      <td>0</td>\n",
       "      <td>122959</td>\n",
       "      <td>20000</td>\n",
       "      <td>3067.0</td>\n",
       "      <td>0</td>\n",
       "      <td>\u0000</td>\n",
       "      <td>0.0</td>\n",
       "      <td>0.0</td>\n",
       "      <td>0</td>\n",
       "      <td>0.0</td>\n",
       "      <td>0</td>\n",
       "    </tr>\n",
       "    <tr>\n",
       "      <th>6713</th>\n",
       "      <td>None</td>\n",
       "      <td>0</td>\n",
       "      <td>122959</td>\n",
       "      <td>14250</td>\n",
       "      <td>3067.0</td>\n",
       "      <td>0</td>\n",
       "      <td>\u0000</td>\n",
       "      <td>0.0</td>\n",
       "      <td>0.0</td>\n",
       "      <td>0</td>\n",
       "      <td>0.0</td>\n",
       "      <td>0</td>\n",
       "    </tr>\n",
       "    <tr>\n",
       "      <th>6714</th>\n",
       "      <td>None</td>\n",
       "      <td>0</td>\n",
       "      <td>122959</td>\n",
       "      <td>20000</td>\n",
       "      <td>3067.0</td>\n",
       "      <td>0</td>\n",
       "      <td>\u0000</td>\n",
       "      <td>0.0</td>\n",
       "      <td>0.0</td>\n",
       "      <td>0</td>\n",
       "      <td>0.0</td>\n",
       "      <td>0</td>\n",
       "    </tr>\n",
       "    <tr>\n",
       "      <th>6715</th>\n",
       "      <td>None</td>\n",
       "      <td>0</td>\n",
       "      <td>122959</td>\n",
       "      <td>20000</td>\n",
       "      <td>3067.0</td>\n",
       "      <td>0</td>\n",
       "      <td>\u0000</td>\n",
       "      <td>0.0</td>\n",
       "      <td>0.0</td>\n",
       "      <td>0</td>\n",
       "      <td>0.0</td>\n",
       "      <td>0</td>\n",
       "    </tr>\n",
       "  </tbody>\n",
       "</table>\n",
       "<p>7121 rows × 12 columns</p>\n",
       "</div>"
      ],
      "text/plain": [
       "      insCode  dEven   hEven  qTitTran   pTran  qTitNgJ iSensVarP  pPhSeaCotJ  \\\n",
       "nTran                                                                           \n",
       "1        None      0   90037    300000  2941.0        0         \u0000         0.0   \n",
       "2        None      0   90037    100000  2941.0        0         \u0000         0.0   \n",
       "3        None      0   90037     43368  2941.0        0         \u0000         0.0   \n",
       "4        None      0   90037     11960  2941.0        0         \u0000         0.0   \n",
       "5        None      0   90037     10218  2941.0        0         \u0000         0.0   \n",
       "...       ...    ...     ...       ...     ...      ...       ...         ...   \n",
       "6711     None      0  122958     20000  3067.0        0         \u0000         0.0   \n",
       "6712     None      0  122959     20000  3067.0        0         \u0000         0.0   \n",
       "6713     None      0  122959     14250  3067.0        0         \u0000         0.0   \n",
       "6714     None      0  122959     20000  3067.0        0         \u0000         0.0   \n",
       "6715     None      0  122959     20000  3067.0        0         \u0000         0.0   \n",
       "\n",
       "       pPbSeaCotJ  iAnuTran  xqVarPJDrPRf  canceled  \n",
       "nTran                                                \n",
       "1             0.0         0           0.0         0  \n",
       "2             0.0         0           0.0         0  \n",
       "3             0.0         0           0.0         0  \n",
       "4             0.0         0           0.0         0  \n",
       "5             0.0         0           0.0         0  \n",
       "...           ...       ...           ...       ...  \n",
       "6711          0.0         0           0.0         0  \n",
       "6712          0.0         0           0.0         0  \n",
       "6713          0.0         0           0.0         0  \n",
       "6714          0.0         0           0.0         0  \n",
       "6715          0.0         0           0.0         0  \n",
       "\n",
       "[7121 rows x 12 columns]"
      ]
     },
     "execution_count": 3,
     "metadata": {},
     "output_type": "execute_result"
    }
   ],
   "source": [
    "response = req.get(\n",
    "    f'http://cdn.tsetmc.com/api/Trade/GetTradeHistory/{inst_id}/{desired_date}/false', verify=False, headers=headers)\n",
    "json_data = json.loads(response.text)\n",
    "ticks = pd.DataFrame(json_data['tradeHistory']).set_index('nTran').sort_index()\n",
    "ticks\n"
   ]
  },
  {
   "cell_type": "code",
   "execution_count": 5,
   "metadata": {},
   "outputs": [],
   "source": [
    "ticks['insCode'] = inst_id\n",
    "ticks['dEven'] = pd.to_datetime(desired_date,format='%Y%m%d')\n",
    "#ticks['ts'] = pd.to_datetime(ticks['hEven'], format='%H%M%S')\n",
    "ticks['timestamp']= ticks['dEven'].astype(str) + pd.to_datetime(ticks['hEven'], format='%H%M%S').astype(str)"
   ]
  },
  {
   "cell_type": "code",
   "execution_count": 6,
   "metadata": {},
   "outputs": [
    {
     "data": {
      "text/html": [
       "<div>\n",
       "<style scoped>\n",
       "    .dataframe tbody tr th:only-of-type {\n",
       "        vertical-align: middle;\n",
       "    }\n",
       "\n",
       "    .dataframe tbody tr th {\n",
       "        vertical-align: top;\n",
       "    }\n",
       "\n",
       "    .dataframe thead th {\n",
       "        text-align: right;\n",
       "    }\n",
       "</style>\n",
       "<table border=\"1\" class=\"dataframe\">\n",
       "  <thead>\n",
       "    <tr style=\"text-align: right;\">\n",
       "      <th></th>\n",
       "      <th>insCode</th>\n",
       "      <th>dEven</th>\n",
       "      <th>hEven</th>\n",
       "      <th>qTitTran</th>\n",
       "      <th>pTran</th>\n",
       "      <th>qTitNgJ</th>\n",
       "      <th>iSensVarP</th>\n",
       "      <th>pPhSeaCotJ</th>\n",
       "      <th>pPbSeaCotJ</th>\n",
       "      <th>iAnuTran</th>\n",
       "      <th>xqVarPJDrPRf</th>\n",
       "      <th>canceled</th>\n",
       "      <th>timestamp</th>\n",
       "    </tr>\n",
       "    <tr>\n",
       "      <th>nTran</th>\n",
       "      <th></th>\n",
       "      <th></th>\n",
       "      <th></th>\n",
       "      <th></th>\n",
       "      <th></th>\n",
       "      <th></th>\n",
       "      <th></th>\n",
       "      <th></th>\n",
       "      <th></th>\n",
       "      <th></th>\n",
       "      <th></th>\n",
       "      <th></th>\n",
       "      <th></th>\n",
       "    </tr>\n",
       "  </thead>\n",
       "  <tbody>\n",
       "    <tr>\n",
       "      <th>1</th>\n",
       "      <td>43362635835198978</td>\n",
       "      <td>2022-08-21</td>\n",
       "      <td>90037</td>\n",
       "      <td>300000</td>\n",
       "      <td>2941.0</td>\n",
       "      <td>0</td>\n",
       "      <td>\u0000</td>\n",
       "      <td>0.0</td>\n",
       "      <td>0.0</td>\n",
       "      <td>0</td>\n",
       "      <td>0.0</td>\n",
       "      <td>0</td>\n",
       "      <td>2022-08-211900-01-01 09:00:37</td>\n",
       "    </tr>\n",
       "    <tr>\n",
       "      <th>2</th>\n",
       "      <td>43362635835198978</td>\n",
       "      <td>2022-08-21</td>\n",
       "      <td>90037</td>\n",
       "      <td>100000</td>\n",
       "      <td>2941.0</td>\n",
       "      <td>0</td>\n",
       "      <td>\u0000</td>\n",
       "      <td>0.0</td>\n",
       "      <td>0.0</td>\n",
       "      <td>0</td>\n",
       "      <td>0.0</td>\n",
       "      <td>0</td>\n",
       "      <td>2022-08-211900-01-01 09:00:37</td>\n",
       "    </tr>\n",
       "    <tr>\n",
       "      <th>3</th>\n",
       "      <td>43362635835198978</td>\n",
       "      <td>2022-08-21</td>\n",
       "      <td>90037</td>\n",
       "      <td>43368</td>\n",
       "      <td>2941.0</td>\n",
       "      <td>0</td>\n",
       "      <td>\u0000</td>\n",
       "      <td>0.0</td>\n",
       "      <td>0.0</td>\n",
       "      <td>0</td>\n",
       "      <td>0.0</td>\n",
       "      <td>0</td>\n",
       "      <td>2022-08-211900-01-01 09:00:37</td>\n",
       "    </tr>\n",
       "    <tr>\n",
       "      <th>4</th>\n",
       "      <td>43362635835198978</td>\n",
       "      <td>2022-08-21</td>\n",
       "      <td>90037</td>\n",
       "      <td>11960</td>\n",
       "      <td>2941.0</td>\n",
       "      <td>0</td>\n",
       "      <td>\u0000</td>\n",
       "      <td>0.0</td>\n",
       "      <td>0.0</td>\n",
       "      <td>0</td>\n",
       "      <td>0.0</td>\n",
       "      <td>0</td>\n",
       "      <td>2022-08-211900-01-01 09:00:37</td>\n",
       "    </tr>\n",
       "    <tr>\n",
       "      <th>5</th>\n",
       "      <td>43362635835198978</td>\n",
       "      <td>2022-08-21</td>\n",
       "      <td>90037</td>\n",
       "      <td>10218</td>\n",
       "      <td>2941.0</td>\n",
       "      <td>0</td>\n",
       "      <td>\u0000</td>\n",
       "      <td>0.0</td>\n",
       "      <td>0.0</td>\n",
       "      <td>0</td>\n",
       "      <td>0.0</td>\n",
       "      <td>0</td>\n",
       "      <td>2022-08-211900-01-01 09:00:37</td>\n",
       "    </tr>\n",
       "    <tr>\n",
       "      <th>...</th>\n",
       "      <td>...</td>\n",
       "      <td>...</td>\n",
       "      <td>...</td>\n",
       "      <td>...</td>\n",
       "      <td>...</td>\n",
       "      <td>...</td>\n",
       "      <td>...</td>\n",
       "      <td>...</td>\n",
       "      <td>...</td>\n",
       "      <td>...</td>\n",
       "      <td>...</td>\n",
       "      <td>...</td>\n",
       "      <td>...</td>\n",
       "    </tr>\n",
       "    <tr>\n",
       "      <th>6711</th>\n",
       "      <td>43362635835198978</td>\n",
       "      <td>2022-08-21</td>\n",
       "      <td>122958</td>\n",
       "      <td>20000</td>\n",
       "      <td>3067.0</td>\n",
       "      <td>0</td>\n",
       "      <td>\u0000</td>\n",
       "      <td>0.0</td>\n",
       "      <td>0.0</td>\n",
       "      <td>0</td>\n",
       "      <td>0.0</td>\n",
       "      <td>0</td>\n",
       "      <td>2022-08-211900-01-01 12:29:58</td>\n",
       "    </tr>\n",
       "    <tr>\n",
       "      <th>6712</th>\n",
       "      <td>43362635835198978</td>\n",
       "      <td>2022-08-21</td>\n",
       "      <td>122959</td>\n",
       "      <td>20000</td>\n",
       "      <td>3067.0</td>\n",
       "      <td>0</td>\n",
       "      <td>\u0000</td>\n",
       "      <td>0.0</td>\n",
       "      <td>0.0</td>\n",
       "      <td>0</td>\n",
       "      <td>0.0</td>\n",
       "      <td>0</td>\n",
       "      <td>2022-08-211900-01-01 12:29:59</td>\n",
       "    </tr>\n",
       "    <tr>\n",
       "      <th>6713</th>\n",
       "      <td>43362635835198978</td>\n",
       "      <td>2022-08-21</td>\n",
       "      <td>122959</td>\n",
       "      <td>14250</td>\n",
       "      <td>3067.0</td>\n",
       "      <td>0</td>\n",
       "      <td>\u0000</td>\n",
       "      <td>0.0</td>\n",
       "      <td>0.0</td>\n",
       "      <td>0</td>\n",
       "      <td>0.0</td>\n",
       "      <td>0</td>\n",
       "      <td>2022-08-211900-01-01 12:29:59</td>\n",
       "    </tr>\n",
       "    <tr>\n",
       "      <th>6714</th>\n",
       "      <td>43362635835198978</td>\n",
       "      <td>2022-08-21</td>\n",
       "      <td>122959</td>\n",
       "      <td>20000</td>\n",
       "      <td>3067.0</td>\n",
       "      <td>0</td>\n",
       "      <td>\u0000</td>\n",
       "      <td>0.0</td>\n",
       "      <td>0.0</td>\n",
       "      <td>0</td>\n",
       "      <td>0.0</td>\n",
       "      <td>0</td>\n",
       "      <td>2022-08-211900-01-01 12:29:59</td>\n",
       "    </tr>\n",
       "    <tr>\n",
       "      <th>6715</th>\n",
       "      <td>43362635835198978</td>\n",
       "      <td>2022-08-21</td>\n",
       "      <td>122959</td>\n",
       "      <td>20000</td>\n",
       "      <td>3067.0</td>\n",
       "      <td>0</td>\n",
       "      <td>\u0000</td>\n",
       "      <td>0.0</td>\n",
       "      <td>0.0</td>\n",
       "      <td>0</td>\n",
       "      <td>0.0</td>\n",
       "      <td>0</td>\n",
       "      <td>2022-08-211900-01-01 12:29:59</td>\n",
       "    </tr>\n",
       "  </tbody>\n",
       "</table>\n",
       "<p>7121 rows × 13 columns</p>\n",
       "</div>"
      ],
      "text/plain": [
       "                 insCode      dEven   hEven  qTitTran   pTran  qTitNgJ  \\\n",
       "nTran                                                                    \n",
       "1      43362635835198978 2022-08-21   90037    300000  2941.0        0   \n",
       "2      43362635835198978 2022-08-21   90037    100000  2941.0        0   \n",
       "3      43362635835198978 2022-08-21   90037     43368  2941.0        0   \n",
       "4      43362635835198978 2022-08-21   90037     11960  2941.0        0   \n",
       "5      43362635835198978 2022-08-21   90037     10218  2941.0        0   \n",
       "...                  ...        ...     ...       ...     ...      ...   \n",
       "6711   43362635835198978 2022-08-21  122958     20000  3067.0        0   \n",
       "6712   43362635835198978 2022-08-21  122959     20000  3067.0        0   \n",
       "6713   43362635835198978 2022-08-21  122959     14250  3067.0        0   \n",
       "6714   43362635835198978 2022-08-21  122959     20000  3067.0        0   \n",
       "6715   43362635835198978 2022-08-21  122959     20000  3067.0        0   \n",
       "\n",
       "      iSensVarP  pPhSeaCotJ  pPbSeaCotJ  iAnuTran  xqVarPJDrPRf  canceled  \\\n",
       "nTran                                                                       \n",
       "1             \u0000         0.0         0.0         0           0.0         0   \n",
       "2             \u0000         0.0         0.0         0           0.0         0   \n",
       "3             \u0000         0.0         0.0         0           0.0         0   \n",
       "4             \u0000         0.0         0.0         0           0.0         0   \n",
       "5             \u0000         0.0         0.0         0           0.0         0   \n",
       "...         ...         ...         ...       ...           ...       ...   \n",
       "6711          \u0000         0.0         0.0         0           0.0         0   \n",
       "6712          \u0000         0.0         0.0         0           0.0         0   \n",
       "6713          \u0000         0.0         0.0         0           0.0         0   \n",
       "6714          \u0000         0.0         0.0         0           0.0         0   \n",
       "6715          \u0000         0.0         0.0         0           0.0         0   \n",
       "\n",
       "                           timestamp  \n",
       "nTran                                 \n",
       "1      2022-08-211900-01-01 09:00:37  \n",
       "2      2022-08-211900-01-01 09:00:37  \n",
       "3      2022-08-211900-01-01 09:00:37  \n",
       "4      2022-08-211900-01-01 09:00:37  \n",
       "5      2022-08-211900-01-01 09:00:37  \n",
       "...                              ...  \n",
       "6711   2022-08-211900-01-01 12:29:58  \n",
       "6712   2022-08-211900-01-01 12:29:59  \n",
       "6713   2022-08-211900-01-01 12:29:59  \n",
       "6714   2022-08-211900-01-01 12:29:59  \n",
       "6715   2022-08-211900-01-01 12:29:59  \n",
       "\n",
       "[7121 rows x 13 columns]"
      ]
     },
     "execution_count": 6,
     "metadata": {},
     "output_type": "execute_result"
    }
   ],
   "source": [
    "ticks"
   ]
  },
  {
   "cell_type": "code",
   "execution_count": null,
   "metadata": {},
   "outputs": [],
   "source": [
    "ticks.resample()"
   ]
  },
  {
   "cell_type": "markdown",
   "metadata": {},
   "source": [
    "### Filtering & Ploting"
   ]
  },
  {
   "cell_type": "code",
   "execution_count": null,
   "metadata": {},
   "outputs": [],
   "source": [
    "import plotly.graph_objects as go\n",
    "import plotly.express as px\n",
    "import plotly.io as pio\n",
    "pio.templates.default = 'plotly_dark'\n"
   ]
  },
  {
   "cell_type": "code",
   "execution_count": 15,
   "metadata": {},
   "outputs": [],
   "source": [
    "# Today's MarketWatch! DataFrame\n",
    "traded_today_df = pd.DataFrame([data[instrument].iloc[-1] for instrument in instruments_traded_so_far if (data[instrument].index[-1] == last_workday)])\n"
   ]
  },
  {
   "cell_type": "code",
   "execution_count": 6,
   "metadata": {},
   "outputs": [
    {
     "data": {
      "text/html": [
       "<div>\n",
       "<style scoped>\n",
       "    .dataframe tbody tr th:only-of-type {\n",
       "        vertical-align: middle;\n",
       "    }\n",
       "\n",
       "    .dataframe tbody tr th {\n",
       "        vertical-align: top;\n",
       "    }\n",
       "\n",
       "    .dataframe thead th {\n",
       "        text-align: right;\n",
       "    }\n",
       "</style>\n",
       "<table border=\"1\" class=\"dataframe\">\n",
       "  <thead>\n",
       "    <tr style=\"text-align: right;\">\n",
       "      <th></th>\n",
       "      <th>ent code</th>\n",
       "      <th>name</th>\n",
       "      <th>namad</th>\n",
       "      <th>nam</th>\n",
       "      <th>j-date</th>\n",
       "      <th>open</th>\n",
       "      <th>high</th>\n",
       "      <th>low</th>\n",
       "      <th>last</th>\n",
       "      <th>close</th>\n",
       "      <th>...</th>\n",
       "      <th>volume MA 5</th>\n",
       "      <th>volume MA 9</th>\n",
       "      <th>volume MA 3</th>\n",
       "      <th>volume MA 26</th>\n",
       "      <th>volume MA 52</th>\n",
       "      <th>value MA 3</th>\n",
       "      <th>value MA 5</th>\n",
       "      <th>value MA 9</th>\n",
       "      <th>value MA 26</th>\n",
       "      <th>value MA 52</th>\n",
       "    </tr>\n",
       "  </thead>\n",
       "  <tbody>\n",
       "    <tr>\n",
       "      <th>2022-09-10</th>\n",
       "      <td>TB77</td>\n",
       "      <td>TreasuryBill230109-a</td>\n",
       "      <td>اخزا902</td>\n",
       "      <td>اسنادخزانه-م2بودجه99-011019-ت</td>\n",
       "      <td>14010619</td>\n",
       "      <td>937000.0</td>\n",
       "      <td>937000.0</td>\n",
       "      <td>935220.0</td>\n",
       "      <td>936500.0</td>\n",
       "      <td>936910.0</td>\n",
       "      <td>...</td>\n",
       "      <td>28700.0</td>\n",
       "      <td>2.518889e+04</td>\n",
       "      <td>4.353333e+04</td>\n",
       "      <td>2.692308e+04</td>\n",
       "      <td>4.750385e+04</td>\n",
       "      <td>4.077619e+10</td>\n",
       "      <td>2.687331e+10</td>\n",
       "      <td>2.352258e+10</td>\n",
       "      <td>2.494468e+10</td>\n",
       "      <td>4.336457e+10</td>\n",
       "    </tr>\n",
       "    <tr>\n",
       "      <th>2022-09-10</th>\n",
       "      <td>TB83</td>\n",
       "      <td>TreasuryBill230828-a</td>\n",
       "      <td>اخزا908</td>\n",
       "      <td>اسنادخزانه-م8بودجه99-020606-ت</td>\n",
       "      <td>14010619</td>\n",
       "      <td>828870.0</td>\n",
       "      <td>829430.0</td>\n",
       "      <td>828000.0</td>\n",
       "      <td>829430.0</td>\n",
       "      <td>829330.0</td>\n",
       "      <td>...</td>\n",
       "      <td>28160.0</td>\n",
       "      <td>2.363333e+04</td>\n",
       "      <td>3.763333e+04</td>\n",
       "      <td>1.716538e+04</td>\n",
       "      <td>4.509423e+04</td>\n",
       "      <td>3.120696e+10</td>\n",
       "      <td>2.332243e+10</td>\n",
       "      <td>1.953626e+10</td>\n",
       "      <td>1.408507e+10</td>\n",
       "      <td>3.614158e+10</td>\n",
       "    </tr>\n",
       "    <tr>\n",
       "      <th>2022-09-10</th>\n",
       "      <td>TB91</td>\n",
       "      <td>TreasuryBill230819-a</td>\n",
       "      <td>اخزا916</td>\n",
       "      <td>اسنادخزانه-م16بودجه99-020528-ت</td>\n",
       "      <td>14010619</td>\n",
       "      <td>842180.0</td>\n",
       "      <td>842180.0</td>\n",
       "      <td>842180.0</td>\n",
       "      <td>842180.0</td>\n",
       "      <td>842180.0</td>\n",
       "      <td>...</td>\n",
       "      <td>12409.8</td>\n",
       "      <td>9.119333e+03</td>\n",
       "      <td>1.833533e+04</td>\n",
       "      <td>6.203263e+03</td>\n",
       "      <td>6.203263e+03</td>\n",
       "      <td>1.541292e+10</td>\n",
       "      <td>1.035659e+10</td>\n",
       "      <td>7.508267e+09</td>\n",
       "      <td>4.911234e+09</td>\n",
       "      <td>4.911234e+09</td>\n",
       "    </tr>\n",
       "    <tr>\n",
       "      <th>2022-09-10</th>\n",
       "      <td>SALF</td>\n",
       "      <td>AminTadbirFardaETF-a</td>\n",
       "      <td>الماس</td>\n",
       "      <td>صندوق_س.امين_تدبيرگران_فردا-س-ت</td>\n",
       "      <td>14010619</td>\n",
       "      <td>111000.0</td>\n",
       "      <td>114000.0</td>\n",
       "      <td>111000.0</td>\n",
       "      <td>111000.0</td>\n",
       "      <td>112097.0</td>\n",
       "      <td>...</td>\n",
       "      <td>13507.4</td>\n",
       "      <td>1.236522e+04</td>\n",
       "      <td>2.065900e+04</td>\n",
       "      <td>1.207558e+04</td>\n",
       "      <td>1.582867e+04</td>\n",
       "      <td>2.315368e+09</td>\n",
       "      <td>1.513163e+09</td>\n",
       "      <td>1.393643e+09</td>\n",
       "      <td>1.330181e+09</td>\n",
       "      <td>1.777295e+09</td>\n",
       "    </tr>\n",
       "    <tr>\n",
       "      <th>2022-09-10</th>\n",
       "      <td>TOSZ</td>\n",
       "      <td>TOSAN-a</td>\n",
       "      <td>توسن</td>\n",
       "      <td>توسعه_سامانه_ي_نرم_افزاري_نگين-ت</td>\n",
       "      <td>14010619</td>\n",
       "      <td>14990.0</td>\n",
       "      <td>15520.0</td>\n",
       "      <td>14550.0</td>\n",
       "      <td>15520.0</td>\n",
       "      <td>15320.0</td>\n",
       "      <td>...</td>\n",
       "      <td>2606217.0</td>\n",
       "      <td>1.957540e+06</td>\n",
       "      <td>3.788956e+06</td>\n",
       "      <td>1.314413e+06</td>\n",
       "      <td>1.201066e+06</td>\n",
       "      <td>5.849467e+10</td>\n",
       "      <td>4.178938e+10</td>\n",
       "      <td>3.372620e+10</td>\n",
       "      <td>2.487222e+10</td>\n",
       "      <td>2.360080e+10</td>\n",
       "    </tr>\n",
       "    <tr>\n",
       "      <th>2022-09-10</th>\n",
       "      <td>KSHJ</td>\n",
       "      <td>S*IRI Marine Co.-a</td>\n",
       "      <td>حکشتی</td>\n",
       "      <td>كشتيراني_جمهوري_اسلامي_ايران-ت</td>\n",
       "      <td>14010619</td>\n",
       "      <td>23510.0</td>\n",
       "      <td>23510.0</td>\n",
       "      <td>22560.0</td>\n",
       "      <td>22570.0</td>\n",
       "      <td>22570.0</td>\n",
       "      <td>...</td>\n",
       "      <td>14556392.4</td>\n",
       "      <td>1.709113e+07</td>\n",
       "      <td>1.924198e+07</td>\n",
       "      <td>1.659934e+07</td>\n",
       "      <td>2.091673e+07</td>\n",
       "      <td>4.410619e+11</td>\n",
       "      <td>3.382885e+11</td>\n",
       "      <td>4.153053e+11</td>\n",
       "      <td>3.963030e+11</td>\n",
       "      <td>4.603504e+11</td>\n",
       "    </tr>\n",
       "    <tr>\n",
       "      <th>2022-09-10</th>\n",
       "      <td>KKHP</td>\n",
       "      <td>S*Kerman Khodro E.-a</td>\n",
       "      <td>خکرمان</td>\n",
       "      <td>گروه_اقتصادي_كرمان_خودرو-ت</td>\n",
       "      <td>14010619</td>\n",
       "      <td>3648.0</td>\n",
       "      <td>3648.0</td>\n",
       "      <td>3583.0</td>\n",
       "      <td>3648.0</td>\n",
       "      <td>3647.0</td>\n",
       "      <td>...</td>\n",
       "      <td>14766569.0</td>\n",
       "      <td>1.165854e+07</td>\n",
       "      <td>2.159768e+07</td>\n",
       "      <td>1.558829e+07</td>\n",
       "      <td>1.438011e+07</td>\n",
       "      <td>7.805133e+10</td>\n",
       "      <td>5.289414e+10</td>\n",
       "      <td>4.149542e+10</td>\n",
       "      <td>5.428829e+10</td>\n",
       "      <td>4.874815e+10</td>\n",
       "    </tr>\n",
       "    <tr>\n",
       "      <th>2022-09-10</th>\n",
       "      <td>INFO</td>\n",
       "      <td>Inf. Services-a</td>\n",
       "      <td>رانفور</td>\n",
       "      <td>خدمات‌انفورماتيك‌-ت</td>\n",
       "      <td>14010619</td>\n",
       "      <td>3930.0</td>\n",
       "      <td>4049.0</td>\n",
       "      <td>3840.0</td>\n",
       "      <td>4049.0</td>\n",
       "      <td>4023.0</td>\n",
       "      <td>...</td>\n",
       "      <td>2740031.4</td>\n",
       "      <td>2.704766e+06</td>\n",
       "      <td>3.020928e+06</td>\n",
       "      <td>3.143687e+06</td>\n",
       "      <td>3.256747e+06</td>\n",
       "      <td>1.205973e+10</td>\n",
       "      <td>1.096140e+10</td>\n",
       "      <td>1.088318e+10</td>\n",
       "      <td>1.251370e+10</td>\n",
       "      <td>1.277916e+10</td>\n",
       "    </tr>\n",
       "    <tr>\n",
       "      <th>2022-09-10</th>\n",
       "      <td>ZAKF</td>\n",
       "      <td>Zarin Korosh ETF-a</td>\n",
       "      <td>زرین</td>\n",
       "      <td>صندوق_س._سهام_زرين_كوروش-س-ت</td>\n",
       "      <td>14010619</td>\n",
       "      <td>12000.0</td>\n",
       "      <td>12288.0</td>\n",
       "      <td>11930.0</td>\n",
       "      <td>11950.0</td>\n",
       "      <td>12086.0</td>\n",
       "      <td>...</td>\n",
       "      <td>117864.0</td>\n",
       "      <td>9.022900e+04</td>\n",
       "      <td>1.429957e+05</td>\n",
       "      <td>1.223091e+05</td>\n",
       "      <td>1.599467e+05</td>\n",
       "      <td>1.728267e+09</td>\n",
       "      <td>1.429458e+09</td>\n",
       "      <td>1.098126e+09</td>\n",
       "      <td>1.509757e+09</td>\n",
       "      <td>2.021369e+09</td>\n",
       "    </tr>\n",
       "    <tr>\n",
       "      <th>2022-09-10</th>\n",
       "      <td>BTEJ</td>\n",
       "      <td>BTEJ-O-14010720-a</td>\n",
       "      <td>طجار7047</td>\n",
       "      <td>اختيارف_وتجارت-1700-1401/07/20-ت</td>\n",
       "      <td>14010619</td>\n",
       "      <td>200.0</td>\n",
       "      <td>200.0</td>\n",
       "      <td>150.0</td>\n",
       "      <td>175.0</td>\n",
       "      <td>159.0</td>\n",
       "      <td>...</td>\n",
       "      <td>245.0</td>\n",
       "      <td>2.534444e+02</td>\n",
       "      <td>3.613333e+02</td>\n",
       "      <td>2.326500e+02</td>\n",
       "      <td>2.326500e+02</td>\n",
       "      <td>5.696067e+07</td>\n",
       "      <td>3.640440e+07</td>\n",
       "      <td>2.872356e+07</td>\n",
       "      <td>2.106390e+07</td>\n",
       "      <td>2.106390e+07</td>\n",
       "    </tr>\n",
       "    <tr>\n",
       "      <th>2022-09-10</th>\n",
       "      <td>BTEJ</td>\n",
       "      <td>BTEJ-O-14010720-a</td>\n",
       "      <td>طجار7048</td>\n",
       "      <td>اختيارف_وتجارت-1800-1401/07/20-ت</td>\n",
       "      <td>14010619</td>\n",
       "      <td>250.0</td>\n",
       "      <td>250.0</td>\n",
       "      <td>250.0</td>\n",
       "      <td>250.0</td>\n",
       "      <td>250.0</td>\n",
       "      <td>...</td>\n",
       "      <td>95.0</td>\n",
       "      <td>1.094444e+02</td>\n",
       "      <td>4.500000e+01</td>\n",
       "      <td>1.094444e+02</td>\n",
       "      <td>1.094444e+02</td>\n",
       "      <td>1.005000e+07</td>\n",
       "      <td>1.217700e+07</td>\n",
       "      <td>1.131500e+07</td>\n",
       "      <td>1.131500e+07</td>\n",
       "      <td>1.131500e+07</td>\n",
       "    </tr>\n",
       "    <tr>\n",
       "      <th>2022-09-10</th>\n",
       "      <td>SEPA</td>\n",
       "      <td>Sepahan Group-a</td>\n",
       "      <td>فسپا</td>\n",
       "      <td>گروه‌صنعتي‌سپاهان‌-ت</td>\n",
       "      <td>14010619</td>\n",
       "      <td>12120.0</td>\n",
       "      <td>12780.0</td>\n",
       "      <td>12060.0</td>\n",
       "      <td>12740.0</td>\n",
       "      <td>12700.0</td>\n",
       "      <td>...</td>\n",
       "      <td>2043877.0</td>\n",
       "      <td>1.959336e+06</td>\n",
       "      <td>2.762092e+06</td>\n",
       "      <td>1.896542e+06</td>\n",
       "      <td>2.539176e+06</td>\n",
       "      <td>3.473359e+10</td>\n",
       "      <td>2.554138e+10</td>\n",
       "      <td>2.438707e+10</td>\n",
       "      <td>2.336534e+10</td>\n",
       "      <td>3.636972e+10</td>\n",
       "    </tr>\n",
       "    <tr>\n",
       "      <th>2022-09-10</th>\n",
       "      <td>ALMR</td>\n",
       "      <td>Alomrad-a</td>\n",
       "      <td>فمراد</td>\n",
       "      <td>آلومراد-ت</td>\n",
       "      <td>14010619</td>\n",
       "      <td>36490.0</td>\n",
       "      <td>36490.0</td>\n",
       "      <td>35100.0</td>\n",
       "      <td>36490.0</td>\n",
       "      <td>36380.0</td>\n",
       "      <td>...</td>\n",
       "      <td>3370295.6</td>\n",
       "      <td>4.324636e+06</td>\n",
       "      <td>4.610454e+06</td>\n",
       "      <td>4.522374e+06</td>\n",
       "      <td>4.691466e+06</td>\n",
       "      <td>1.645106e+11</td>\n",
       "      <td>1.174229e+11</td>\n",
       "      <td>1.386712e+11</td>\n",
       "      <td>1.277141e+11</td>\n",
       "      <td>1.423153e+11</td>\n",
       "    </tr>\n",
       "    <tr>\n",
       "      <th>2022-09-10</th>\n",
       "      <td>PYAP</td>\n",
       "      <td>Payam Ind.-a</td>\n",
       "      <td>لپیام</td>\n",
       "      <td>گسترش_صنايع_پيام-ت</td>\n",
       "      <td>14010619</td>\n",
       "      <td>20900.0</td>\n",
       "      <td>20900.0</td>\n",
       "      <td>19750.0</td>\n",
       "      <td>19900.0</td>\n",
       "      <td>20450.0</td>\n",
       "      <td>...</td>\n",
       "      <td>529650.6</td>\n",
       "      <td>4.918641e+05</td>\n",
       "      <td>6.775173e+05</td>\n",
       "      <td>7.064774e+05</td>\n",
       "      <td>6.051614e+05</td>\n",
       "      <td>1.384189e+10</td>\n",
       "      <td>1.073666e+10</td>\n",
       "      <td>9.702992e+09</td>\n",
       "      <td>1.341095e+10</td>\n",
       "      <td>1.191397e+10</td>\n",
       "    </tr>\n",
       "    <tr>\n",
       "      <th>2022-09-10</th>\n",
       "      <td>BVMA</td>\n",
       "      <td>Bime Ma Co.-a</td>\n",
       "      <td>ما</td>\n",
       "      <td>بيمه__ما-ت</td>\n",
       "      <td>14010619</td>\n",
       "      <td>4200.0</td>\n",
       "      <td>4200.0</td>\n",
       "      <td>3990.0</td>\n",
       "      <td>4027.0</td>\n",
       "      <td>4074.0</td>\n",
       "      <td>...</td>\n",
       "      <td>1084562.8</td>\n",
       "      <td>7.911029e+05</td>\n",
       "      <td>1.246797e+06</td>\n",
       "      <td>1.119822e+06</td>\n",
       "      <td>1.033075e+06</td>\n",
       "      <td>5.066715e+09</td>\n",
       "      <td>4.463704e+09</td>\n",
       "      <td>3.277638e+09</td>\n",
       "      <td>4.610356e+09</td>\n",
       "      <td>4.342648e+09</td>\n",
       "    </tr>\n",
       "    <tr>\n",
       "      <th>2022-09-10</th>\n",
       "      <td>NEHF</td>\n",
       "      <td>Neshan ETF-a</td>\n",
       "      <td>نشان</td>\n",
       "      <td>صندوق_س._نشان_هامرز-د-ت</td>\n",
       "      <td>14010619</td>\n",
       "      <td>10696.0</td>\n",
       "      <td>10696.0</td>\n",
       "      <td>10695.0</td>\n",
       "      <td>10695.0</td>\n",
       "      <td>10695.0</td>\n",
       "      <td>...</td>\n",
       "      <td>1744761.2</td>\n",
       "      <td>1.517598e+06</td>\n",
       "      <td>2.835160e+06</td>\n",
       "      <td>1.734342e+06</td>\n",
       "      <td>3.419311e+06</td>\n",
       "      <td>3.031991e+10</td>\n",
       "      <td>1.865754e+10</td>\n",
       "      <td>1.619120e+10</td>\n",
       "      <td>1.838127e+10</td>\n",
       "      <td>3.493847e+10</td>\n",
       "    </tr>\n",
       "    <tr>\n",
       "      <th>2022-09-10</th>\n",
       "      <td>ARSP</td>\n",
       "      <td>Aras Invest.-a</td>\n",
       "      <td>وارس</td>\n",
       "      <td>سرمايه_گذاري_ارس_صبا-ت</td>\n",
       "      <td>14010619</td>\n",
       "      <td>14570.0</td>\n",
       "      <td>14700.0</td>\n",
       "      <td>14300.0</td>\n",
       "      <td>14620.0</td>\n",
       "      <td>14680.0</td>\n",
       "      <td>...</td>\n",
       "      <td>1756500.6</td>\n",
       "      <td>1.555547e+06</td>\n",
       "      <td>1.885022e+06</td>\n",
       "      <td>1.644303e+06</td>\n",
       "      <td>1.476817e+06</td>\n",
       "      <td>2.738336e+10</td>\n",
       "      <td>2.477937e+10</td>\n",
       "      <td>2.135628e+10</td>\n",
       "      <td>2.186030e+10</td>\n",
       "      <td>1.995732e+10</td>\n",
       "    </tr>\n",
       "    <tr>\n",
       "      <th>2022-09-10</th>\n",
       "      <td>VIRP</td>\n",
       "      <td>Iran Inds. Co.-a</td>\n",
       "      <td>وایرا</td>\n",
       "      <td>سرمايه_گذاري_صنايع_ايران-ت</td>\n",
       "      <td>14010619</td>\n",
       "      <td>1774.0</td>\n",
       "      <td>1774.0</td>\n",
       "      <td>1765.0</td>\n",
       "      <td>1774.0</td>\n",
       "      <td>1774.0</td>\n",
       "      <td>...</td>\n",
       "      <td>2578863.6</td>\n",
       "      <td>1.973724e+06</td>\n",
       "      <td>3.177966e+06</td>\n",
       "      <td>1.335148e+06</td>\n",
       "      <td>1.506368e+06</td>\n",
       "      <td>5.627058e+09</td>\n",
       "      <td>4.540902e+09</td>\n",
       "      <td>3.433456e+09</td>\n",
       "      <td>2.263844e+09</td>\n",
       "      <td>2.554715e+09</td>\n",
       "    </tr>\n",
       "    <tr>\n",
       "      <th>2022-09-10</th>\n",
       "      <td>LKGH</td>\n",
       "      <td>Ghadir Kh. L.-a</td>\n",
       "      <td>ولغدر</td>\n",
       "      <td>ليزينگ‌خودروغدير-ت</td>\n",
       "      <td>14010619</td>\n",
       "      <td>3479.0</td>\n",
       "      <td>3479.0</td>\n",
       "      <td>3361.0</td>\n",
       "      <td>3479.0</td>\n",
       "      <td>3474.0</td>\n",
       "      <td>...</td>\n",
       "      <td>13377964.8</td>\n",
       "      <td>9.358284e+06</td>\n",
       "      <td>2.079674e+07</td>\n",
       "      <td>4.605702e+06</td>\n",
       "      <td>2.832321e+06</td>\n",
       "      <td>7.207660e+10</td>\n",
       "      <td>4.608398e+10</td>\n",
       "      <td>4.019925e+10</td>\n",
       "      <td>2.446085e+10</td>\n",
       "      <td>1.684617e+10</td>\n",
       "    </tr>\n",
       "  </tbody>\n",
       "</table>\n",
       "<p>19 rows × 25 columns</p>\n",
       "</div>"
      ],
      "text/plain": [
       "           ent code                  name     namad  \\\n",
       "2022-09-10     TB77  TreasuryBill230109-a   اخزا902   \n",
       "2022-09-10     TB83  TreasuryBill230828-a   اخزا908   \n",
       "2022-09-10     TB91  TreasuryBill230819-a   اخزا916   \n",
       "2022-09-10     SALF  AminTadbirFardaETF-a     الماس   \n",
       "2022-09-10     TOSZ               TOSAN-a      توسن   \n",
       "2022-09-10     KSHJ    S*IRI Marine Co.-a     حکشتی   \n",
       "2022-09-10     KKHP  S*Kerman Khodro E.-a    خکرمان   \n",
       "2022-09-10     INFO       Inf. Services-a    رانفور   \n",
       "2022-09-10     ZAKF    Zarin Korosh ETF-a      زرین   \n",
       "2022-09-10     BTEJ     BTEJ-O-14010720-a  طجار7047   \n",
       "2022-09-10     BTEJ     BTEJ-O-14010720-a  طجار7048   \n",
       "2022-09-10     SEPA       Sepahan Group-a      فسپا   \n",
       "2022-09-10     ALMR             Alomrad-a     فمراد   \n",
       "2022-09-10     PYAP          Payam Ind.-a     لپیام   \n",
       "2022-09-10     BVMA         Bime Ma Co.-a        ما   \n",
       "2022-09-10     NEHF          Neshan ETF-a      نشان   \n",
       "2022-09-10     ARSP        Aras Invest.-a      وارس   \n",
       "2022-09-10     VIRP      Iran Inds. Co.-a     وایرا   \n",
       "2022-09-10     LKGH       Ghadir Kh. L.-a     ولغدر   \n",
       "\n",
       "                                         nam    j-date      open      high  \\\n",
       "2022-09-10     اسنادخزانه-م2بودجه99-011019-ت  14010619  937000.0  937000.0   \n",
       "2022-09-10     اسنادخزانه-م8بودجه99-020606-ت  14010619  828870.0  829430.0   \n",
       "2022-09-10    اسنادخزانه-م16بودجه99-020528-ت  14010619  842180.0  842180.0   \n",
       "2022-09-10   صندوق_س.امين_تدبيرگران_فردا-س-ت  14010619  111000.0  114000.0   \n",
       "2022-09-10  توسعه_سامانه_ي_نرم_افزاري_نگين-ت  14010619   14990.0   15520.0   \n",
       "2022-09-10    كشتيراني_جمهوري_اسلامي_ايران-ت  14010619   23510.0   23510.0   \n",
       "2022-09-10        گروه_اقتصادي_كرمان_خودرو-ت  14010619    3648.0    3648.0   \n",
       "2022-09-10               خدمات‌انفورماتيك‌-ت  14010619    3930.0    4049.0   \n",
       "2022-09-10      صندوق_س._سهام_زرين_كوروش-س-ت  14010619   12000.0   12288.0   \n",
       "2022-09-10  اختيارف_وتجارت-1700-1401/07/20-ت  14010619     200.0     200.0   \n",
       "2022-09-10  اختيارف_وتجارت-1800-1401/07/20-ت  14010619     250.0     250.0   \n",
       "2022-09-10              گروه‌صنعتي‌سپاهان‌-ت  14010619   12120.0   12780.0   \n",
       "2022-09-10                         آلومراد-ت  14010619   36490.0   36490.0   \n",
       "2022-09-10                گسترش_صنايع_پيام-ت  14010619   20900.0   20900.0   \n",
       "2022-09-10                        بيمه__ما-ت  14010619    4200.0    4200.0   \n",
       "2022-09-10           صندوق_س._نشان_هامرز-د-ت  14010619   10696.0   10696.0   \n",
       "2022-09-10            سرمايه_گذاري_ارس_صبا-ت  14010619   14570.0   14700.0   \n",
       "2022-09-10        سرمايه_گذاري_صنايع_ايران-ت  14010619    1774.0    1774.0   \n",
       "2022-09-10                ليزينگ‌خودروغدير-ت  14010619    3479.0    3479.0   \n",
       "\n",
       "                 low      last     close  ...  volume MA 5   volume MA 9  \\\n",
       "2022-09-10  935220.0  936500.0  936910.0  ...      28700.0  2.518889e+04   \n",
       "2022-09-10  828000.0  829430.0  829330.0  ...      28160.0  2.363333e+04   \n",
       "2022-09-10  842180.0  842180.0  842180.0  ...      12409.8  9.119333e+03   \n",
       "2022-09-10  111000.0  111000.0  112097.0  ...      13507.4  1.236522e+04   \n",
       "2022-09-10   14550.0   15520.0   15320.0  ...    2606217.0  1.957540e+06   \n",
       "2022-09-10   22560.0   22570.0   22570.0  ...   14556392.4  1.709113e+07   \n",
       "2022-09-10    3583.0    3648.0    3647.0  ...   14766569.0  1.165854e+07   \n",
       "2022-09-10    3840.0    4049.0    4023.0  ...    2740031.4  2.704766e+06   \n",
       "2022-09-10   11930.0   11950.0   12086.0  ...     117864.0  9.022900e+04   \n",
       "2022-09-10     150.0     175.0     159.0  ...        245.0  2.534444e+02   \n",
       "2022-09-10     250.0     250.0     250.0  ...         95.0  1.094444e+02   \n",
       "2022-09-10   12060.0   12740.0   12700.0  ...    2043877.0  1.959336e+06   \n",
       "2022-09-10   35100.0   36490.0   36380.0  ...    3370295.6  4.324636e+06   \n",
       "2022-09-10   19750.0   19900.0   20450.0  ...     529650.6  4.918641e+05   \n",
       "2022-09-10    3990.0    4027.0    4074.0  ...    1084562.8  7.911029e+05   \n",
       "2022-09-10   10695.0   10695.0   10695.0  ...    1744761.2  1.517598e+06   \n",
       "2022-09-10   14300.0   14620.0   14680.0  ...    1756500.6  1.555547e+06   \n",
       "2022-09-10    1765.0    1774.0    1774.0  ...    2578863.6  1.973724e+06   \n",
       "2022-09-10    3361.0    3479.0    3474.0  ...   13377964.8  9.358284e+06   \n",
       "\n",
       "             volume MA 3  volume MA 26  volume MA 52    value MA 3  \\\n",
       "2022-09-10  4.353333e+04  2.692308e+04  4.750385e+04  4.077619e+10   \n",
       "2022-09-10  3.763333e+04  1.716538e+04  4.509423e+04  3.120696e+10   \n",
       "2022-09-10  1.833533e+04  6.203263e+03  6.203263e+03  1.541292e+10   \n",
       "2022-09-10  2.065900e+04  1.207558e+04  1.582867e+04  2.315368e+09   \n",
       "2022-09-10  3.788956e+06  1.314413e+06  1.201066e+06  5.849467e+10   \n",
       "2022-09-10  1.924198e+07  1.659934e+07  2.091673e+07  4.410619e+11   \n",
       "2022-09-10  2.159768e+07  1.558829e+07  1.438011e+07  7.805133e+10   \n",
       "2022-09-10  3.020928e+06  3.143687e+06  3.256747e+06  1.205973e+10   \n",
       "2022-09-10  1.429957e+05  1.223091e+05  1.599467e+05  1.728267e+09   \n",
       "2022-09-10  3.613333e+02  2.326500e+02  2.326500e+02  5.696067e+07   \n",
       "2022-09-10  4.500000e+01  1.094444e+02  1.094444e+02  1.005000e+07   \n",
       "2022-09-10  2.762092e+06  1.896542e+06  2.539176e+06  3.473359e+10   \n",
       "2022-09-10  4.610454e+06  4.522374e+06  4.691466e+06  1.645106e+11   \n",
       "2022-09-10  6.775173e+05  7.064774e+05  6.051614e+05  1.384189e+10   \n",
       "2022-09-10  1.246797e+06  1.119822e+06  1.033075e+06  5.066715e+09   \n",
       "2022-09-10  2.835160e+06  1.734342e+06  3.419311e+06  3.031991e+10   \n",
       "2022-09-10  1.885022e+06  1.644303e+06  1.476817e+06  2.738336e+10   \n",
       "2022-09-10  3.177966e+06  1.335148e+06  1.506368e+06  5.627058e+09   \n",
       "2022-09-10  2.079674e+07  4.605702e+06  2.832321e+06  7.207660e+10   \n",
       "\n",
       "              value MA 5    value MA 9   value MA 26   value MA 52  \n",
       "2022-09-10  2.687331e+10  2.352258e+10  2.494468e+10  4.336457e+10  \n",
       "2022-09-10  2.332243e+10  1.953626e+10  1.408507e+10  3.614158e+10  \n",
       "2022-09-10  1.035659e+10  7.508267e+09  4.911234e+09  4.911234e+09  \n",
       "2022-09-10  1.513163e+09  1.393643e+09  1.330181e+09  1.777295e+09  \n",
       "2022-09-10  4.178938e+10  3.372620e+10  2.487222e+10  2.360080e+10  \n",
       "2022-09-10  3.382885e+11  4.153053e+11  3.963030e+11  4.603504e+11  \n",
       "2022-09-10  5.289414e+10  4.149542e+10  5.428829e+10  4.874815e+10  \n",
       "2022-09-10  1.096140e+10  1.088318e+10  1.251370e+10  1.277916e+10  \n",
       "2022-09-10  1.429458e+09  1.098126e+09  1.509757e+09  2.021369e+09  \n",
       "2022-09-10  3.640440e+07  2.872356e+07  2.106390e+07  2.106390e+07  \n",
       "2022-09-10  1.217700e+07  1.131500e+07  1.131500e+07  1.131500e+07  \n",
       "2022-09-10  2.554138e+10  2.438707e+10  2.336534e+10  3.636972e+10  \n",
       "2022-09-10  1.174229e+11  1.386712e+11  1.277141e+11  1.423153e+11  \n",
       "2022-09-10  1.073666e+10  9.702992e+09  1.341095e+10  1.191397e+10  \n",
       "2022-09-10  4.463704e+09  3.277638e+09  4.610356e+09  4.342648e+09  \n",
       "2022-09-10  1.865754e+10  1.619120e+10  1.838127e+10  3.493847e+10  \n",
       "2022-09-10  2.477937e+10  2.135628e+10  2.186030e+10  1.995732e+10  \n",
       "2022-09-10  4.540902e+09  3.433456e+09  2.263844e+09  2.554715e+09  \n",
       "2022-09-10  4.608398e+10  4.019925e+10  2.446085e+10  1.684617e+10  \n",
       "\n",
       "[19 rows x 25 columns]"
      ]
     },
     "execution_count": 6,
     "metadata": {},
     "output_type": "execute_result"
    }
   ],
   "source": [
    "high_value = op.filter_by_value(instrument_tickers=instruments_traded_today, database=data, factor=2, make_df=True)\n",
    "high_value\n"
   ]
  },
  {
   "cell_type": "code",
   "execution_count": 13,
   "metadata": {},
   "outputs": [
    {
     "data": {
      "application/vnd.plotly.v1+json": {
       "config": {
        "displaylogo": false,
        "modeBarButtonsToAdd": [
         "drawline",
         "drawopenpath",
         "dreawclosedpath",
         "drawcircle",
         "drawrect",
         "eraseshape"
        ],
        "modeBarButtonsToRemove": [
         "zoomout",
         "zoomin"
        ],
        "plotlyServerURL": "https://plot.ly",
        "scrollZoom": true
       },
       "data": [
        {
         "alignmentgroup": "True",
         "hovertemplate": "variable=value traded<br>namad=%{x}<br>value=%{y}<extra></extra>",
         "legendgroup": "value traded",
         "marker": {
          "color": "#636efa",
          "pattern": {
           "shape": ""
          }
         },
         "name": "value traded",
         "offsetgroup": "value traded",
         "orientation": "v",
         "showlegend": true,
         "textposition": "auto",
         "type": "bar",
         "x": [
          "اخزا902",
          "اخزا908",
          "اخزا916",
          "الماس",
          "توسن",
          "حکشتی",
          "خکرمان",
          "رانفور",
          "زرین",
          "طجار7047",
          "طجار7048",
          "فسپا",
          "فمراد",
          "لپیام",
          "ما",
          "نشان",
          "وارس",
          "وایرا",
          "ولغدر"
         ],
         "xaxis": "x",
         "y": [
          104184295000,
          91143786000,
          42109000000,
          6591765720,
          119073080020,
          940889400850,
          177901546386,
          28134827067,
          4274229126,
          140542000,
          25000000,
          80830936760,
          345909932310,
          29912162400,
          10923101953,
          86841297675,
          60799673280,
          12944970498,
          202684293532
         ],
         "yaxis": "y"
        },
        {
         "alignmentgroup": "True",
         "hovertemplate": "variable=value MA 3<br>namad=%{x}<br>value=%{y}<extra></extra>",
         "legendgroup": "value MA 3",
         "marker": {
          "color": "#EF553B",
          "pattern": {
           "shape": ""
          }
         },
         "name": "value MA 3",
         "offsetgroup": "value MA 3",
         "orientation": "v",
         "showlegend": true,
         "textposition": "auto",
         "type": "bar",
         "x": [
          "اخزا902",
          "اخزا908",
          "اخزا916",
          "الماس",
          "توسن",
          "حکشتی",
          "خکرمان",
          "رانفور",
          "زرین",
          "طجار7047",
          "طجار7048",
          "فسپا",
          "فمراد",
          "لپیام",
          "ما",
          "نشان",
          "وارس",
          "وایرا",
          "ولغدر"
         ],
         "xaxis": "x",
         "y": [
          40776193666.666664,
          31206963333.333332,
          15412915983.333334,
          2315368235,
          58494666696.666664,
          441061863016.6667,
          78051329568.66667,
          12059726754.333334,
          1728267384.6666667,
          56960666.666666664,
          10050000,
          34733590353.333336,
          164510628183.33334,
          13841889506.666666,
          5066715479.666667,
          30319906596.333332,
          27383362133.333332,
          5627057662,
          72076602343
         ],
         "yaxis": "y"
        },
        {
         "alignmentgroup": "True",
         "hovertemplate": "variable=value MA 5<br>namad=%{x}<br>value=%{y}<extra></extra>",
         "legendgroup": "value MA 5",
         "marker": {
          "color": "#00cc96",
          "pattern": {
           "shape": ""
          }
         },
         "name": "value MA 5",
         "offsetgroup": "value MA 5",
         "orientation": "v",
         "showlegend": true,
         "textposition": "auto",
         "type": "bar",
         "x": [
          "اخزا902",
          "اخزا908",
          "اخزا916",
          "الماس",
          "توسن",
          "حکشتی",
          "خکرمان",
          "رانفور",
          "زرین",
          "طجار7047",
          "طجار7048",
          "فسپا",
          "فمراد",
          "لپیام",
          "ما",
          "نشان",
          "وارس",
          "وایرا",
          "ولغدر"
         ],
         "xaxis": "x",
         "y": [
          26873309200,
          23322430800,
          10356585424,
          1513162829.8,
          41789377968,
          338288475040,
          52894136242.8,
          10961396438,
          1429457955,
          36404400,
          12177000,
          25541375514,
          117422854016,
          10736655252,
          4463703848,
          18657536677.4,
          24779365184,
          4540901611.2,
          46083978274.2
         ],
         "yaxis": "y"
        },
        {
         "alignmentgroup": "True",
         "hovertemplate": "variable=value MA 9<br>namad=%{x}<br>value=%{y}<extra></extra>",
         "legendgroup": "value MA 9",
         "marker": {
          "color": "#ab63fa",
          "pattern": {
           "shape": ""
          }
         },
         "name": "value MA 9",
         "offsetgroup": "value MA 9",
         "orientation": "v",
         "showlegend": true,
         "textposition": "auto",
         "type": "bar",
         "x": [
          "اخزا902",
          "اخزا908",
          "اخزا916",
          "الماس",
          "توسن",
          "حکشتی",
          "خکرمان",
          "رانفور",
          "زرین",
          "طجار7047",
          "طجار7048",
          "فسپا",
          "فمراد",
          "لپیام",
          "ما",
          "نشان",
          "وارس",
          "وایرا",
          "ولغدر"
         ],
         "xaxis": "x",
         "y": [
          23522577555.555557,
          19536261777.77778,
          7508266980,
          1393643233,
          33726198404.444443,
          415305310827.7778,
          41495424307.333336,
          10883175646.222221,
          1098125781.5555556,
          28723555.555555556,
          11315000,
          24387074913.333332,
          138671207742.22223,
          9702992074.444445,
          3277638488.5555553,
          16191195119.11111,
          21356282922.22222,
          3433455798,
          40199246814.55556
         ],
         "yaxis": "y"
        },
        {
         "alignmentgroup": "True",
         "hovertemplate": "variable=value MA 26<br>namad=%{x}<br>value=%{y}<extra></extra>",
         "legendgroup": "value MA 26",
         "marker": {
          "color": "#FFA15A",
          "pattern": {
           "shape": ""
          }
         },
         "name": "value MA 26",
         "offsetgroup": "value MA 26",
         "orientation": "v",
         "showlegend": true,
         "textposition": "auto",
         "type": "bar",
         "x": [
          "اخزا902",
          "اخزا908",
          "اخزا916",
          "الماس",
          "توسن",
          "حکشتی",
          "خکرمان",
          "رانفور",
          "زرین",
          "طجار7047",
          "طجار7048",
          "فسپا",
          "فمراد",
          "لپیام",
          "ما",
          "نشان",
          "وارس",
          "وایرا",
          "ولغدر"
         ],
         "xaxis": "x",
         "y": [
          24944677269.23077,
          14085068653.846153,
          4911234200.105263,
          1330180864.7307692,
          24872222230.384617,
          396302961666.53845,
          54288290426.96154,
          12513695507.807692,
          1509757398.6153846,
          21063900,
          11315000,
          23365337310,
          127714078972.6923,
          13410952841.538462,
          4610355772.730769,
          18381269409.46154,
          21860297032.692307,
          2263843672.8076925,
          24460845545.423077
         ],
         "yaxis": "y"
        }
       ],
       "layout": {
        "barmode": "group",
        "legend": {
         "title": {
          "text": "variable"
         },
         "tracegroupgap": 0
        },
        "margin": {
         "t": 60
        },
        "template": {
         "data": {
          "bar": [
           {
            "error_x": {
             "color": "#f2f5fa"
            },
            "error_y": {
             "color": "#f2f5fa"
            },
            "marker": {
             "line": {
              "color": "rgb(17,17,17)",
              "width": 0.5
             },
             "pattern": {
              "fillmode": "overlay",
              "size": 10,
              "solidity": 0.2
             }
            },
            "type": "bar"
           }
          ],
          "barpolar": [
           {
            "marker": {
             "line": {
              "color": "rgb(17,17,17)",
              "width": 0.5
             },
             "pattern": {
              "fillmode": "overlay",
              "size": 10,
              "solidity": 0.2
             }
            },
            "type": "barpolar"
           }
          ],
          "carpet": [
           {
            "aaxis": {
             "endlinecolor": "#A2B1C6",
             "gridcolor": "#506784",
             "linecolor": "#506784",
             "minorgridcolor": "#506784",
             "startlinecolor": "#A2B1C6"
            },
            "baxis": {
             "endlinecolor": "#A2B1C6",
             "gridcolor": "#506784",
             "linecolor": "#506784",
             "minorgridcolor": "#506784",
             "startlinecolor": "#A2B1C6"
            },
            "type": "carpet"
           }
          ],
          "choropleth": [
           {
            "colorbar": {
             "outlinewidth": 0,
             "ticks": ""
            },
            "type": "choropleth"
           }
          ],
          "contour": [
           {
            "colorbar": {
             "outlinewidth": 0,
             "ticks": ""
            },
            "colorscale": [
             [
              0,
              "#0d0887"
             ],
             [
              0.1111111111111111,
              "#46039f"
             ],
             [
              0.2222222222222222,
              "#7201a8"
             ],
             [
              0.3333333333333333,
              "#9c179e"
             ],
             [
              0.4444444444444444,
              "#bd3786"
             ],
             [
              0.5555555555555556,
              "#d8576b"
             ],
             [
              0.6666666666666666,
              "#ed7953"
             ],
             [
              0.7777777777777778,
              "#fb9f3a"
             ],
             [
              0.8888888888888888,
              "#fdca26"
             ],
             [
              1,
              "#f0f921"
             ]
            ],
            "type": "contour"
           }
          ],
          "contourcarpet": [
           {
            "colorbar": {
             "outlinewidth": 0,
             "ticks": ""
            },
            "type": "contourcarpet"
           }
          ],
          "heatmap": [
           {
            "colorbar": {
             "outlinewidth": 0,
             "ticks": ""
            },
            "colorscale": [
             [
              0,
              "#0d0887"
             ],
             [
              0.1111111111111111,
              "#46039f"
             ],
             [
              0.2222222222222222,
              "#7201a8"
             ],
             [
              0.3333333333333333,
              "#9c179e"
             ],
             [
              0.4444444444444444,
              "#bd3786"
             ],
             [
              0.5555555555555556,
              "#d8576b"
             ],
             [
              0.6666666666666666,
              "#ed7953"
             ],
             [
              0.7777777777777778,
              "#fb9f3a"
             ],
             [
              0.8888888888888888,
              "#fdca26"
             ],
             [
              1,
              "#f0f921"
             ]
            ],
            "type": "heatmap"
           }
          ],
          "heatmapgl": [
           {
            "colorbar": {
             "outlinewidth": 0,
             "ticks": ""
            },
            "colorscale": [
             [
              0,
              "#0d0887"
             ],
             [
              0.1111111111111111,
              "#46039f"
             ],
             [
              0.2222222222222222,
              "#7201a8"
             ],
             [
              0.3333333333333333,
              "#9c179e"
             ],
             [
              0.4444444444444444,
              "#bd3786"
             ],
             [
              0.5555555555555556,
              "#d8576b"
             ],
             [
              0.6666666666666666,
              "#ed7953"
             ],
             [
              0.7777777777777778,
              "#fb9f3a"
             ],
             [
              0.8888888888888888,
              "#fdca26"
             ],
             [
              1,
              "#f0f921"
             ]
            ],
            "type": "heatmapgl"
           }
          ],
          "histogram": [
           {
            "marker": {
             "pattern": {
              "fillmode": "overlay",
              "size": 10,
              "solidity": 0.2
             }
            },
            "type": "histogram"
           }
          ],
          "histogram2d": [
           {
            "colorbar": {
             "outlinewidth": 0,
             "ticks": ""
            },
            "colorscale": [
             [
              0,
              "#0d0887"
             ],
             [
              0.1111111111111111,
              "#46039f"
             ],
             [
              0.2222222222222222,
              "#7201a8"
             ],
             [
              0.3333333333333333,
              "#9c179e"
             ],
             [
              0.4444444444444444,
              "#bd3786"
             ],
             [
              0.5555555555555556,
              "#d8576b"
             ],
             [
              0.6666666666666666,
              "#ed7953"
             ],
             [
              0.7777777777777778,
              "#fb9f3a"
             ],
             [
              0.8888888888888888,
              "#fdca26"
             ],
             [
              1,
              "#f0f921"
             ]
            ],
            "type": "histogram2d"
           }
          ],
          "histogram2dcontour": [
           {
            "colorbar": {
             "outlinewidth": 0,
             "ticks": ""
            },
            "colorscale": [
             [
              0,
              "#0d0887"
             ],
             [
              0.1111111111111111,
              "#46039f"
             ],
             [
              0.2222222222222222,
              "#7201a8"
             ],
             [
              0.3333333333333333,
              "#9c179e"
             ],
             [
              0.4444444444444444,
              "#bd3786"
             ],
             [
              0.5555555555555556,
              "#d8576b"
             ],
             [
              0.6666666666666666,
              "#ed7953"
             ],
             [
              0.7777777777777778,
              "#fb9f3a"
             ],
             [
              0.8888888888888888,
              "#fdca26"
             ],
             [
              1,
              "#f0f921"
             ]
            ],
            "type": "histogram2dcontour"
           }
          ],
          "mesh3d": [
           {
            "colorbar": {
             "outlinewidth": 0,
             "ticks": ""
            },
            "type": "mesh3d"
           }
          ],
          "parcoords": [
           {
            "line": {
             "colorbar": {
              "outlinewidth": 0,
              "ticks": ""
             }
            },
            "type": "parcoords"
           }
          ],
          "pie": [
           {
            "automargin": true,
            "type": "pie"
           }
          ],
          "scatter": [
           {
            "marker": {
             "line": {
              "color": "#283442"
             }
            },
            "type": "scatter"
           }
          ],
          "scatter3d": [
           {
            "line": {
             "colorbar": {
              "outlinewidth": 0,
              "ticks": ""
             }
            },
            "marker": {
             "colorbar": {
              "outlinewidth": 0,
              "ticks": ""
             }
            },
            "type": "scatter3d"
           }
          ],
          "scattercarpet": [
           {
            "marker": {
             "colorbar": {
              "outlinewidth": 0,
              "ticks": ""
             }
            },
            "type": "scattercarpet"
           }
          ],
          "scattergeo": [
           {
            "marker": {
             "colorbar": {
              "outlinewidth": 0,
              "ticks": ""
             }
            },
            "type": "scattergeo"
           }
          ],
          "scattergl": [
           {
            "marker": {
             "line": {
              "color": "#283442"
             }
            },
            "type": "scattergl"
           }
          ],
          "scattermapbox": [
           {
            "marker": {
             "colorbar": {
              "outlinewidth": 0,
              "ticks": ""
             }
            },
            "type": "scattermapbox"
           }
          ],
          "scatterpolar": [
           {
            "marker": {
             "colorbar": {
              "outlinewidth": 0,
              "ticks": ""
             }
            },
            "type": "scatterpolar"
           }
          ],
          "scatterpolargl": [
           {
            "marker": {
             "colorbar": {
              "outlinewidth": 0,
              "ticks": ""
             }
            },
            "type": "scatterpolargl"
           }
          ],
          "scatterternary": [
           {
            "marker": {
             "colorbar": {
              "outlinewidth": 0,
              "ticks": ""
             }
            },
            "type": "scatterternary"
           }
          ],
          "surface": [
           {
            "colorbar": {
             "outlinewidth": 0,
             "ticks": ""
            },
            "colorscale": [
             [
              0,
              "#0d0887"
             ],
             [
              0.1111111111111111,
              "#46039f"
             ],
             [
              0.2222222222222222,
              "#7201a8"
             ],
             [
              0.3333333333333333,
              "#9c179e"
             ],
             [
              0.4444444444444444,
              "#bd3786"
             ],
             [
              0.5555555555555556,
              "#d8576b"
             ],
             [
              0.6666666666666666,
              "#ed7953"
             ],
             [
              0.7777777777777778,
              "#fb9f3a"
             ],
             [
              0.8888888888888888,
              "#fdca26"
             ],
             [
              1,
              "#f0f921"
             ]
            ],
            "type": "surface"
           }
          ],
          "table": [
           {
            "cells": {
             "fill": {
              "color": "#506784"
             },
             "line": {
              "color": "rgb(17,17,17)"
             }
            },
            "header": {
             "fill": {
              "color": "#2a3f5f"
             },
             "line": {
              "color": "rgb(17,17,17)"
             }
            },
            "type": "table"
           }
          ]
         },
         "layout": {
          "annotationdefaults": {
           "arrowcolor": "#f2f5fa",
           "arrowhead": 0,
           "arrowwidth": 1
          },
          "autotypenumbers": "strict",
          "coloraxis": {
           "colorbar": {
            "outlinewidth": 0,
            "ticks": ""
           }
          },
          "colorscale": {
           "diverging": [
            [
             0,
             "#8e0152"
            ],
            [
             0.1,
             "#c51b7d"
            ],
            [
             0.2,
             "#de77ae"
            ],
            [
             0.3,
             "#f1b6da"
            ],
            [
             0.4,
             "#fde0ef"
            ],
            [
             0.5,
             "#f7f7f7"
            ],
            [
             0.6,
             "#e6f5d0"
            ],
            [
             0.7,
             "#b8e186"
            ],
            [
             0.8,
             "#7fbc41"
            ],
            [
             0.9,
             "#4d9221"
            ],
            [
             1,
             "#276419"
            ]
           ],
           "sequential": [
            [
             0,
             "#0d0887"
            ],
            [
             0.1111111111111111,
             "#46039f"
            ],
            [
             0.2222222222222222,
             "#7201a8"
            ],
            [
             0.3333333333333333,
             "#9c179e"
            ],
            [
             0.4444444444444444,
             "#bd3786"
            ],
            [
             0.5555555555555556,
             "#d8576b"
            ],
            [
             0.6666666666666666,
             "#ed7953"
            ],
            [
             0.7777777777777778,
             "#fb9f3a"
            ],
            [
             0.8888888888888888,
             "#fdca26"
            ],
            [
             1,
             "#f0f921"
            ]
           ],
           "sequentialminus": [
            [
             0,
             "#0d0887"
            ],
            [
             0.1111111111111111,
             "#46039f"
            ],
            [
             0.2222222222222222,
             "#7201a8"
            ],
            [
             0.3333333333333333,
             "#9c179e"
            ],
            [
             0.4444444444444444,
             "#bd3786"
            ],
            [
             0.5555555555555556,
             "#d8576b"
            ],
            [
             0.6666666666666666,
             "#ed7953"
            ],
            [
             0.7777777777777778,
             "#fb9f3a"
            ],
            [
             0.8888888888888888,
             "#fdca26"
            ],
            [
             1,
             "#f0f921"
            ]
           ]
          },
          "colorway": [
           "#636efa",
           "#EF553B",
           "#00cc96",
           "#ab63fa",
           "#FFA15A",
           "#19d3f3",
           "#FF6692",
           "#B6E880",
           "#FF97FF",
           "#FECB52"
          ],
          "font": {
           "color": "#f2f5fa"
          },
          "geo": {
           "bgcolor": "rgb(17,17,17)",
           "lakecolor": "rgb(17,17,17)",
           "landcolor": "rgb(17,17,17)",
           "showlakes": true,
           "showland": true,
           "subunitcolor": "#506784"
          },
          "hoverlabel": {
           "align": "left"
          },
          "hovermode": "closest",
          "mapbox": {
           "style": "dark"
          },
          "paper_bgcolor": "rgb(17,17,17)",
          "plot_bgcolor": "rgb(17,17,17)",
          "polar": {
           "angularaxis": {
            "gridcolor": "#506784",
            "linecolor": "#506784",
            "ticks": ""
           },
           "bgcolor": "rgb(17,17,17)",
           "radialaxis": {
            "gridcolor": "#506784",
            "linecolor": "#506784",
            "ticks": ""
           }
          },
          "scene": {
           "xaxis": {
            "backgroundcolor": "rgb(17,17,17)",
            "gridcolor": "#506784",
            "gridwidth": 2,
            "linecolor": "#506784",
            "showbackground": true,
            "ticks": "",
            "zerolinecolor": "#C8D4E3"
           },
           "yaxis": {
            "backgroundcolor": "rgb(17,17,17)",
            "gridcolor": "#506784",
            "gridwidth": 2,
            "linecolor": "#506784",
            "showbackground": true,
            "ticks": "",
            "zerolinecolor": "#C8D4E3"
           },
           "zaxis": {
            "backgroundcolor": "rgb(17,17,17)",
            "gridcolor": "#506784",
            "gridwidth": 2,
            "linecolor": "#506784",
            "showbackground": true,
            "ticks": "",
            "zerolinecolor": "#C8D4E3"
           }
          },
          "shapedefaults": {
           "line": {
            "color": "#f2f5fa"
           }
          },
          "sliderdefaults": {
           "bgcolor": "#C8D4E3",
           "bordercolor": "rgb(17,17,17)",
           "borderwidth": 1,
           "tickwidth": 0
          },
          "ternary": {
           "aaxis": {
            "gridcolor": "#506784",
            "linecolor": "#506784",
            "ticks": ""
           },
           "baxis": {
            "gridcolor": "#506784",
            "linecolor": "#506784",
            "ticks": ""
           },
           "bgcolor": "rgb(17,17,17)",
           "caxis": {
            "gridcolor": "#506784",
            "linecolor": "#506784",
            "ticks": ""
           }
          },
          "title": {
           "x": 0.05
          },
          "updatemenudefaults": {
           "bgcolor": "#506784",
           "borderwidth": 0
          },
          "xaxis": {
           "automargin": true,
           "gridcolor": "#283442",
           "linecolor": "#506784",
           "ticks": "",
           "title": {
            "standoff": 15
           },
           "zerolinecolor": "#283442",
           "zerolinewidth": 2
          },
          "yaxis": {
           "automargin": true,
           "gridcolor": "#283442",
           "linecolor": "#506784",
           "ticks": "",
           "title": {
            "standoff": 15
           },
           "zerolinecolor": "#283442",
           "zerolinewidth": 2
          }
         }
        },
        "xaxis": {
         "anchor": "y",
         "domain": [
          0,
          1
         ],
         "tickfont": {
          "family": "a iranian sans",
          "size": 12
         },
         "title": {
          "font": {
           "family": "a iranian sans",
           "size": 20
          },
          "text": "نماد"
         }
        },
        "yaxis": {
         "anchor": "x",
         "domain": [
          0,
          1
         ],
         "tickfont": {
          "family": "a iranian sans",
          "size": 12
         },
         "title": {
          "font": {
           "family": "a iranian sans",
           "size": 20
          },
          "text": "حجم"
         },
         "type": "linear"
        }
       }
      }
     },
     "metadata": {},
     "output_type": "display_data"
    }
   ],
   "source": [
    "high_value_plot = px.bar(high_value, 'namad', [\n",
    "    'value traded', 'value MA 3', 'value MA 5', 'value MA 9', 'value MA 26'], barmode='group')\n",
    "\n",
    "viz.beautify_chart(high_value_plot)\n",
    "high_value_plot.show(config=viz.config)\n"
   ]
  },
  {
   "attachments": {},
   "cell_type": "markdown",
   "metadata": {},
   "source": [
    "### Fundamentals (Amin)"
   ]
  },
  {
   "cell_type": "code",
   "execution_count": 2,
   "metadata": {},
   "outputs": [],
   "source": [
    "amin= pd.read_excel('D:/Alpar/assisstant/dash/inputs/amin.xlsx')\n",
    "amin.set_index('نماد',inplace=True)"
   ]
  },
  {
   "cell_type": "code",
   "execution_count": 3,
   "metadata": {},
   "outputs": [],
   "source": [
    "fund= pd.DataFrame()\n",
    "fund['eps ttm'] =amin['قیمت پایانی ریال'] / amin['P/E TTM']\n",
    "fund['eps f growth'] =amin['قیمت پایانی ریال'] / amin['P/E کارشناسی رشدی']\n",
    "fund['fiscal year ends on'] =amin['سال مالی منتهی به']\n",
    "fund['fiscal month'] = amin['آخرین ماه']\n",
    "fund['activity type'] = amin['نوع فعالیت']\n",
    "fund['firm'] = amin['شرکت']"
   ]
  },
  {
   "cell_type": "code",
   "execution_count": 4,
   "metadata": {},
   "outputs": [
    {
     "data": {
      "text/html": [
       "<div>\n",
       "<style scoped>\n",
       "    .dataframe tbody tr th:only-of-type {\n",
       "        vertical-align: middle;\n",
       "    }\n",
       "\n",
       "    .dataframe tbody tr th {\n",
       "        vertical-align: top;\n",
       "    }\n",
       "\n",
       "    .dataframe thead th {\n",
       "        text-align: right;\n",
       "    }\n",
       "</style>\n",
       "<table border=\"1\" class=\"dataframe\">\n",
       "  <thead>\n",
       "    <tr style=\"text-align: right;\">\n",
       "      <th></th>\n",
       "      <th>eps ttm</th>\n",
       "      <th>eps f growth</th>\n",
       "      <th>fiscal year ends on</th>\n",
       "      <th>fiscal month</th>\n",
       "      <th>activity type</th>\n",
       "      <th>firm</th>\n",
       "    </tr>\n",
       "    <tr>\n",
       "      <th>نماد</th>\n",
       "      <th></th>\n",
       "      <th></th>\n",
       "      <th></th>\n",
       "      <th></th>\n",
       "      <th></th>\n",
       "      <th></th>\n",
       "    </tr>\n",
       "  </thead>\n",
       "  <tbody>\n",
       "    <tr>\n",
       "      <th>فولاد</th>\n",
       "      <td>2411.474666</td>\n",
       "      <td>3779.639390</td>\n",
       "      <td>1401/12/29</td>\n",
       "      <td>M03</td>\n",
       "      <td>تولیدی</td>\n",
       "      <td>فولاد مبارکه اصفهان</td>\n",
       "    </tr>\n",
       "    <tr>\n",
       "      <th>فاسمین</th>\n",
       "      <td>3898.692333</td>\n",
       "      <td>8502.915714</td>\n",
       "      <td>1401/12/29</td>\n",
       "      <td>M03</td>\n",
       "      <td>تولیدی</td>\n",
       "      <td>کالسیمین</td>\n",
       "    </tr>\n",
       "    <tr>\n",
       "      <th>خراسان</th>\n",
       "      <td>18132.129959</td>\n",
       "      <td>42230.530878</td>\n",
       "      <td>1401/12/29</td>\n",
       "      <td>M03</td>\n",
       "      <td>تولیدی</td>\n",
       "      <td>پتروشیمی خراسان</td>\n",
       "    </tr>\n",
       "    <tr>\n",
       "      <th>شپدیس</th>\n",
       "      <td>28070.350333</td>\n",
       "      <td>43444.511091</td>\n",
       "      <td>1401/06/31</td>\n",
       "      <td>M09</td>\n",
       "      <td>تولیدی</td>\n",
       "      <td>پتروشیمی پردیس</td>\n",
       "    </tr>\n",
       "    <tr>\n",
       "      <th>شغدیر</th>\n",
       "      <td>15189.028462</td>\n",
       "      <td>22804.475874</td>\n",
       "      <td>1401/12/29</td>\n",
       "      <td>M03</td>\n",
       "      <td>تولیدی</td>\n",
       "      <td>پتروشیمی غدیر</td>\n",
       "    </tr>\n",
       "    <tr>\n",
       "      <th>...</th>\n",
       "      <td>...</td>\n",
       "      <td>...</td>\n",
       "      <td>...</td>\n",
       "      <td>...</td>\n",
       "      <td>...</td>\n",
       "      <td>...</td>\n",
       "    </tr>\n",
       "    <tr>\n",
       "      <th>مادیرا</th>\n",
       "      <td>138.786268</td>\n",
       "      <td>NaN</td>\n",
       "      <td>1401/12/29</td>\n",
       "      <td>M03</td>\n",
       "      <td>تولیدی</td>\n",
       "      <td>صنایع ماشین های اداری ایران</td>\n",
       "    </tr>\n",
       "    <tr>\n",
       "      <th>لپارس</th>\n",
       "      <td>1382.043333</td>\n",
       "      <td>NaN</td>\n",
       "      <td>1401/12/29</td>\n",
       "      <td>M03</td>\n",
       "      <td>تولیدی</td>\n",
       "      <td>کارخانجات پارس الکتریک</td>\n",
       "    </tr>\n",
       "    <tr>\n",
       "      <th>کبافق</th>\n",
       "      <td>1247.232099</td>\n",
       "      <td>NaN</td>\n",
       "      <td>1401/12/29</td>\n",
       "      <td>M03</td>\n",
       "      <td>تولیدی</td>\n",
       "      <td>معادن بافق</td>\n",
       "    </tr>\n",
       "    <tr>\n",
       "      <th>تکنو</th>\n",
       "      <td>NaN</td>\n",
       "      <td>NaN</td>\n",
       "      <td>1401/12/29</td>\n",
       "      <td>M03</td>\n",
       "      <td>تولیدی</td>\n",
       "      <td>مهندسی تکنوتار</td>\n",
       "    </tr>\n",
       "    <tr>\n",
       "      <th>غنوش</th>\n",
       "      <td>539.202000</td>\n",
       "      <td>NaN</td>\n",
       "      <td>1401/12/29</td>\n",
       "      <td>M03</td>\n",
       "      <td>تولیدی</td>\n",
       "      <td>نوش مازندران</td>\n",
       "    </tr>\n",
       "  </tbody>\n",
       "</table>\n",
       "<p>361 rows × 6 columns</p>\n",
       "</div>"
      ],
      "text/plain": [
       "             eps ttm  eps f growth fiscal year ends on fiscal month  \\\n",
       "نماد                                                                  \n",
       "فولاد    2411.474666   3779.639390          1401/12/29          M03   \n",
       "فاسمین   3898.692333   8502.915714          1401/12/29          M03   \n",
       "خراسان  18132.129959  42230.530878          1401/12/29          M03   \n",
       "شپدیس   28070.350333  43444.511091          1401/06/31          M09   \n",
       "شغدیر   15189.028462  22804.475874          1401/12/29          M03   \n",
       "...              ...           ...                 ...          ...   \n",
       "مادیرا    138.786268           NaN          1401/12/29          M03   \n",
       "لپارس    1382.043333           NaN          1401/12/29          M03   \n",
       "کبافق    1247.232099           NaN          1401/12/29          M03   \n",
       "تکنو             NaN           NaN          1401/12/29          M03   \n",
       "غنوش      539.202000           NaN          1401/12/29          M03   \n",
       "\n",
       "       activity type                         firm  \n",
       "نماد                                               \n",
       "فولاد         تولیدی          فولاد مبارکه اصفهان  \n",
       "فاسمین        تولیدی                     کالسیمین  \n",
       "خراسان        تولیدی              پتروشیمی خراسان  \n",
       "شپدیس         تولیدی               پتروشیمی پردیس  \n",
       "شغدیر         تولیدی                پتروشیمی غدیر  \n",
       "...              ...                          ...  \n",
       "مادیرا        تولیدی  صنایع ماشین های اداری ایران  \n",
       "لپارس         تولیدی       کارخانجات پارس الکتریک  \n",
       "کبافق         تولیدی                   معادن بافق  \n",
       "تکنو          تولیدی               مهندسی تکنوتار  \n",
       "غنوش          تولیدی                 نوش مازندران  \n",
       "\n",
       "[361 rows x 6 columns]"
      ]
     },
     "execution_count": 4,
     "metadata": {},
     "output_type": "execute_result"
    }
   ],
   "source": [
    "fund"
   ]
  }
 ],
 "metadata": {
  "kernelspec": {
   "display_name": "Python 3.10.4 ('Bot')",
   "language": "python",
   "name": "python3"
  },
  "language_info": {
   "codemirror_mode": {
    "name": "ipython",
    "version": 3
   },
   "file_extension": ".py",
   "mimetype": "text/x-python",
   "name": "python",
   "nbconvert_exporter": "python",
   "pygments_lexer": "ipython3",
   "version": "3.10.4"
  },
  "orig_nbformat": 4,
  "vscode": {
   "interpreter": {
    "hash": "e668f4931914199fcaa2d9a5beed8397bdb535c7bd7e50f05ace4b0f3d65ced3"
   }
  }
 },
 "nbformat": 4,
 "nbformat_minor": 2
}
